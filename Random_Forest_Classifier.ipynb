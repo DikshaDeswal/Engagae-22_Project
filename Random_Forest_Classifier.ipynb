{
 "cells": [
  {
   "cell_type": "code",
   "execution_count": 1,
   "id": "73206019-79b1-4598-be89-bb908514d066",
   "metadata": {},
   "outputs": [],
   "source": [
    "import numpy as np \n",
    "import pandas as pd \n",
    "import seaborn as sns\n",
    "from matplotlib import pyplot as plt"
   ]
  },
  {
   "cell_type": "code",
   "execution_count": 2,
   "id": "94cf18ab-acbc-45e0-b682-616ce4117c31",
   "metadata": {},
   "outputs": [],
   "source": [
    "Beer_Data = pd.read_csv('train.csv')"
   ]
  },
  {
   "cell_type": "code",
   "execution_count": 3,
   "id": "43d15504-5058-49e3-9663-0f39d28943a8",
   "metadata": {},
   "outputs": [
    {
     "data": {
      "text/html": [
       "<div>\n",
       "<style scoped>\n",
       "    .dataframe tbody tr th:only-of-type {\n",
       "        vertical-align: middle;\n",
       "    }\n",
       "\n",
       "    .dataframe tbody tr th {\n",
       "        vertical-align: top;\n",
       "    }\n",
       "\n",
       "    .dataframe thead th {\n",
       "        text-align: right;\n",
       "    }\n",
       "</style>\n",
       "<table border=\"1\" class=\"dataframe\">\n",
       "  <thead>\n",
       "    <tr style=\"text-align: right;\">\n",
       "      <th></th>\n",
       "      <th>index</th>\n",
       "      <th>beer/ABV</th>\n",
       "      <th>beer/beerId</th>\n",
       "      <th>beer/brewerId</th>\n",
       "      <th>beer/name</th>\n",
       "      <th>beer/style</th>\n",
       "      <th>review/appearance</th>\n",
       "      <th>review/aroma</th>\n",
       "      <th>review/overall</th>\n",
       "      <th>review/palate</th>\n",
       "      <th>review/taste</th>\n",
       "      <th>review/text</th>\n",
       "      <th>review/timeStruct</th>\n",
       "      <th>review/timeUnix</th>\n",
       "      <th>user/ageInSeconds</th>\n",
       "      <th>user/birthdayRaw</th>\n",
       "      <th>user/birthdayUnix</th>\n",
       "      <th>user/gender</th>\n",
       "      <th>user/profileName</th>\n",
       "    </tr>\n",
       "  </thead>\n",
       "  <tbody>\n",
       "    <tr>\n",
       "      <th>0</th>\n",
       "      <td>40163</td>\n",
       "      <td>5.0</td>\n",
       "      <td>46634</td>\n",
       "      <td>14338</td>\n",
       "      <td>Chiostro</td>\n",
       "      <td>Herbed / Spiced Beer</td>\n",
       "      <td>4.0</td>\n",
       "      <td>4.0</td>\n",
       "      <td>4.0</td>\n",
       "      <td>4.0</td>\n",
       "      <td>4.0</td>\n",
       "      <td>Pours a clouded gold with a thin white head. N...</td>\n",
       "      <td>{'min': 38, 'hour': 3, 'mday': 16, 'sec': 10, ...</td>\n",
       "      <td>1229398690</td>\n",
       "      <td>NaN</td>\n",
       "      <td>NaN</td>\n",
       "      <td>NaN</td>\n",
       "      <td>NaN</td>\n",
       "      <td>RblWthACoz</td>\n",
       "    </tr>\n",
       "    <tr>\n",
       "      <th>1</th>\n",
       "      <td>8135</td>\n",
       "      <td>11.0</td>\n",
       "      <td>3003</td>\n",
       "      <td>395</td>\n",
       "      <td>Bearded Pat's Barleywine</td>\n",
       "      <td>American Barleywine</td>\n",
       "      <td>4.0</td>\n",
       "      <td>3.5</td>\n",
       "      <td>3.5</td>\n",
       "      <td>3.5</td>\n",
       "      <td>3.0</td>\n",
       "      <td>12oz bottle into 8oz snifter.\\t\\tDeep ruby red...</td>\n",
       "      <td>{'min': 38, 'hour': 23, 'mday': 8, 'sec': 58, ...</td>\n",
       "      <td>1218238738</td>\n",
       "      <td>NaN</td>\n",
       "      <td>NaN</td>\n",
       "      <td>NaN</td>\n",
       "      <td>NaN</td>\n",
       "      <td>BeerSox</td>\n",
       "    </tr>\n",
       "    <tr>\n",
       "      <th>2</th>\n",
       "      <td>10529</td>\n",
       "      <td>4.7</td>\n",
       "      <td>961</td>\n",
       "      <td>365</td>\n",
       "      <td>Naughty Nellie's Ale</td>\n",
       "      <td>American Pale Ale (APA)</td>\n",
       "      <td>3.5</td>\n",
       "      <td>4.0</td>\n",
       "      <td>3.5</td>\n",
       "      <td>3.5</td>\n",
       "      <td>3.5</td>\n",
       "      <td>First enjoyed at the brewpub about 2 years ago...</td>\n",
       "      <td>{'min': 7, 'hour': 18, 'mday': 26, 'sec': 2, '...</td>\n",
       "      <td>1101492422</td>\n",
       "      <td>NaN</td>\n",
       "      <td>NaN</td>\n",
       "      <td>NaN</td>\n",
       "      <td>Male</td>\n",
       "      <td>mschofield</td>\n",
       "    </tr>\n",
       "    <tr>\n",
       "      <th>3</th>\n",
       "      <td>44610</td>\n",
       "      <td>4.4</td>\n",
       "      <td>429</td>\n",
       "      <td>1</td>\n",
       "      <td>Pilsner Urquell</td>\n",
       "      <td>Czech Pilsener</td>\n",
       "      <td>3.0</td>\n",
       "      <td>3.0</td>\n",
       "      <td>2.5</td>\n",
       "      <td>3.0</td>\n",
       "      <td>3.0</td>\n",
       "      <td>First thing I noticed after pouring from green...</td>\n",
       "      <td>{'min': 7, 'hour': 1, 'mday': 20, 'sec': 5, 'y...</td>\n",
       "      <td>1308532025</td>\n",
       "      <td>1.209827e+09</td>\n",
       "      <td>Aug 10, 1976</td>\n",
       "      <td>208508400.0</td>\n",
       "      <td>Male</td>\n",
       "      <td>molegar76</td>\n",
       "    </tr>\n",
       "    <tr>\n",
       "      <th>4</th>\n",
       "      <td>37062</td>\n",
       "      <td>4.4</td>\n",
       "      <td>4904</td>\n",
       "      <td>1417</td>\n",
       "      <td>Black Sheep Ale (Special)</td>\n",
       "      <td>English Pale Ale</td>\n",
       "      <td>4.0</td>\n",
       "      <td>3.0</td>\n",
       "      <td>3.0</td>\n",
       "      <td>3.5</td>\n",
       "      <td>2.5</td>\n",
       "      <td>A: pours an amber with a one finger head but o...</td>\n",
       "      <td>{'min': 51, 'hour': 6, 'mday': 12, 'sec': 48, ...</td>\n",
       "      <td>1299912708</td>\n",
       "      <td>NaN</td>\n",
       "      <td>NaN</td>\n",
       "      <td>NaN</td>\n",
       "      <td>NaN</td>\n",
       "      <td>Brewbro000</td>\n",
       "    </tr>\n",
       "  </tbody>\n",
       "</table>\n",
       "</div>"
      ],
      "text/plain": [
       "   index  beer/ABV  beer/beerId  beer/brewerId                  beer/name  \\\n",
       "0  40163       5.0        46634          14338                   Chiostro   \n",
       "1   8135      11.0         3003            395   Bearded Pat's Barleywine   \n",
       "2  10529       4.7          961            365       Naughty Nellie's Ale   \n",
       "3  44610       4.4          429              1            Pilsner Urquell   \n",
       "4  37062       4.4         4904           1417  Black Sheep Ale (Special)   \n",
       "\n",
       "                beer/style  review/appearance  review/aroma  review/overall  \\\n",
       "0     Herbed / Spiced Beer                4.0           4.0             4.0   \n",
       "1      American Barleywine                4.0           3.5             3.5   \n",
       "2  American Pale Ale (APA)                3.5           4.0             3.5   \n",
       "3           Czech Pilsener                3.0           3.0             2.5   \n",
       "4         English Pale Ale                4.0           3.0             3.0   \n",
       "\n",
       "   review/palate  review/taste  \\\n",
       "0            4.0           4.0   \n",
       "1            3.5           3.0   \n",
       "2            3.5           3.5   \n",
       "3            3.0           3.0   \n",
       "4            3.5           2.5   \n",
       "\n",
       "                                         review/text  \\\n",
       "0  Pours a clouded gold with a thin white head. N...   \n",
       "1  12oz bottle into 8oz snifter.\\t\\tDeep ruby red...   \n",
       "2  First enjoyed at the brewpub about 2 years ago...   \n",
       "3  First thing I noticed after pouring from green...   \n",
       "4  A: pours an amber with a one finger head but o...   \n",
       "\n",
       "                                   review/timeStruct  review/timeUnix  \\\n",
       "0  {'min': 38, 'hour': 3, 'mday': 16, 'sec': 10, ...       1229398690   \n",
       "1  {'min': 38, 'hour': 23, 'mday': 8, 'sec': 58, ...       1218238738   \n",
       "2  {'min': 7, 'hour': 18, 'mday': 26, 'sec': 2, '...       1101492422   \n",
       "3  {'min': 7, 'hour': 1, 'mday': 20, 'sec': 5, 'y...       1308532025   \n",
       "4  {'min': 51, 'hour': 6, 'mday': 12, 'sec': 48, ...       1299912708   \n",
       "\n",
       "   user/ageInSeconds user/birthdayRaw  user/birthdayUnix user/gender  \\\n",
       "0                NaN              NaN                NaN         NaN   \n",
       "1                NaN              NaN                NaN         NaN   \n",
       "2                NaN              NaN                NaN        Male   \n",
       "3       1.209827e+09     Aug 10, 1976        208508400.0        Male   \n",
       "4                NaN              NaN                NaN         NaN   \n",
       "\n",
       "  user/profileName  \n",
       "0       RblWthACoz  \n",
       "1          BeerSox  \n",
       "2       mschofield  \n",
       "3        molegar76  \n",
       "4       Brewbro000  "
      ]
     },
     "execution_count": 3,
     "metadata": {},
     "output_type": "execute_result"
    }
   ],
   "source": [
    "Beer_Data.head()"
   ]
  },
  {
   "cell_type": "code",
   "execution_count": 4,
   "id": "60b6dad6-1c04-40a1-80d9-3afc3289cd2f",
   "metadata": {},
   "outputs": [
    {
     "name": "stdout",
     "output_type": "stream",
     "text": [
      "<class 'pandas.core.frame.DataFrame'>\n",
      "RangeIndex: 37500 entries, 0 to 37499\n",
      "Data columns (total 19 columns):\n",
      " #   Column             Non-Null Count  Dtype  \n",
      "---  ------             --------------  -----  \n",
      " 0   index              37500 non-null  int64  \n",
      " 1   beer/ABV           37500 non-null  float64\n",
      " 2   beer/beerId        37500 non-null  int64  \n",
      " 3   beer/brewerId      37500 non-null  int64  \n",
      " 4   beer/name          37500 non-null  object \n",
      " 5   beer/style         37500 non-null  object \n",
      " 6   review/appearance  37500 non-null  float64\n",
      " 7   review/aroma       37500 non-null  float64\n",
      " 8   review/overall     37500 non-null  float64\n",
      " 9   review/palate      37500 non-null  float64\n",
      " 10  review/taste       37500 non-null  float64\n",
      " 11  review/text        37490 non-null  object \n",
      " 12  review/timeStruct  37500 non-null  object \n",
      " 13  review/timeUnix    37500 non-null  int64  \n",
      " 14  user/ageInSeconds  7856 non-null   float64\n",
      " 15  user/birthdayRaw   7856 non-null   object \n",
      " 16  user/birthdayUnix  7856 non-null   float64\n",
      " 17  user/gender        15314 non-null  object \n",
      " 18  user/profileName   37495 non-null  object \n",
      "dtypes: float64(8), int64(4), object(7)\n",
      "memory usage: 5.4+ MB\n"
     ]
    }
   ],
   "source": [
    "Beer_Data.info()"
   ]
  },
  {
   "cell_type": "markdown",
   "id": "b7f1cad2-a1e8-42f3-8137-34ab37368186",
   "metadata": {},
   "source": [
    "# After visualising aboove data we notice that some of the coumns are only for unique indentification. Thus, those columns can be dropped from the dataset.\n",
    "# here is the list of columns to be dropped from table\n",
    "index\n",
    "\n",
    "user/profile/name\n",
    "\n",
    "review/timeStruct\n"
   ]
  },
  {
   "cell_type": "code",
   "execution_count": 5,
   "id": "fa15396f-640d-4615-94e4-36c403fcfcbf",
   "metadata": {},
   "outputs": [],
   "source": [
    "Beer_Data = Beer_Data.drop(['user/profileName', 'review/timeStruct', 'beer/beerId'], axis=1)"
   ]
  },
  {
   "cell_type": "code",
   "execution_count": 6,
   "id": "d74e235a-1133-475b-a52c-12948ba98004",
   "metadata": {},
   "outputs": [
    {
     "name": "stdout",
     "output_type": "stream",
     "text": [
      "<class 'pandas.core.frame.DataFrame'>\n",
      "RangeIndex: 37500 entries, 0 to 37499\n",
      "Data columns (total 16 columns):\n",
      " #   Column             Non-Null Count  Dtype  \n",
      "---  ------             --------------  -----  \n",
      " 0   index              37500 non-null  int64  \n",
      " 1   beer/ABV           37500 non-null  float64\n",
      " 2   beer/brewerId      37500 non-null  int64  \n",
      " 3   beer/name          37500 non-null  object \n",
      " 4   beer/style         37500 non-null  object \n",
      " 5   review/appearance  37500 non-null  float64\n",
      " 6   review/aroma       37500 non-null  float64\n",
      " 7   review/overall     37500 non-null  float64\n",
      " 8   review/palate      37500 non-null  float64\n",
      " 9   review/taste       37500 non-null  float64\n",
      " 10  review/text        37490 non-null  object \n",
      " 11  review/timeUnix    37500 non-null  int64  \n",
      " 12  user/ageInSeconds  7856 non-null   float64\n",
      " 13  user/birthdayRaw   7856 non-null   object \n",
      " 14  user/birthdayUnix  7856 non-null   float64\n",
      " 15  user/gender        15314 non-null  object \n",
      "dtypes: float64(8), int64(3), object(5)\n",
      "memory usage: 4.6+ MB\n"
     ]
    }
   ],
   "source": [
    "Beer_Data.info()"
   ]
  },
  {
   "cell_type": "markdown",
   "id": "06efdcd6-1b4a-4b43-9892-c736453bdf22",
   "metadata": {},
   "source": [
    "# Data Cleaning"
   ]
  },
  {
   "cell_type": "code",
   "execution_count": 7,
   "id": "18184884-0dc3-45e8-867d-5359607037d8",
   "metadata": {},
   "outputs": [
    {
     "data": {
      "text/plain": [
       "(37500, 16)"
      ]
     },
     "execution_count": 7,
     "metadata": {},
     "output_type": "execute_result"
    }
   ],
   "source": [
    "Beer_Data.shape"
   ]
  },
  {
   "cell_type": "code",
   "execution_count": 8,
   "id": "d795e2bf-cd21-4dd4-b6b5-d941cdcfe082",
   "metadata": {},
   "outputs": [],
   "source": [
    "Beer_Data = Beer_Data.rename(columns={'user/gender': 'gender', 'beer/ABV':'Alcohol_Content', 'beer/name':'BeerName', 'beer/brewerId':'BrewerID'})"
   ]
  },
  {
   "cell_type": "code",
   "execution_count": 9,
   "id": "bc50697f-451f-4c2a-93ad-39e3c08142b8",
   "metadata": {},
   "outputs": [
    {
     "data": {
      "text/plain": [
       "gender\n",
       "Male      15069\n",
       "Female      245\n",
       "Name: count, dtype: int64"
      ]
     },
     "execution_count": 9,
     "metadata": {},
     "output_type": "execute_result"
    }
   ],
   "source": [
    "Beer_Data.gender.value_counts()"
   ]
  },
  {
   "cell_type": "code",
   "execution_count": 10,
   "id": "9f92d651-2c06-4885-8277-3af01bb0cd7c",
   "metadata": {},
   "outputs": [
    {
     "data": {
      "text/plain": [
       "<Axes: xlabel='gender', ylabel='Alcohol_Content'>"
      ]
     },
     "execution_count": 10,
     "metadata": {},
     "output_type": "execute_result"
    },
    {
     "data": {
      "image/png": "[encoded data removed]",
      "text/plain": [
       "<Figure size 1200x600 with 1 Axes>"
      ]
     },
     "metadata": {},
     "output_type": "display_data"
    }
   ],
   "source": [
    "plt.figure(figsize = (12,6))\n",
    "sns.barplot(x = 'gender', y = 'Alcohol_Content', data = Beer_Data)"
   ]
  },
  {
   "cell_type": "code",
   "execution_count": 11,
   "id": "9a80dc3c-c50a-4cef-9305-8f5056ef2841",
   "metadata": {},
   "outputs": [],
   "source": [
    "data = Beer_Data.Alcohol_Content.value_counts().size"
   ]
  },
  {
   "cell_type": "code",
   "execution_count": 12,
   "id": "e4bfb640-709e-492e-9d59-282a76e836c1",
   "metadata": {},
   "outputs": [
    {
     "data": {
      "text/plain": [
       "Alcohol_Content\n",
       "6.50     2096\n",
       "5.00     2015\n",
       "8.30     1890\n",
       "6.60     1848\n",
       "9.40     1847\n",
       "         ... \n",
       "3.75        1\n",
       "6.32        1\n",
       "12.80       1\n",
       "57.70       1\n",
       "30.86       1\n",
       "Name: count, Length: 126, dtype: int64"
      ]
     },
     "execution_count": 12,
     "metadata": {},
     "output_type": "execute_result"
    }
   ],
   "source": [
    "Beer_Data.Alcohol_Content.value_counts()"
   ]
  },
  {
   "cell_type": "code",
   "execution_count": 13,
   "id": "3f4ad8b3-6d95-4d2f-8aaa-428f38ef71f7",
   "metadata": {},
   "outputs": [
    {
     "data": {
      "text/plain": [
       "126"
      ]
     },
     "execution_count": 13,
     "metadata": {},
     "output_type": "execute_result"
    }
   ],
   "source": [
    "data"
   ]
  },
  {
   "cell_type": "code",
   "execution_count": 14,
   "id": "f665af73-6fa5-4d34-a85e-4c5739bf0a24",
   "metadata": {},
   "outputs": [
    {
     "data": {
      "text/plain": [
       "BeerName\n",
       "Founders Breakfast Stout                   1883\n",
       "Founders KBS (Kentucky Breakfast Stout)    1441\n",
       "Founders Centennial IPA                    1064\n",
       "Founders Red's Rye PA                      1051\n",
       "Founders Dirty Bastard                      983\n",
       "                                           ... \n",
       "Bluffdiver IPA                                1\n",
       "Montgomery Mild                               1\n",
       "Willy's Crown Jewels                          1\n",
       "Sokol Izolda                                  1\n",
       "MoJo Belgian Style Abbey Dubbel               1\n",
       "Name: count, Length: 1688, dtype: int64"
      ]
     },
     "execution_count": 14,
     "metadata": {},
     "output_type": "execute_result"
    }
   ],
   "source": [
    "Beer_Data.BeerName.value_counts()"
   ]
  },
  {
   "cell_type": "code",
   "execution_count": 15,
   "id": "f29bf8e1-6b38-4b6b-b8b4-49b9b42c1f01",
   "metadata": {},
   "outputs": [],
   "source": [
    "female_data = Beer_Data[Beer_Data['gender']=='Female']"
   ]
  },
  {
   "cell_type": "code",
   "execution_count": 16,
   "id": "ce951a07-13a2-4a1a-8f93-5320996bde78",
   "metadata": {},
   "outputs": [
    {
     "data": {
      "text/plain": [
       "(245, 16)"
      ]
     },
     "execution_count": 16,
     "metadata": {},
     "output_type": "execute_result"
    }
   ],
   "source": [
    "female_data.shape"
   ]
  },
  {
   "cell_type": "code",
   "execution_count": 17,
   "id": "d8c38aa7-84cc-456b-a0ee-c1569488f952",
   "metadata": {},
   "outputs": [],
   "source": [
    "new_table_female = female_data.groupby('BeerName').size().reset_index(name='Count')"
   ]
  },
  {
   "cell_type": "code",
   "execution_count": 18,
   "id": "e7b69e31-e243-469c-bfa4-cb531ee54216",
   "metadata": {},
   "outputs": [
    {
     "data": {
      "text/html": [
       "<div>\n",
       "<style scoped>\n",
       "    .dataframe tbody tr th:only-of-type {\n",
       "        vertical-align: middle;\n",
       "    }\n",
       "\n",
       "    .dataframe tbody tr th {\n",
       "        vertical-align: top;\n",
       "    }\n",
       "\n",
       "    .dataframe thead th {\n",
       "        text-align: right;\n",
       "    }\n",
       "</style>\n",
       "<table border=\"1\" class=\"dataframe\">\n",
       "  <thead>\n",
       "    <tr style=\"text-align: right;\">\n",
       "      <th></th>\n",
       "      <th>BeerName</th>\n",
       "      <th>Count</th>\n",
       "    </tr>\n",
       "  </thead>\n",
       "  <tbody>\n",
       "    <tr>\n",
       "      <th>0</th>\n",
       "      <td>\"The Wind Cried Mari...\" Scottish Heather Ale</td>\n",
       "      <td>1</td>\n",
       "    </tr>\n",
       "    <tr>\n",
       "      <th>1</th>\n",
       "      <td>1906 Reserva Especial</td>\n",
       "      <td>1</td>\n",
       "    </tr>\n",
       "    <tr>\n",
       "      <th>2</th>\n",
       "      <td>Aecht Schlenkerla Helles Lagerbier</td>\n",
       "      <td>2</td>\n",
       "    </tr>\n",
       "    <tr>\n",
       "      <th>3</th>\n",
       "      <td>Aecht Schlenkerla Rauchbier MÃ¤rzen</td>\n",
       "      <td>6</td>\n",
       "    </tr>\n",
       "    <tr>\n",
       "      <th>4</th>\n",
       "      <td>Aecht Schlenkerla Rauchbier Urbock</td>\n",
       "      <td>1</td>\n",
       "    </tr>\n",
       "    <tr>\n",
       "      <th>5</th>\n",
       "      <td>Aecht Schlenkerla Rauchbier Weizen</td>\n",
       "      <td>2</td>\n",
       "    </tr>\n",
       "    <tr>\n",
       "      <th>6</th>\n",
       "      <td>American Pale Ale</td>\n",
       "      <td>4</td>\n",
       "    </tr>\n",
       "    <tr>\n",
       "      <th>7</th>\n",
       "      <td>Ashland Amber</td>\n",
       "      <td>2</td>\n",
       "    </tr>\n",
       "    <tr>\n",
       "      <th>8</th>\n",
       "      <td>B.O.R.I.S. The Crusher Oatmeal-Imperial Stout</td>\n",
       "      <td>8</td>\n",
       "    </tr>\n",
       "    <tr>\n",
       "      <th>9</th>\n",
       "      <td>Bannatyne's Scotch Ale</td>\n",
       "      <td>1</td>\n",
       "    </tr>\n",
       "  </tbody>\n",
       "</table>\n",
       "</div>"
      ],
      "text/plain": [
       "                                        BeerName  Count\n",
       "0  \"The Wind Cried Mari...\" Scottish Heather Ale      1\n",
       "1                          1906 Reserva Especial      1\n",
       "2             Aecht Schlenkerla Helles Lagerbier      2\n",
       "3            Aecht Schlenkerla Rauchbier MÃ¤rzen      6\n",
       "4             Aecht Schlenkerla Rauchbier Urbock      1\n",
       "5             Aecht Schlenkerla Rauchbier Weizen      2\n",
       "6                              American Pale Ale      4\n",
       "7                                  Ashland Amber      2\n",
       "8  B.O.R.I.S. The Crusher Oatmeal-Imperial Stout      8\n",
       "9                         Bannatyne's Scotch Ale      1"
      ]
     },
     "execution_count": 18,
     "metadata": {},
     "output_type": "execute_result"
    }
   ],
   "source": [
    "new_table_female.head(10)"
   ]
  },
  {
   "cell_type": "code",
   "execution_count": 19,
   "id": "3ae0f5f1-118c-4525-b1bb-a11134952d5c",
   "metadata": {},
   "outputs": [],
   "source": [
    "male_data = Beer_Data[Beer_Data['gender']=='Male']"
   ]
  },
  {
   "cell_type": "code",
   "execution_count": 20,
   "id": "d331182b-f88d-4648-b3d8-a5188bb171d1",
   "metadata": {},
   "outputs": [
    {
     "data": {
      "text/plain": [
       "(15069, 16)"
      ]
     },
     "execution_count": 20,
     "metadata": {},
     "output_type": "execute_result"
    }
   ],
   "source": [
    "male_data.shape"
   ]
  },
  {
   "cell_type": "code",
   "execution_count": 21,
   "id": "476e3a5c-229d-4323-95cd-b3198cf09a51",
   "metadata": {},
   "outputs": [],
   "source": [
    "new_table_male = male_data.groupby('BeerName').size().reset_index(name='Count')"
   ]
  },
  {
   "cell_type": "code",
   "execution_count": 22,
   "id": "4891443a-d932-4a29-9d89-a92470298d13",
   "metadata": {},
   "outputs": [
    {
     "data": {
      "text/html": [
       "<div>\n",
       "<style scoped>\n",
       "    .dataframe tbody tr th:only-of-type {\n",
       "        vertical-align: middle;\n",
       "    }\n",
       "\n",
       "    .dataframe tbody tr th {\n",
       "        vertical-align: top;\n",
       "    }\n",
       "\n",
       "    .dataframe thead th {\n",
       "        text-align: right;\n",
       "    }\n",
       "</style>\n",
       "<table border=\"1\" class=\"dataframe\">\n",
       "  <thead>\n",
       "    <tr style=\"text-align: right;\">\n",
       "      <th></th>\n",
       "      <th>BeerName</th>\n",
       "      <th>Count</th>\n",
       "    </tr>\n",
       "  </thead>\n",
       "  <tbody>\n",
       "    <tr>\n",
       "      <th>0</th>\n",
       "      <td>\"The Wind Cried Mari...\" Scottish Heather Ale</td>\n",
       "      <td>6</td>\n",
       "    </tr>\n",
       "    <tr>\n",
       "      <th>1</th>\n",
       "      <td>1 A.M. Ale</td>\n",
       "      <td>3</td>\n",
       "    </tr>\n",
       "    <tr>\n",
       "      <th>2</th>\n",
       "      <td>13th Anniversary Imperial India Pale Ale</td>\n",
       "      <td>1</td>\n",
       "    </tr>\n",
       "    <tr>\n",
       "      <th>3</th>\n",
       "      <td>1871 Lager</td>\n",
       "      <td>2</td>\n",
       "    </tr>\n",
       "    <tr>\n",
       "      <th>4</th>\n",
       "      <td>1906 Reserva Especial</td>\n",
       "      <td>3</td>\n",
       "    </tr>\n",
       "  </tbody>\n",
       "</table>\n",
       "</div>"
      ],
      "text/plain": [
       "                                        BeerName  Count\n",
       "0  \"The Wind Cried Mari...\" Scottish Heather Ale      6\n",
       "1                                     1 A.M. Ale      3\n",
       "2       13th Anniversary Imperial India Pale Ale      1\n",
       "3                                     1871 Lager      2\n",
       "4                          1906 Reserva Especial      3"
      ]
     },
     "execution_count": 22,
     "metadata": {},
     "output_type": "execute_result"
    }
   ],
   "source": [
    "new_table_male.head()"
   ]
  },
  {
   "cell_type": "code",
   "execution_count": 23,
   "id": "76d70770-824f-4800-ba24-f801ca64bf20",
   "metadata": {},
   "outputs": [
    {
     "name": "stdout",
     "output_type": "stream",
     "text": [
      "<class 'pandas.core.frame.DataFrame'>\n",
      "RangeIndex: 1064 entries, 0 to 1063\n",
      "Data columns (total 2 columns):\n",
      " #   Column    Non-Null Count  Dtype \n",
      "---  ------    --------------  ----- \n",
      " 0   BeerName  1064 non-null   object\n",
      " 1   Count     1064 non-null   int64 \n",
      "dtypes: int64(1), object(1)\n",
      "memory usage: 16.8+ KB\n"
     ]
    }
   ],
   "source": [
    "new_table_male.info()"
   ]
  },
  {
   "cell_type": "code",
   "execution_count": 24,
   "id": "63f81d5f-b33e-49dc-92fd-acbec4a05274",
   "metadata": {},
   "outputs": [
    {
     "name": "stdout",
     "output_type": "stream",
     "text": [
      "<class 'pandas.core.frame.DataFrame'>\n",
      "RangeIndex: 108 entries, 0 to 107\n",
      "Data columns (total 2 columns):\n",
      " #   Column    Non-Null Count  Dtype \n",
      "---  ------    --------------  ----- \n",
      " 0   BeerName  108 non-null    object\n",
      " 1   Count     108 non-null    int64 \n",
      "dtypes: int64(1), object(1)\n",
      "memory usage: 1.8+ KB\n"
     ]
    }
   ],
   "source": [
    "new_table_female.info()"
   ]
  },
  {
   "cell_type": "code",
   "execution_count": 25,
   "id": "bd8740bf-d49f-4e19-803a-9dcaa871c7c2",
   "metadata": {},
   "outputs": [],
   "source": [
    "full_join_df = pd.merge(new_table_male, new_table_female, on='BeerName', how='outer')"
   ]
  },
  {
   "cell_type": "code",
   "execution_count": 26,
   "id": "82274972-bbeb-489d-bc2c-22bc4533e179",
   "metadata": {},
   "outputs": [
    {
     "name": "stdout",
     "output_type": "stream",
     "text": [
      "<class 'pandas.core.frame.DataFrame'>\n",
      "RangeIndex: 1073 entries, 0 to 1072\n",
      "Data columns (total 3 columns):\n",
      " #   Column    Non-Null Count  Dtype  \n",
      "---  ------    --------------  -----  \n",
      " 0   BeerName  1073 non-null   object \n",
      " 1   Count_x   1064 non-null   float64\n",
      " 2   Count_y   108 non-null    float64\n",
      "dtypes: float64(2), object(1)\n",
      "memory usage: 25.3+ KB\n"
     ]
    }
   ],
   "source": [
    "full_join_df.info()"
   ]
  },
  {
   "cell_type": "code",
   "execution_count": 27,
   "id": "1d7b511c-5db9-4c08-9cbe-a56deaf947ea",
   "metadata": {},
   "outputs": [],
   "source": [
    "full_join_df.fillna(0.0, inplace=True)"
   ]
  },
  {
   "cell_type": "code",
   "execution_count": 28,
   "id": "4d22c04f-bf6f-4071-b251-bf3eb498ba37",
   "metadata": {},
   "outputs": [],
   "source": [
    "full_join_df.rename(columns={'Count_x':'male', 'Count_y':'female'}, inplace=True)"
   ]
  },
  {
   "cell_type": "code",
   "execution_count": 29,
   "id": "ec9b6e66-30a8-47de-844f-5e69e330d208",
   "metadata": {},
   "outputs": [
    {
     "data": {
      "text/html": [
       "<div>\n",
       "<style scoped>\n",
       "    .dataframe tbody tr th:only-of-type {\n",
       "        vertical-align: middle;\n",
       "    }\n",
       "\n",
       "    .dataframe tbody tr th {\n",
       "        vertical-align: top;\n",
       "    }\n",
       "\n",
       "    .dataframe thead th {\n",
       "        text-align: right;\n",
       "    }\n",
       "</style>\n",
       "<table border=\"1\" class=\"dataframe\">\n",
       "  <thead>\n",
       "    <tr style=\"text-align: right;\">\n",
       "      <th></th>\n",
       "      <th>BeerName</th>\n",
       "      <th>male</th>\n",
       "      <th>female</th>\n",
       "    </tr>\n",
       "  </thead>\n",
       "  <tbody>\n",
       "    <tr>\n",
       "      <th>0</th>\n",
       "      <td>\"The Wind Cried Mari...\" Scottish Heather Ale</td>\n",
       "      <td>6.0</td>\n",
       "      <td>1.0</td>\n",
       "    </tr>\n",
       "    <tr>\n",
       "      <th>1</th>\n",
       "      <td>1 A.M. Ale</td>\n",
       "      <td>3.0</td>\n",
       "      <td>0.0</td>\n",
       "    </tr>\n",
       "    <tr>\n",
       "      <th>2</th>\n",
       "      <td>13th Anniversary Imperial India Pale Ale</td>\n",
       "      <td>1.0</td>\n",
       "      <td>0.0</td>\n",
       "    </tr>\n",
       "    <tr>\n",
       "      <th>3</th>\n",
       "      <td>1871 Lager</td>\n",
       "      <td>2.0</td>\n",
       "      <td>0.0</td>\n",
       "    </tr>\n",
       "    <tr>\n",
       "      <th>4</th>\n",
       "      <td>1906 Reserva Especial</td>\n",
       "      <td>3.0</td>\n",
       "      <td>1.0</td>\n",
       "    </tr>\n",
       "  </tbody>\n",
       "</table>\n",
       "</div>"
      ],
      "text/plain": [
       "                                        BeerName  male  female\n",
       "0  \"The Wind Cried Mari...\" Scottish Heather Ale   6.0     1.0\n",
       "1                                     1 A.M. Ale   3.0     0.0\n",
       "2       13th Anniversary Imperial India Pale Ale   1.0     0.0\n",
       "3                                     1871 Lager   2.0     0.0\n",
       "4                          1906 Reserva Especial   3.0     1.0"
      ]
     },
     "execution_count": 29,
     "metadata": {},
     "output_type": "execute_result"
    }
   ],
   "source": [
    "full_join_df.head()"
   ]
  },
  {
   "cell_type": "code",
   "execution_count": 30,
   "id": "bae0534c-f467-42a2-8c51-7e41dbed2898",
   "metadata": {},
   "outputs": [
    {
     "data": {
      "text/plain": [
       "(1073, 3)"
      ]
     },
     "execution_count": 30,
     "metadata": {},
     "output_type": "execute_result"
    }
   ],
   "source": [
    "full_join_df.shape"
   ]
  },
  {
   "cell_type": "code",
   "execution_count": 31,
   "id": "23949ab9-dc13-4540-acd0-df7e4db93f27",
   "metadata": {},
   "outputs": [
    {
     "name": "stdout",
     "output_type": "stream",
     "text": [
      "<class 'pandas.core.frame.DataFrame'>\n",
      "RangeIndex: 1073 entries, 0 to 1072\n",
      "Data columns (total 3 columns):\n",
      " #   Column    Non-Null Count  Dtype  \n",
      "---  ------    --------------  -----  \n",
      " 0   BeerName  1073 non-null   object \n",
      " 1   male      1073 non-null   float64\n",
      " 2   female    1073 non-null   float64\n",
      "dtypes: float64(2), object(1)\n",
      "memory usage: 25.3+ KB\n"
     ]
    }
   ],
   "source": [
    "full_join_df.info()"
   ]
  },
  {
   "cell_type": "code",
   "execution_count": 32,
   "id": "5db7afdd-db9f-4713-8e24-d4cdbac1dfaa",
   "metadata": {},
   "outputs": [
    {
     "name": "stdout",
     "output_type": "stream",
     "text": [
      "Male\n",
      "Female\n"
     ]
    }
   ],
   "source": [
    "male = Beer_Data.loc[Beer_Data['beer/style'] == 'American Pale Ale (APA)', 'gender'].values[0]\n",
    "print(male)\n",
    "female = Beer_Data.loc[Beer_Data['index'] == 7498 , 'gender'].values[0]\n",
    "print(female)\n",
    "def compare_columns(row):\n",
    "    if row['female'] > row['male']:\n",
    "        return female\n",
    "    elif row['male'] > row['female']:\n",
    "        return male\n",
    "    else:\n",
    "        return male"
   ]
  },
  {
   "cell_type": "code",
   "execution_count": 33,
   "id": "df068433-c6c8-483c-823c-4714de54d1cf",
   "metadata": {},
   "outputs": [],
   "source": [
    "full_join_df['gender'] = full_join_df.apply(compare_columns, axis=1)"
   ]
  },
  {
   "cell_type": "code",
   "execution_count": 34,
   "id": "c98d4937-5fe2-4720-86c7-ba977d68411d",
   "metadata": {},
   "outputs": [
    {
     "data": {
      "text/html": [
       "<div>\n",
       "<style scoped>\n",
       "    .dataframe tbody tr th:only-of-type {\n",
       "        vertical-align: middle;\n",
       "    }\n",
       "\n",
       "    .dataframe tbody tr th {\n",
       "        vertical-align: top;\n",
       "    }\n",
       "\n",
       "    .dataframe thead th {\n",
       "        text-align: right;\n",
       "    }\n",
       "</style>\n",
       "<table border=\"1\" class=\"dataframe\">\n",
       "  <thead>\n",
       "    <tr style=\"text-align: right;\">\n",
       "      <th></th>\n",
       "      <th>male</th>\n",
       "      <th>female</th>\n",
       "    </tr>\n",
       "  </thead>\n",
       "  <tbody>\n",
       "    <tr>\n",
       "      <th>count</th>\n",
       "      <td>1073.000000</td>\n",
       "      <td>1073.000000</td>\n",
       "    </tr>\n",
       "    <tr>\n",
       "      <th>mean</th>\n",
       "      <td>14.043802</td>\n",
       "      <td>0.228332</td>\n",
       "    </tr>\n",
       "    <tr>\n",
       "      <th>std</th>\n",
       "      <td>52.298788</td>\n",
       "      <td>1.033514</td>\n",
       "    </tr>\n",
       "    <tr>\n",
       "      <th>min</th>\n",
       "      <td>0.000000</td>\n",
       "      <td>0.000000</td>\n",
       "    </tr>\n",
       "    <tr>\n",
       "      <th>25%</th>\n",
       "      <td>1.000000</td>\n",
       "      <td>0.000000</td>\n",
       "    </tr>\n",
       "    <tr>\n",
       "      <th>50%</th>\n",
       "      <td>2.000000</td>\n",
       "      <td>0.000000</td>\n",
       "    </tr>\n",
       "    <tr>\n",
       "      <th>75%</th>\n",
       "      <td>5.000000</td>\n",
       "      <td>0.000000</td>\n",
       "    </tr>\n",
       "    <tr>\n",
       "      <th>max</th>\n",
       "      <td>783.000000</td>\n",
       "      <td>17.000000</td>\n",
       "    </tr>\n",
       "  </tbody>\n",
       "</table>\n",
       "</div>"
      ],
      "text/plain": [
       "              male       female\n",
       "count  1073.000000  1073.000000\n",
       "mean     14.043802     0.228332\n",
       "std      52.298788     1.033514\n",
       "min       0.000000     0.000000\n",
       "25%       1.000000     0.000000\n",
       "50%       2.000000     0.000000\n",
       "75%       5.000000     0.000000\n",
       "max     783.000000    17.000000"
      ]
     },
     "execution_count": 34,
     "metadata": {},
     "output_type": "execute_result"
    }
   ],
   "source": [
    "full_join_df.describe()"
   ]
  },
  {
   "cell_type": "code",
   "execution_count": 35,
   "id": "abace623-bb7d-418a-9b07-dfe0e14294c9",
   "metadata": {},
   "outputs": [
    {
     "data": {
      "text/plain": [
       "gender\n",
       "Male      1064\n",
       "Female       9\n",
       "Name: count, dtype: int64"
      ]
     },
     "execution_count": 35,
     "metadata": {},
     "output_type": "execute_result"
    }
   ],
   "source": [
    "full_join_df.gender.value_counts()"
   ]
  },
  {
   "cell_type": "code",
   "execution_count": 36,
   "id": "c226f811-95a0-4914-a63e-8c7c1e407524",
   "metadata": {},
   "outputs": [
    {
     "data": {
      "text/html": [
       "<div>\n",
       "<style scoped>\n",
       "    .dataframe tbody tr th:only-of-type {\n",
       "        vertical-align: middle;\n",
       "    }\n",
       "\n",
       "    .dataframe tbody tr th {\n",
       "        vertical-align: top;\n",
       "    }\n",
       "\n",
       "    .dataframe thead th {\n",
       "        text-align: right;\n",
       "    }\n",
       "</style>\n",
       "<table border=\"1\" class=\"dataframe\">\n",
       "  <thead>\n",
       "    <tr style=\"text-align: right;\">\n",
       "      <th></th>\n",
       "      <th>BeerName</th>\n",
       "      <th>male</th>\n",
       "      <th>female</th>\n",
       "      <th>gender</th>\n",
       "    </tr>\n",
       "  </thead>\n",
       "  <tbody>\n",
       "    <tr>\n",
       "      <th>0</th>\n",
       "      <td>\"The Wind Cried Mari...\" Scottish Heather Ale</td>\n",
       "      <td>6.0</td>\n",
       "      <td>1.0</td>\n",
       "      <td>Male</td>\n",
       "    </tr>\n",
       "    <tr>\n",
       "      <th>1</th>\n",
       "      <td>1 A.M. Ale</td>\n",
       "      <td>3.0</td>\n",
       "      <td>0.0</td>\n",
       "      <td>Male</td>\n",
       "    </tr>\n",
       "    <tr>\n",
       "      <th>2</th>\n",
       "      <td>13th Anniversary Imperial India Pale Ale</td>\n",
       "      <td>1.0</td>\n",
       "      <td>0.0</td>\n",
       "      <td>Male</td>\n",
       "    </tr>\n",
       "    <tr>\n",
       "      <th>3</th>\n",
       "      <td>1871 Lager</td>\n",
       "      <td>2.0</td>\n",
       "      <td>0.0</td>\n",
       "      <td>Male</td>\n",
       "    </tr>\n",
       "    <tr>\n",
       "      <th>4</th>\n",
       "      <td>1906 Reserva Especial</td>\n",
       "      <td>3.0</td>\n",
       "      <td>1.0</td>\n",
       "      <td>Male</td>\n",
       "    </tr>\n",
       "  </tbody>\n",
       "</table>\n",
       "</div>"
      ],
      "text/plain": [
       "                                        BeerName  male  female gender\n",
       "0  \"The Wind Cried Mari...\" Scottish Heather Ale   6.0     1.0   Male\n",
       "1                                     1 A.M. Ale   3.0     0.0   Male\n",
       "2       13th Anniversary Imperial India Pale Ale   1.0     0.0   Male\n",
       "3                                     1871 Lager   2.0     0.0   Male\n",
       "4                          1906 Reserva Especial   3.0     1.0   Male"
      ]
     },
     "execution_count": 36,
     "metadata": {},
     "output_type": "execute_result"
    }
   ],
   "source": [
    "full_join_df.head()"
   ]
  },
  {
   "cell_type": "code",
   "execution_count": 37,
   "id": "4d57a683-698c-4509-8758-cfa126d6ef4d",
   "metadata": {},
   "outputs": [],
   "source": [
    "full_join_df = full_join_df.drop(['male', 'female'], axis=1)"
   ]
  },
  {
   "cell_type": "code",
   "execution_count": 38,
   "id": "0fafb77f-09c1-4705-9873-e334620a6879",
   "metadata": {},
   "outputs": [
    {
     "data": {
      "text/plain": [
       "gender\n",
       "Male      1064\n",
       "Female       9\n",
       "Name: count, dtype: int64"
      ]
     },
     "execution_count": 38,
     "metadata": {},
     "output_type": "execute_result"
    }
   ],
   "source": [
    "full_join_df.gender.value_counts()"
   ]
  },
  {
   "cell_type": "code",
   "execution_count": 39,
   "id": "c7f473ec-7623-47f6-a269-1a350989e9e1",
   "metadata": {},
   "outputs": [
    {
     "data": {
      "text/html": [
       "<div>\n",
       "<style scoped>\n",
       "    .dataframe tbody tr th:only-of-type {\n",
       "        vertical-align: middle;\n",
       "    }\n",
       "\n",
       "    .dataframe tbody tr th {\n",
       "        vertical-align: top;\n",
       "    }\n",
       "\n",
       "    .dataframe thead th {\n",
       "        text-align: right;\n",
       "    }\n",
       "</style>\n",
       "<table border=\"1\" class=\"dataframe\">\n",
       "  <thead>\n",
       "    <tr style=\"text-align: right;\">\n",
       "      <th></th>\n",
       "      <th>BeerName</th>\n",
       "      <th>gender</th>\n",
       "    </tr>\n",
       "  </thead>\n",
       "  <tbody>\n",
       "    <tr>\n",
       "      <th>0</th>\n",
       "      <td>\"The Wind Cried Mari...\" Scottish Heather Ale</td>\n",
       "      <td>Male</td>\n",
       "    </tr>\n",
       "    <tr>\n",
       "      <th>1</th>\n",
       "      <td>1 A.M. Ale</td>\n",
       "      <td>Male</td>\n",
       "    </tr>\n",
       "    <tr>\n",
       "      <th>2</th>\n",
       "      <td>13th Anniversary Imperial India Pale Ale</td>\n",
       "      <td>Male</td>\n",
       "    </tr>\n",
       "  </tbody>\n",
       "</table>\n",
       "</div>"
      ],
      "text/plain": [
       "                                        BeerName gender\n",
       "0  \"The Wind Cried Mari...\" Scottish Heather Ale   Male\n",
       "1                                     1 A.M. Ale   Male\n",
       "2       13th Anniversary Imperial India Pale Ale   Male"
      ]
     },
     "execution_count": 39,
     "metadata": {},
     "output_type": "execute_result"
    }
   ],
   "source": [
    "full_join_df.head(3)"
   ]
  },
  {
   "cell_type": "code",
   "execution_count": 40,
   "id": "9fc30372-8cc8-4b7d-a0ac-d96305e7063d",
   "metadata": {},
   "outputs": [
    {
     "name": "stdout",
     "output_type": "stream",
     "text": [
      "386    Male\n",
      "Name: gender, dtype: object\n"
     ]
    }
   ],
   "source": [
    "temp = full_join_df['BeerName'] == 'Founders KBS (Kentucky Breakfast Stout)'\n",
    "filtered_data = full_join_df[temp]\n",
    "print(filtered_data['gender'])"
   ]
  },
  {
   "cell_type": "code",
   "execution_count": 41,
   "id": "fa73b44c-fece-4770-a598-1f2415cf723f",
   "metadata": {},
   "outputs": [],
   "source": [
    "for index, row in Beer_Data[Beer_Data['gender'].isnull()].iterrows():\n",
    "    # Filter full_join_df based on 'BeerName'\n",
    "    temp = full_join_df['BeerName'] == row['BeerName']\n",
    "    filtered_data = full_join_df[temp]\n",
    "    \n",
    "    # If there are matches, assign the first matching 'gender' value\n",
    "    if not filtered_data.empty:\n",
    "        Beer_Data.at[index, 'gender'] = filtered_data['gender'].values[0]\n",
    "        \n",
    "        \n",
    "            "
   ]
  },
  {
   "cell_type": "code",
   "execution_count": null,
   "id": "298ada29-ca90-489b-8ede-520484b7b06e",
   "metadata": {},
   "outputs": [],
   "source": []
  },
  {
   "cell_type": "code",
   "execution_count": 42,
   "id": "2835bfce-4f5b-4338-b571-3f4856f59c66",
   "metadata": {},
   "outputs": [
    {
     "data": {
      "text/html": [
       "<div>\n",
       "<style scoped>\n",
       "    .dataframe tbody tr th:only-of-type {\n",
       "        vertical-align: middle;\n",
       "    }\n",
       "\n",
       "    .dataframe tbody tr th {\n",
       "        vertical-align: top;\n",
       "    }\n",
       "\n",
       "    .dataframe thead th {\n",
       "        text-align: right;\n",
       "    }\n",
       "</style>\n",
       "<table border=\"1\" class=\"dataframe\">\n",
       "  <thead>\n",
       "    <tr style=\"text-align: right;\">\n",
       "      <th></th>\n",
       "      <th>index</th>\n",
       "      <th>Alcohol_Content</th>\n",
       "      <th>BrewerID</th>\n",
       "      <th>BeerName</th>\n",
       "      <th>beer/style</th>\n",
       "      <th>review/appearance</th>\n",
       "      <th>review/aroma</th>\n",
       "      <th>review/overall</th>\n",
       "      <th>review/palate</th>\n",
       "      <th>review/taste</th>\n",
       "      <th>review/text</th>\n",
       "      <th>review/timeUnix</th>\n",
       "      <th>user/ageInSeconds</th>\n",
       "      <th>user/birthdayRaw</th>\n",
       "      <th>user/birthdayUnix</th>\n",
       "      <th>gender</th>\n",
       "    </tr>\n",
       "  </thead>\n",
       "  <tbody>\n",
       "    <tr>\n",
       "      <th>0</th>\n",
       "      <td>40163</td>\n",
       "      <td>5.0</td>\n",
       "      <td>14338</td>\n",
       "      <td>Chiostro</td>\n",
       "      <td>Herbed / Spiced Beer</td>\n",
       "      <td>4.0</td>\n",
       "      <td>4.0</td>\n",
       "      <td>4.0</td>\n",
       "      <td>4.0</td>\n",
       "      <td>4.0</td>\n",
       "      <td>Pours a clouded gold with a thin white head. N...</td>\n",
       "      <td>1229398690</td>\n",
       "      <td>NaN</td>\n",
       "      <td>NaN</td>\n",
       "      <td>NaN</td>\n",
       "      <td>Male</td>\n",
       "    </tr>\n",
       "    <tr>\n",
       "      <th>1</th>\n",
       "      <td>8135</td>\n",
       "      <td>11.0</td>\n",
       "      <td>395</td>\n",
       "      <td>Bearded Pat's Barleywine</td>\n",
       "      <td>American Barleywine</td>\n",
       "      <td>4.0</td>\n",
       "      <td>3.5</td>\n",
       "      <td>3.5</td>\n",
       "      <td>3.5</td>\n",
       "      <td>3.0</td>\n",
       "      <td>12oz bottle into 8oz snifter.\\t\\tDeep ruby red...</td>\n",
       "      <td>1218238738</td>\n",
       "      <td>NaN</td>\n",
       "      <td>NaN</td>\n",
       "      <td>NaN</td>\n",
       "      <td>Male</td>\n",
       "    </tr>\n",
       "    <tr>\n",
       "      <th>2</th>\n",
       "      <td>10529</td>\n",
       "      <td>4.7</td>\n",
       "      <td>365</td>\n",
       "      <td>Naughty Nellie's Ale</td>\n",
       "      <td>American Pale Ale (APA)</td>\n",
       "      <td>3.5</td>\n",
       "      <td>4.0</td>\n",
       "      <td>3.5</td>\n",
       "      <td>3.5</td>\n",
       "      <td>3.5</td>\n",
       "      <td>First enjoyed at the brewpub about 2 years ago...</td>\n",
       "      <td>1101492422</td>\n",
       "      <td>NaN</td>\n",
       "      <td>NaN</td>\n",
       "      <td>NaN</td>\n",
       "      <td>Male</td>\n",
       "    </tr>\n",
       "    <tr>\n",
       "      <th>3</th>\n",
       "      <td>44610</td>\n",
       "      <td>4.4</td>\n",
       "      <td>1</td>\n",
       "      <td>Pilsner Urquell</td>\n",
       "      <td>Czech Pilsener</td>\n",
       "      <td>3.0</td>\n",
       "      <td>3.0</td>\n",
       "      <td>2.5</td>\n",
       "      <td>3.0</td>\n",
       "      <td>3.0</td>\n",
       "      <td>First thing I noticed after pouring from green...</td>\n",
       "      <td>1308532025</td>\n",
       "      <td>1.209827e+09</td>\n",
       "      <td>Aug 10, 1976</td>\n",
       "      <td>208508400.0</td>\n",
       "      <td>Male</td>\n",
       "    </tr>\n",
       "    <tr>\n",
       "      <th>4</th>\n",
       "      <td>37062</td>\n",
       "      <td>4.4</td>\n",
       "      <td>1417</td>\n",
       "      <td>Black Sheep Ale (Special)</td>\n",
       "      <td>English Pale Ale</td>\n",
       "      <td>4.0</td>\n",
       "      <td>3.0</td>\n",
       "      <td>3.0</td>\n",
       "      <td>3.5</td>\n",
       "      <td>2.5</td>\n",
       "      <td>A: pours an amber with a one finger head but o...</td>\n",
       "      <td>1299912708</td>\n",
       "      <td>NaN</td>\n",
       "      <td>NaN</td>\n",
       "      <td>NaN</td>\n",
       "      <td>Male</td>\n",
       "    </tr>\n",
       "    <tr>\n",
       "      <th>...</th>\n",
       "      <td>...</td>\n",
       "      <td>...</td>\n",
       "      <td>...</td>\n",
       "      <td>...</td>\n",
       "      <td>...</td>\n",
       "      <td>...</td>\n",
       "      <td>...</td>\n",
       "      <td>...</td>\n",
       "      <td>...</td>\n",
       "      <td>...</td>\n",
       "      <td>...</td>\n",
       "      <td>...</td>\n",
       "      <td>...</td>\n",
       "      <td>...</td>\n",
       "      <td>...</td>\n",
       "      <td>...</td>\n",
       "    </tr>\n",
       "    <tr>\n",
       "      <th>995</th>\n",
       "      <td>40249</td>\n",
       "      <td>5.3</td>\n",
       "      <td>1315</td>\n",
       "      <td>Weltenburger Hefe-Weissbier Dunkel</td>\n",
       "      <td>Dunkelweizen</td>\n",
       "      <td>5.0</td>\n",
       "      <td>2.5</td>\n",
       "      <td>2.0</td>\n",
       "      <td>2.0</td>\n",
       "      <td>1.5</td>\n",
       "      <td>From a well-chilled half-liter bottle. This po...</td>\n",
       "      <td>1170464835</td>\n",
       "      <td>NaN</td>\n",
       "      <td>NaN</td>\n",
       "      <td>NaN</td>\n",
       "      <td>Male</td>\n",
       "    </tr>\n",
       "    <tr>\n",
       "      <th>996</th>\n",
       "      <td>40310</td>\n",
       "      <td>5.5</td>\n",
       "      <td>1315</td>\n",
       "      <td>Weltenburger Kloster Anno 1050</td>\n",
       "      <td>MÃ¤rzen / Oktoberfest</td>\n",
       "      <td>4.0</td>\n",
       "      <td>4.0</td>\n",
       "      <td>3.5</td>\n",
       "      <td>4.0</td>\n",
       "      <td>3.5</td>\n",
       "      <td>Appearance  This one poured a dark orange in c...</td>\n",
       "      <td>1094777607</td>\n",
       "      <td>NaN</td>\n",
       "      <td>NaN</td>\n",
       "      <td>NaN</td>\n",
       "      <td>Male</td>\n",
       "    </tr>\n",
       "    <tr>\n",
       "      <th>997</th>\n",
       "      <td>16324</td>\n",
       "      <td>12.0</td>\n",
       "      <td>1199</td>\n",
       "      <td>Founders Devil Dancer</td>\n",
       "      <td>American Double / Imperial IPA</td>\n",
       "      <td>3.5</td>\n",
       "      <td>3.5</td>\n",
       "      <td>3.5</td>\n",
       "      <td>4.5</td>\n",
       "      <td>4.0</td>\n",
       "      <td>Dark orange/amber in color. This light brown h...</td>\n",
       "      <td>1212455568</td>\n",
       "      <td>1.037455e+09</td>\n",
       "      <td>Jan 26, 1982</td>\n",
       "      <td>380880000.0</td>\n",
       "      <td>Male</td>\n",
       "    </tr>\n",
       "    <tr>\n",
       "      <th>998</th>\n",
       "      <td>10072</td>\n",
       "      <td>5.3</td>\n",
       "      <td>365</td>\n",
       "      <td>Pike Pale Heirloom Amber Ale</td>\n",
       "      <td>American Amber / Red Ale</td>\n",
       "      <td>3.5</td>\n",
       "      <td>4.0</td>\n",
       "      <td>3.0</td>\n",
       "      <td>3.0</td>\n",
       "      <td>3.0</td>\n",
       "      <td>The beer pours a very cloudy, opaque dark oran...</td>\n",
       "      <td>1260993991</td>\n",
       "      <td>1.063721e+09</td>\n",
       "      <td>Mar 28, 1981</td>\n",
       "      <td>354614400.0</td>\n",
       "      <td>Male</td>\n",
       "    </tr>\n",
       "    <tr>\n",
       "      <th>999</th>\n",
       "      <td>29922</td>\n",
       "      <td>7.2</td>\n",
       "      <td>1199</td>\n",
       "      <td>Founders Centennial IPA</td>\n",
       "      <td>American IPA</td>\n",
       "      <td>4.0</td>\n",
       "      <td>3.0</td>\n",
       "      <td>4.5</td>\n",
       "      <td>4.0</td>\n",
       "      <td>4.0</td>\n",
       "      <td>Poured from a 12oz. bottle into a Sam Adams pe...</td>\n",
       "      <td>1304115214</td>\n",
       "      <td>NaN</td>\n",
       "      <td>NaN</td>\n",
       "      <td>NaN</td>\n",
       "      <td>Male</td>\n",
       "    </tr>\n",
       "  </tbody>\n",
       "</table>\n",
       "<p>1000 rows × 16 columns</p>\n",
       "</div>"
      ],
      "text/plain": [
       "     index  Alcohol_Content  BrewerID                            BeerName  \\\n",
       "0    40163              5.0     14338                            Chiostro   \n",
       "1     8135             11.0       395            Bearded Pat's Barleywine   \n",
       "2    10529              4.7       365                Naughty Nellie's Ale   \n",
       "3    44610              4.4         1                     Pilsner Urquell   \n",
       "4    37062              4.4      1417           Black Sheep Ale (Special)   \n",
       "..     ...              ...       ...                                 ...   \n",
       "995  40249              5.3      1315  Weltenburger Hefe-Weissbier Dunkel   \n",
       "996  40310              5.5      1315      Weltenburger Kloster Anno 1050   \n",
       "997  16324             12.0      1199               Founders Devil Dancer   \n",
       "998  10072              5.3       365        Pike Pale Heirloom Amber Ale   \n",
       "999  29922              7.2      1199             Founders Centennial IPA   \n",
       "\n",
       "                         beer/style  review/appearance  review/aroma  \\\n",
       "0              Herbed / Spiced Beer                4.0           4.0   \n",
       "1               American Barleywine                4.0           3.5   \n",
       "2           American Pale Ale (APA)                3.5           4.0   \n",
       "3                    Czech Pilsener                3.0           3.0   \n",
       "4                  English Pale Ale                4.0           3.0   \n",
       "..                              ...                ...           ...   \n",
       "995                    Dunkelweizen                5.0           2.5   \n",
       "996           MÃ¤rzen / Oktoberfest                4.0           4.0   \n",
       "997  American Double / Imperial IPA                3.5           3.5   \n",
       "998        American Amber / Red Ale                3.5           4.0   \n",
       "999                    American IPA                4.0           3.0   \n",
       "\n",
       "     review/overall  review/palate  review/taste  \\\n",
       "0               4.0            4.0           4.0   \n",
       "1               3.5            3.5           3.0   \n",
       "2               3.5            3.5           3.5   \n",
       "3               2.5            3.0           3.0   \n",
       "4               3.0            3.5           2.5   \n",
       "..              ...            ...           ...   \n",
       "995             2.0            2.0           1.5   \n",
       "996             3.5            4.0           3.5   \n",
       "997             3.5            4.5           4.0   \n",
       "998             3.0            3.0           3.0   \n",
       "999             4.5            4.0           4.0   \n",
       "\n",
       "                                           review/text  review/timeUnix  \\\n",
       "0    Pours a clouded gold with a thin white head. N...       1229398690   \n",
       "1    12oz bottle into 8oz snifter.\\t\\tDeep ruby red...       1218238738   \n",
       "2    First enjoyed at the brewpub about 2 years ago...       1101492422   \n",
       "3    First thing I noticed after pouring from green...       1308532025   \n",
       "4    A: pours an amber with a one finger head but o...       1299912708   \n",
       "..                                                 ...              ...   \n",
       "995  From a well-chilled half-liter bottle. This po...       1170464835   \n",
       "996  Appearance  This one poured a dark orange in c...       1094777607   \n",
       "997  Dark orange/amber in color. This light brown h...       1212455568   \n",
       "998  The beer pours a very cloudy, opaque dark oran...       1260993991   \n",
       "999  Poured from a 12oz. bottle into a Sam Adams pe...       1304115214   \n",
       "\n",
       "     user/ageInSeconds user/birthdayRaw  user/birthdayUnix gender  \n",
       "0                  NaN              NaN                NaN   Male  \n",
       "1                  NaN              NaN                NaN   Male  \n",
       "2                  NaN              NaN                NaN   Male  \n",
       "3         1.209827e+09     Aug 10, 1976        208508400.0   Male  \n",
       "4                  NaN              NaN                NaN   Male  \n",
       "..                 ...              ...                ...    ...  \n",
       "995                NaN              NaN                NaN   Male  \n",
       "996                NaN              NaN                NaN   Male  \n",
       "997       1.037455e+09     Jan 26, 1982        380880000.0   Male  \n",
       "998       1.063721e+09     Mar 28, 1981        354614400.0   Male  \n",
       "999                NaN              NaN                NaN   Male  \n",
       "\n",
       "[1000 rows x 16 columns]"
      ]
     },
     "execution_count": 42,
     "metadata": {},
     "output_type": "execute_result"
    }
   ],
   "source": [
    "Beer_Data.head(1000)"
   ]
  },
  {
   "cell_type": "code",
   "execution_count": null,
   "id": "e1f65caa-baf2-4a9d-8a5b-43a8fbc6db47",
   "metadata": {},
   "outputs": [],
   "source": []
  },
  {
   "cell_type": "code",
   "execution_count": 43,
   "id": "10349541-a3ea-43c8-a5f3-e101181da260",
   "metadata": {},
   "outputs": [
    {
     "name": "stdout",
     "output_type": "stream",
     "text": [
      "<class 'pandas.core.frame.DataFrame'>\n",
      "RangeIndex: 37500 entries, 0 to 37499\n",
      "Data columns (total 16 columns):\n",
      " #   Column             Non-Null Count  Dtype  \n",
      "---  ------             --------------  -----  \n",
      " 0   index              37500 non-null  int64  \n",
      " 1   Alcohol_Content    37500 non-null  float64\n",
      " 2   BrewerID           37500 non-null  int64  \n",
      " 3   BeerName           37500 non-null  object \n",
      " 4   beer/style         37500 non-null  object \n",
      " 5   review/appearance  37500 non-null  float64\n",
      " 6   review/aroma       37500 non-null  float64\n",
      " 7   review/overall     37500 non-null  float64\n",
      " 8   review/palate      37500 non-null  float64\n",
      " 9   review/taste       37500 non-null  float64\n",
      " 10  review/text        37490 non-null  object \n",
      " 11  review/timeUnix    37500 non-null  int64  \n",
      " 12  user/ageInSeconds  7856 non-null   float64\n",
      " 13  user/birthdayRaw   7856 non-null   object \n",
      " 14  user/birthdayUnix  7856 non-null   float64\n",
      " 15  gender             36564 non-null  object \n",
      "dtypes: float64(8), int64(3), object(5)\n",
      "memory usage: 4.6+ MB\n"
     ]
    }
   ],
   "source": [
    "Beer_Data.info()"
   ]
  },
  {
   "cell_type": "code",
   "execution_count": 44,
   "id": "14e50614-f0ae-4922-805c-d6fc5de6a29e",
   "metadata": {},
   "outputs": [
    {
     "data": {
      "text/plain": [
       "gender\n",
       "Male      36297\n",
       "Female      267\n",
       "Name: count, dtype: int64"
      ]
     },
     "execution_count": 44,
     "metadata": {},
     "output_type": "execute_result"
    }
   ],
   "source": [
    "Beer_Data.gender.value_counts()"
   ]
  },
  {
   "cell_type": "code",
   "execution_count": 45,
   "id": "5e1a4ec1-6c73-47bb-b6cb-691c87fb6a99",
   "metadata": {},
   "outputs": [],
   "source": [
    "for index, row in Beer_Data.iterrows():\n",
    "    if pd.isnull(row['gender']):\n",
    "        Beer_Data.at[index, 'gender'] = 'Male'"
   ]
  },
  {
   "cell_type": "code",
   "execution_count": 46,
   "id": "192490f7-f3dd-4288-a84e-b88a47e52a75",
   "metadata": {},
   "outputs": [
    {
     "name": "stdout",
     "output_type": "stream",
     "text": [
      "<class 'pandas.core.frame.DataFrame'>\n",
      "RangeIndex: 37500 entries, 0 to 37499\n",
      "Data columns (total 16 columns):\n",
      " #   Column             Non-Null Count  Dtype  \n",
      "---  ------             --------------  -----  \n",
      " 0   index              37500 non-null  int64  \n",
      " 1   Alcohol_Content    37500 non-null  float64\n",
      " 2   BrewerID           37500 non-null  int64  \n",
      " 3   BeerName           37500 non-null  object \n",
      " 4   beer/style         37500 non-null  object \n",
      " 5   review/appearance  37500 non-null  float64\n",
      " 6   review/aroma       37500 non-null  float64\n",
      " 7   review/overall     37500 non-null  float64\n",
      " 8   review/palate      37500 non-null  float64\n",
      " 9   review/taste       37500 non-null  float64\n",
      " 10  review/text        37490 non-null  object \n",
      " 11  review/timeUnix    37500 non-null  int64  \n",
      " 12  user/ageInSeconds  7856 non-null   float64\n",
      " 13  user/birthdayRaw   7856 non-null   object \n",
      " 14  user/birthdayUnix  7856 non-null   float64\n",
      " 15  gender             37500 non-null  object \n",
      "dtypes: float64(8), int64(3), object(5)\n",
      "memory usage: 4.6+ MB\n"
     ]
    }
   ],
   "source": [
    "Beer_Data.info()"
   ]
  },
  {
   "cell_type": "code",
   "execution_count": 47,
   "id": "248792e6-645a-4c8d-8261-c7ea44f68295",
   "metadata": {},
   "outputs": [
    {
     "data": {
      "text/plain": [
       "<Axes: xlabel='gender', ylabel='count'>"
      ]
     },
     "execution_count": 47,
     "metadata": {},
     "output_type": "execute_result"
    },
    {
     "data": {
      "image/png": "[encoded data removed]",
      "text/plain": [
       "<Figure size 640x480 with 1 Axes>"
      ]
     },
     "metadata": {},
     "output_type": "display_data"
    }
   ],
   "source": [
    "sns.countplot(data=Beer_Data, x='gender')"
   ]
  },
  {
   "cell_type": "code",
   "execution_count": 48,
   "id": "15ac64c2-b320-49ce-b2bc-99dfdfeac288",
   "metadata": {},
   "outputs": [
    {
     "data": {
      "text/plain": [
       "gender\n",
       "Male      37233\n",
       "Female      267\n",
       "Name: count, dtype: int64"
      ]
     },
     "execution_count": 48,
     "metadata": {},
     "output_type": "execute_result"
    }
   ],
   "source": [
    "Beer_Data.gender.value_counts()"
   ]
  },
  {
   "cell_type": "code",
   "execution_count": 49,
   "id": "030475fe-6a22-4cb9-9a62-1b47d6c95235",
   "metadata": {},
   "outputs": [
    {
     "name": "stdout",
     "output_type": "stream",
     "text": [
      "<class 'pandas.core.frame.DataFrame'>\n",
      "RangeIndex: 37500 entries, 0 to 37499\n",
      "Data columns (total 16 columns):\n",
      " #   Column             Non-Null Count  Dtype  \n",
      "---  ------             --------------  -----  \n",
      " 0   index              37500 non-null  int64  \n",
      " 1   Alcohol_Content    37500 non-null  float64\n",
      " 2   BrewerID           37500 non-null  int64  \n",
      " 3   BeerName           37500 non-null  object \n",
      " 4   beer/style         37500 non-null  object \n",
      " 5   review/appearance  37500 non-null  float64\n",
      " 6   review/aroma       37500 non-null  float64\n",
      " 7   review/overall     37500 non-null  float64\n",
      " 8   review/palate      37500 non-null  float64\n",
      " 9   review/taste       37500 non-null  float64\n",
      " 10  review/text        37490 non-null  object \n",
      " 11  review/timeUnix    37500 non-null  int64  \n",
      " 12  user/ageInSeconds  7856 non-null   float64\n",
      " 13  user/birthdayRaw   7856 non-null   object \n",
      " 14  user/birthdayUnix  7856 non-null   float64\n",
      " 15  gender             37500 non-null  object \n",
      "dtypes: float64(8), int64(3), object(5)\n",
      "memory usage: 4.6+ MB\n"
     ]
    }
   ],
   "source": [
    "Beer_Data.info()"
   ]
  },
  {
   "cell_type": "code",
   "execution_count": 50,
   "id": "9df7791f-e2db-40a1-9a30-4bb5c1ab4368",
   "metadata": {},
   "outputs": [],
   "source": [
    "Beer_Data = Beer_Data.drop(['index', 'user/ageInSeconds', 'user/birthdayRaw', 'user/birthdayUnix', 'review/timeUnix'], axis=1)"
   ]
  },
  {
   "cell_type": "code",
   "execution_count": 51,
   "id": "a4f8ed85-9639-473d-af87-70a2739d8b2a",
   "metadata": {},
   "outputs": [
    {
     "name": "stdout",
     "output_type": "stream",
     "text": [
      "<class 'pandas.core.frame.DataFrame'>\n",
      "RangeIndex: 37500 entries, 0 to 37499\n",
      "Data columns (total 11 columns):\n",
      " #   Column             Non-Null Count  Dtype  \n",
      "---  ------             --------------  -----  \n",
      " 0   Alcohol_Content    37500 non-null  float64\n",
      " 1   BrewerID           37500 non-null  int64  \n",
      " 2   BeerName           37500 non-null  object \n",
      " 3   beer/style         37500 non-null  object \n",
      " 4   review/appearance  37500 non-null  float64\n",
      " 5   review/aroma       37500 non-null  float64\n",
      " 6   review/overall     37500 non-null  float64\n",
      " 7   review/palate      37500 non-null  float64\n",
      " 8   review/taste       37500 non-null  float64\n",
      " 9   review/text        37490 non-null  object \n",
      " 10  gender             37500 non-null  object \n",
      "dtypes: float64(6), int64(1), object(4)\n",
      "memory usage: 3.1+ MB\n"
     ]
    }
   ],
   "source": [
    "Beer_Data.info()"
   ]
  },
  {
   "cell_type": "code",
   "execution_count": 52,
   "id": "ceaf15e6-5cde-4c03-8bb0-8d8a00068d2e",
   "metadata": {},
   "outputs": [
    {
     "data": {
      "text/plain": [
       "BrewerID\n",
       "1199     14976\n",
       "394       2937\n",
       "14879     2351\n",
       "263       1809\n",
       "3268      1277\n",
       "         ...  \n",
       "3207         1\n",
       "2618         1\n",
       "14003        1\n",
       "17212        1\n",
       "16323        1\n",
       "Name: count, Length: 212, dtype: int64"
      ]
     },
     "execution_count": 52,
     "metadata": {},
     "output_type": "execute_result"
    }
   ],
   "source": [
    "Beer_Data.BrewerID.value_counts()"
   ]
  },
  {
   "cell_type": "code",
   "execution_count": 53,
   "id": "2d31492a-d75a-48c3-b8e5-824b85570d0e",
   "metadata": {},
   "outputs": [],
   "source": [
    "Beer_Data.dropna(subset=['review/text'], inplace=True)"
   ]
  },
  {
   "cell_type": "code",
   "execution_count": 54,
   "id": "1b9037e4-6e37-42b1-ad47-ce8efa7d8908",
   "metadata": {},
   "outputs": [
    {
     "name": "stdout",
     "output_type": "stream",
     "text": [
      "<class 'pandas.core.frame.DataFrame'>\n",
      "Index: 37490 entries, 0 to 37499\n",
      "Data columns (total 11 columns):\n",
      " #   Column             Non-Null Count  Dtype  \n",
      "---  ------             --------------  -----  \n",
      " 0   Alcohol_Content    37490 non-null  float64\n",
      " 1   BrewerID           37490 non-null  int64  \n",
      " 2   BeerName           37490 non-null  object \n",
      " 3   beer/style         37490 non-null  object \n",
      " 4   review/appearance  37490 non-null  float64\n",
      " 5   review/aroma       37490 non-null  float64\n",
      " 6   review/overall     37490 non-null  float64\n",
      " 7   review/palate      37490 non-null  float64\n",
      " 8   review/taste       37490 non-null  float64\n",
      " 9   review/text        37490 non-null  object \n",
      " 10  gender             37490 non-null  object \n",
      "dtypes: float64(6), int64(1), object(4)\n",
      "memory usage: 3.4+ MB\n"
     ]
    }
   ],
   "source": [
    "Beer_Data.info()"
   ]
  },
  {
   "cell_type": "markdown",
   "id": "040255d1-31c6-4352-a9f1-ed760ad6edae",
   "metadata": {},
   "source": [
    "# Sentimental Analysis"
   ]
  },
  {
   "cell_type": "code",
   "execution_count": 55,
   "id": "9bfffe2c-645c-4b93-90f9-fe1876de8ecc",
   "metadata": {},
   "outputs": [
    {
     "name": "stderr",
     "output_type": "stream",
     "text": [
      "[nltk_data] Downloading package vader_lexicon to\n",
      "[nltk_data]     C:\\Users\\diksh\\AppData\\Roaming\\nltk_data...\n",
      "[nltk_data]   Package vader_lexicon is already up-to-date!\n"
     ]
    },
    {
     "data": {
      "text/plain": [
       "True"
      ]
     },
     "execution_count": 55,
     "metadata": {},
     "output_type": "execute_result"
    }
   ],
   "source": [
    "import nltk\n",
    "nltk.download('vader_lexicon')"
   ]
  },
  {
   "cell_type": "code",
   "execution_count": 56,
   "id": "2a27334f-a2a2-45b3-813f-584356afc14b",
   "metadata": {
    "scrolled": true
   },
   "outputs": [],
   "source": [
    "from nltk.sentiment.vader import SentimentIntensityAnalyzer\n",
    "reviews = Beer_Data[\"review/text\"]\n",
    "\n",
    "sid = SentimentIntensityAnalyzer()\n",
    "\n",
    "def assign_rating(review):\n",
    "    sentiment_score = sid.polarity_scores(review)[\"compound\"]\n",
    "    if sentiment_score >= 0.5:\n",
    "        return 5\n",
    "    elif sentiment_score >= 0.2:\n",
    "        return 4\n",
    "    elif sentiment_score >= -0.2:\n",
    "        return 3\n",
    "    elif sentiment_score >= -0.5:\n",
    "        return 2\n",
    "    else:\n",
    "        return 1\n",
    "\n",
    "\n",
    "Beer_Data[\"bear_rating\"] = Beer_Data[\"review/text\"].apply(assign_rating)"
   ]
  },
  {
   "cell_type": "code",
   "execution_count": 57,
   "id": "87bea4fb-db93-4a3c-a67b-a1387b930e31",
   "metadata": {},
   "outputs": [
    {
     "data": {
      "text/html": [
       "<div>\n",
       "<style scoped>\n",
       "    .dataframe tbody tr th:only-of-type {\n",
       "        vertical-align: middle;\n",
       "    }\n",
       "\n",
       "    .dataframe tbody tr th {\n",
       "        vertical-align: top;\n",
       "    }\n",
       "\n",
       "    .dataframe thead th {\n",
       "        text-align: right;\n",
       "    }\n",
       "</style>\n",
       "<table border=\"1\" class=\"dataframe\">\n",
       "  <thead>\n",
       "    <tr style=\"text-align: right;\">\n",
       "      <th></th>\n",
       "      <th>Alcohol_Content</th>\n",
       "      <th>BrewerID</th>\n",
       "      <th>BeerName</th>\n",
       "      <th>beer/style</th>\n",
       "      <th>review/appearance</th>\n",
       "      <th>review/aroma</th>\n",
       "      <th>review/overall</th>\n",
       "      <th>review/palate</th>\n",
       "      <th>review/taste</th>\n",
       "      <th>review/text</th>\n",
       "      <th>gender</th>\n",
       "      <th>bear_rating</th>\n",
       "    </tr>\n",
       "  </thead>\n",
       "  <tbody>\n",
       "    <tr>\n",
       "      <th>0</th>\n",
       "      <td>5.0</td>\n",
       "      <td>14338</td>\n",
       "      <td>Chiostro</td>\n",
       "      <td>Herbed / Spiced Beer</td>\n",
       "      <td>4.0</td>\n",
       "      <td>4.0</td>\n",
       "      <td>4.0</td>\n",
       "      <td>4.0</td>\n",
       "      <td>4.0</td>\n",
       "      <td>Pours a clouded gold with a thin white head. N...</td>\n",
       "      <td>Male</td>\n",
       "      <td>3</td>\n",
       "    </tr>\n",
       "    <tr>\n",
       "      <th>1</th>\n",
       "      <td>11.0</td>\n",
       "      <td>395</td>\n",
       "      <td>Bearded Pat's Barleywine</td>\n",
       "      <td>American Barleywine</td>\n",
       "      <td>4.0</td>\n",
       "      <td>3.5</td>\n",
       "      <td>3.5</td>\n",
       "      <td>3.5</td>\n",
       "      <td>3.0</td>\n",
       "      <td>12oz bottle into 8oz snifter.\\t\\tDeep ruby red...</td>\n",
       "      <td>Male</td>\n",
       "      <td>5</td>\n",
       "    </tr>\n",
       "    <tr>\n",
       "      <th>2</th>\n",
       "      <td>4.7</td>\n",
       "      <td>365</td>\n",
       "      <td>Naughty Nellie's Ale</td>\n",
       "      <td>American Pale Ale (APA)</td>\n",
       "      <td>3.5</td>\n",
       "      <td>4.0</td>\n",
       "      <td>3.5</td>\n",
       "      <td>3.5</td>\n",
       "      <td>3.5</td>\n",
       "      <td>First enjoyed at the brewpub about 2 years ago...</td>\n",
       "      <td>Male</td>\n",
       "      <td>5</td>\n",
       "    </tr>\n",
       "    <tr>\n",
       "      <th>3</th>\n",
       "      <td>4.4</td>\n",
       "      <td>1</td>\n",
       "      <td>Pilsner Urquell</td>\n",
       "      <td>Czech Pilsener</td>\n",
       "      <td>3.0</td>\n",
       "      <td>3.0</td>\n",
       "      <td>2.5</td>\n",
       "      <td>3.0</td>\n",
       "      <td>3.0</td>\n",
       "      <td>First thing I noticed after pouring from green...</td>\n",
       "      <td>Male</td>\n",
       "      <td>5</td>\n",
       "    </tr>\n",
       "    <tr>\n",
       "      <th>4</th>\n",
       "      <td>4.4</td>\n",
       "      <td>1417</td>\n",
       "      <td>Black Sheep Ale (Special)</td>\n",
       "      <td>English Pale Ale</td>\n",
       "      <td>4.0</td>\n",
       "      <td>3.0</td>\n",
       "      <td>3.0</td>\n",
       "      <td>3.5</td>\n",
       "      <td>2.5</td>\n",
       "      <td>A: pours an amber with a one finger head but o...</td>\n",
       "      <td>Male</td>\n",
       "      <td>5</td>\n",
       "    </tr>\n",
       "  </tbody>\n",
       "</table>\n",
       "</div>"
      ],
      "text/plain": [
       "   Alcohol_Content  BrewerID                   BeerName  \\\n",
       "0              5.0     14338                   Chiostro   \n",
       "1             11.0       395   Bearded Pat's Barleywine   \n",
       "2              4.7       365       Naughty Nellie's Ale   \n",
       "3              4.4         1            Pilsner Urquell   \n",
       "4              4.4      1417  Black Sheep Ale (Special)   \n",
       "\n",
       "                beer/style  review/appearance  review/aroma  review/overall  \\\n",
       "0     Herbed / Spiced Beer                4.0           4.0             4.0   \n",
       "1      American Barleywine                4.0           3.5             3.5   \n",
       "2  American Pale Ale (APA)                3.5           4.0             3.5   \n",
       "3           Czech Pilsener                3.0           3.0             2.5   \n",
       "4         English Pale Ale                4.0           3.0             3.0   \n",
       "\n",
       "   review/palate  review/taste  \\\n",
       "0            4.0           4.0   \n",
       "1            3.5           3.0   \n",
       "2            3.5           3.5   \n",
       "3            3.0           3.0   \n",
       "4            3.5           2.5   \n",
       "\n",
       "                                         review/text gender  bear_rating  \n",
       "0  Pours a clouded gold with a thin white head. N...   Male            3  \n",
       "1  12oz bottle into 8oz snifter.\\t\\tDeep ruby red...   Male            5  \n",
       "2  First enjoyed at the brewpub about 2 years ago...   Male            5  \n",
       "3  First thing I noticed after pouring from green...   Male            5  \n",
       "4  A: pours an amber with a one finger head but o...   Male            5  "
      ]
     },
     "execution_count": 57,
     "metadata": {},
     "output_type": "execute_result"
    }
   ],
   "source": [
    "Beer_Data.head()"
   ]
  },
  {
   "cell_type": "markdown",
   "id": "2f152513-b37b-4ed3-95a2-9954c75e45b4",
   "metadata": {},
   "source": [
    "# Dummy Formation"
   ]
  },
  {
   "cell_type": "code",
   "execution_count": 58,
   "id": "ed0a3fcb-89f6-49d1-8987-0de7b0cf904c",
   "metadata": {},
   "outputs": [],
   "source": [
    "dummy_df = pd.get_dummies(Beer_Data['gender'], prefix='Gender', dtype=int)\n",
    "\n",
    "Beer_Data = pd.concat([Beer_Data, dummy_df], axis=1)"
   ]
  },
  {
   "cell_type": "code",
   "execution_count": 59,
   "id": "3bb9b7af-70bc-4f22-a879-258805f88576",
   "metadata": {},
   "outputs": [
    {
     "data": {
      "text/html": [
       "<div>\n",
       "<style scoped>\n",
       "    .dataframe tbody tr th:only-of-type {\n",
       "        vertical-align: middle;\n",
       "    }\n",
       "\n",
       "    .dataframe tbody tr th {\n",
       "        vertical-align: top;\n",
       "    }\n",
       "\n",
       "    .dataframe thead th {\n",
       "        text-align: right;\n",
       "    }\n",
       "</style>\n",
       "<table border=\"1\" class=\"dataframe\">\n",
       "  <thead>\n",
       "    <tr style=\"text-align: right;\">\n",
       "      <th></th>\n",
       "      <th>Alcohol_Content</th>\n",
       "      <th>BrewerID</th>\n",
       "      <th>BeerName</th>\n",
       "      <th>beer/style</th>\n",
       "      <th>review/appearance</th>\n",
       "      <th>review/aroma</th>\n",
       "      <th>review/overall</th>\n",
       "      <th>review/palate</th>\n",
       "      <th>review/taste</th>\n",
       "      <th>review/text</th>\n",
       "      <th>gender</th>\n",
       "      <th>bear_rating</th>\n",
       "      <th>Gender_Female</th>\n",
       "      <th>Gender_Male</th>\n",
       "    </tr>\n",
       "  </thead>\n",
       "  <tbody>\n",
       "    <tr>\n",
       "      <th>0</th>\n",
       "      <td>5.0</td>\n",
       "      <td>14338</td>\n",
       "      <td>Chiostro</td>\n",
       "      <td>Herbed / Spiced Beer</td>\n",
       "      <td>4.0</td>\n",
       "      <td>4.0</td>\n",
       "      <td>4.0</td>\n",
       "      <td>4.0</td>\n",
       "      <td>4.0</td>\n",
       "      <td>Pours a clouded gold with a thin white head. N...</td>\n",
       "      <td>Male</td>\n",
       "      <td>3</td>\n",
       "      <td>0</td>\n",
       "      <td>1</td>\n",
       "    </tr>\n",
       "    <tr>\n",
       "      <th>1</th>\n",
       "      <td>11.0</td>\n",
       "      <td>395</td>\n",
       "      <td>Bearded Pat's Barleywine</td>\n",
       "      <td>American Barleywine</td>\n",
       "      <td>4.0</td>\n",
       "      <td>3.5</td>\n",
       "      <td>3.5</td>\n",
       "      <td>3.5</td>\n",
       "      <td>3.0</td>\n",
       "      <td>12oz bottle into 8oz snifter.\\t\\tDeep ruby red...</td>\n",
       "      <td>Male</td>\n",
       "      <td>5</td>\n",
       "      <td>0</td>\n",
       "      <td>1</td>\n",
       "    </tr>\n",
       "    <tr>\n",
       "      <th>2</th>\n",
       "      <td>4.7</td>\n",
       "      <td>365</td>\n",
       "      <td>Naughty Nellie's Ale</td>\n",
       "      <td>American Pale Ale (APA)</td>\n",
       "      <td>3.5</td>\n",
       "      <td>4.0</td>\n",
       "      <td>3.5</td>\n",
       "      <td>3.5</td>\n",
       "      <td>3.5</td>\n",
       "      <td>First enjoyed at the brewpub about 2 years ago...</td>\n",
       "      <td>Male</td>\n",
       "      <td>5</td>\n",
       "      <td>0</td>\n",
       "      <td>1</td>\n",
       "    </tr>\n",
       "    <tr>\n",
       "      <th>3</th>\n",
       "      <td>4.4</td>\n",
       "      <td>1</td>\n",
       "      <td>Pilsner Urquell</td>\n",
       "      <td>Czech Pilsener</td>\n",
       "      <td>3.0</td>\n",
       "      <td>3.0</td>\n",
       "      <td>2.5</td>\n",
       "      <td>3.0</td>\n",
       "      <td>3.0</td>\n",
       "      <td>First thing I noticed after pouring from green...</td>\n",
       "      <td>Male</td>\n",
       "      <td>5</td>\n",
       "      <td>0</td>\n",
       "      <td>1</td>\n",
       "    </tr>\n",
       "    <tr>\n",
       "      <th>4</th>\n",
       "      <td>4.4</td>\n",
       "      <td>1417</td>\n",
       "      <td>Black Sheep Ale (Special)</td>\n",
       "      <td>English Pale Ale</td>\n",
       "      <td>4.0</td>\n",
       "      <td>3.0</td>\n",
       "      <td>3.0</td>\n",
       "      <td>3.5</td>\n",
       "      <td>2.5</td>\n",
       "      <td>A: pours an amber with a one finger head but o...</td>\n",
       "      <td>Male</td>\n",
       "      <td>5</td>\n",
       "      <td>0</td>\n",
       "      <td>1</td>\n",
       "    </tr>\n",
       "  </tbody>\n",
       "</table>\n",
       "</div>"
      ],
      "text/plain": [
       "   Alcohol_Content  BrewerID                   BeerName  \\\n",
       "0              5.0     14338                   Chiostro   \n",
       "1             11.0       395   Bearded Pat's Barleywine   \n",
       "2              4.7       365       Naughty Nellie's Ale   \n",
       "3              4.4         1            Pilsner Urquell   \n",
       "4              4.4      1417  Black Sheep Ale (Special)   \n",
       "\n",
       "                beer/style  review/appearance  review/aroma  review/overall  \\\n",
       "0     Herbed / Spiced Beer                4.0           4.0             4.0   \n",
       "1      American Barleywine                4.0           3.5             3.5   \n",
       "2  American Pale Ale (APA)                3.5           4.0             3.5   \n",
       "3           Czech Pilsener                3.0           3.0             2.5   \n",
       "4         English Pale Ale                4.0           3.0             3.0   \n",
       "\n",
       "   review/palate  review/taste  \\\n",
       "0            4.0           4.0   \n",
       "1            3.5           3.0   \n",
       "2            3.5           3.5   \n",
       "3            3.0           3.0   \n",
       "4            3.5           2.5   \n",
       "\n",
       "                                         review/text gender  bear_rating  \\\n",
       "0  Pours a clouded gold with a thin white head. N...   Male            3   \n",
       "1  12oz bottle into 8oz snifter.\\t\\tDeep ruby red...   Male            5   \n",
       "2  First enjoyed at the brewpub about 2 years ago...   Male            5   \n",
       "3  First thing I noticed after pouring from green...   Male            5   \n",
       "4  A: pours an amber with a one finger head but o...   Male            5   \n",
       "\n",
       "   Gender_Female  Gender_Male  \n",
       "0              0            1  \n",
       "1              0            1  \n",
       "2              0            1  \n",
       "3              0            1  \n",
       "4              0            1  "
      ]
     },
     "execution_count": 59,
     "metadata": {},
     "output_type": "execute_result"
    }
   ],
   "source": [
    "Beer_Data.head()"
   ]
  },
  {
   "cell_type": "code",
   "execution_count": null,
   "id": "44f0d223-64d6-4336-b9a5-52d59fffdac5",
   "metadata": {},
   "outputs": [],
   "source": []
  },
  {
   "cell_type": "code",
   "execution_count": 60,
   "id": "0a5c4762-a37e-4e34-ba3a-58c61667fee1",
   "metadata": {},
   "outputs": [
    {
     "data": {
      "text/html": [
       "<div>\n",
       "<style scoped>\n",
       "    .dataframe tbody tr th:only-of-type {\n",
       "        vertical-align: middle;\n",
       "    }\n",
       "\n",
       "    .dataframe tbody tr th {\n",
       "        vertical-align: top;\n",
       "    }\n",
       "\n",
       "    .dataframe thead th {\n",
       "        text-align: right;\n",
       "    }\n",
       "</style>\n",
       "<table border=\"1\" class=\"dataframe\">\n",
       "  <thead>\n",
       "    <tr style=\"text-align: right;\">\n",
       "      <th></th>\n",
       "      <th>Alcohol_Content</th>\n",
       "      <th>BrewerID</th>\n",
       "      <th>BeerName</th>\n",
       "      <th>beer/style</th>\n",
       "      <th>review/appearance</th>\n",
       "      <th>review/aroma</th>\n",
       "      <th>review/overall</th>\n",
       "      <th>review/palate</th>\n",
       "      <th>review/taste</th>\n",
       "      <th>review/text</th>\n",
       "      <th>gender</th>\n",
       "      <th>bear_rating</th>\n",
       "      <th>Gender_Female</th>\n",
       "      <th>Gender_Male</th>\n",
       "    </tr>\n",
       "  </thead>\n",
       "  <tbody>\n",
       "    <tr>\n",
       "      <th>0</th>\n",
       "      <td>5.0</td>\n",
       "      <td>14338</td>\n",
       "      <td>Chiostro</td>\n",
       "      <td>Herbed / Spiced Beer</td>\n",
       "      <td>4.0</td>\n",
       "      <td>4.0</td>\n",
       "      <td>4.0</td>\n",
       "      <td>4.0</td>\n",
       "      <td>4.0</td>\n",
       "      <td>Pours a clouded gold with a thin white head. N...</td>\n",
       "      <td>Male</td>\n",
       "      <td>3</td>\n",
       "      <td>0</td>\n",
       "      <td>1</td>\n",
       "    </tr>\n",
       "    <tr>\n",
       "      <th>1</th>\n",
       "      <td>11.0</td>\n",
       "      <td>395</td>\n",
       "      <td>Bearded Pat's Barleywine</td>\n",
       "      <td>American Barleywine</td>\n",
       "      <td>4.0</td>\n",
       "      <td>3.5</td>\n",
       "      <td>3.5</td>\n",
       "      <td>3.5</td>\n",
       "      <td>3.0</td>\n",
       "      <td>12oz bottle into 8oz snifter.\\t\\tDeep ruby red...</td>\n",
       "      <td>Male</td>\n",
       "      <td>5</td>\n",
       "      <td>0</td>\n",
       "      <td>1</td>\n",
       "    </tr>\n",
       "    <tr>\n",
       "      <th>2</th>\n",
       "      <td>4.7</td>\n",
       "      <td>365</td>\n",
       "      <td>Naughty Nellie's Ale</td>\n",
       "      <td>American Pale Ale (APA)</td>\n",
       "      <td>3.5</td>\n",
       "      <td>4.0</td>\n",
       "      <td>3.5</td>\n",
       "      <td>3.5</td>\n",
       "      <td>3.5</td>\n",
       "      <td>First enjoyed at the brewpub about 2 years ago...</td>\n",
       "      <td>Male</td>\n",
       "      <td>5</td>\n",
       "      <td>0</td>\n",
       "      <td>1</td>\n",
       "    </tr>\n",
       "    <tr>\n",
       "      <th>3</th>\n",
       "      <td>4.4</td>\n",
       "      <td>1</td>\n",
       "      <td>Pilsner Urquell</td>\n",
       "      <td>Czech Pilsener</td>\n",
       "      <td>3.0</td>\n",
       "      <td>3.0</td>\n",
       "      <td>2.5</td>\n",
       "      <td>3.0</td>\n",
       "      <td>3.0</td>\n",
       "      <td>First thing I noticed after pouring from green...</td>\n",
       "      <td>Male</td>\n",
       "      <td>5</td>\n",
       "      <td>0</td>\n",
       "      <td>1</td>\n",
       "    </tr>\n",
       "    <tr>\n",
       "      <th>4</th>\n",
       "      <td>4.4</td>\n",
       "      <td>1417</td>\n",
       "      <td>Black Sheep Ale (Special)</td>\n",
       "      <td>English Pale Ale</td>\n",
       "      <td>4.0</td>\n",
       "      <td>3.0</td>\n",
       "      <td>3.0</td>\n",
       "      <td>3.5</td>\n",
       "      <td>2.5</td>\n",
       "      <td>A: pours an amber with a one finger head but o...</td>\n",
       "      <td>Male</td>\n",
       "      <td>5</td>\n",
       "      <td>0</td>\n",
       "      <td>1</td>\n",
       "    </tr>\n",
       "  </tbody>\n",
       "</table>\n",
       "</div>"
      ],
      "text/plain": [
       "   Alcohol_Content  BrewerID                   BeerName  \\\n",
       "0              5.0     14338                   Chiostro   \n",
       "1             11.0       395   Bearded Pat's Barleywine   \n",
       "2              4.7       365       Naughty Nellie's Ale   \n",
       "3              4.4         1            Pilsner Urquell   \n",
       "4              4.4      1417  Black Sheep Ale (Special)   \n",
       "\n",
       "                beer/style  review/appearance  review/aroma  review/overall  \\\n",
       "0     Herbed / Spiced Beer                4.0           4.0             4.0   \n",
       "1      American Barleywine                4.0           3.5             3.5   \n",
       "2  American Pale Ale (APA)                3.5           4.0             3.5   \n",
       "3           Czech Pilsener                3.0           3.0             2.5   \n",
       "4         English Pale Ale                4.0           3.0             3.0   \n",
       "\n",
       "   review/palate  review/taste  \\\n",
       "0            4.0           4.0   \n",
       "1            3.5           3.0   \n",
       "2            3.5           3.5   \n",
       "3            3.0           3.0   \n",
       "4            3.5           2.5   \n",
       "\n",
       "                                         review/text gender  bear_rating  \\\n",
       "0  Pours a clouded gold with a thin white head. N...   Male            3   \n",
       "1  12oz bottle into 8oz snifter.\\t\\tDeep ruby red...   Male            5   \n",
       "2  First enjoyed at the brewpub about 2 years ago...   Male            5   \n",
       "3  First thing I noticed after pouring from green...   Male            5   \n",
       "4  A: pours an amber with a one finger head but o...   Male            5   \n",
       "\n",
       "   Gender_Female  Gender_Male  \n",
       "0              0            1  \n",
       "1              0            1  \n",
       "2              0            1  \n",
       "3              0            1  \n",
       "4              0            1  "
      ]
     },
     "execution_count": 60,
     "metadata": {},
     "output_type": "execute_result"
    }
   ],
   "source": [
    "Beer_Data.head()"
   ]
  },
  {
   "cell_type": "code",
   "execution_count": 61,
   "id": "439c8edd-4593-4dcf-b9e4-6fa15fd01786",
   "metadata": {},
   "outputs": [
    {
     "data": {
      "text/plain": [
       "(37490, 14)"
      ]
     },
     "execution_count": 61,
     "metadata": {},
     "output_type": "execute_result"
    }
   ],
   "source": [
    "Beer_Data.shape"
   ]
  },
  {
   "cell_type": "code",
   "execution_count": 62,
   "id": "acf58e10-597b-47e5-b6b0-9c6a8771a9fa",
   "metadata": {},
   "outputs": [],
   "source": [
    "Beer_Data = Beer_Data.drop(['BeerName', 'review/text', 'gender', 'beer/style'], axis=1)"
   ]
  },
  {
   "cell_type": "code",
   "execution_count": 63,
   "id": "a52193a1-dd90-41d0-b6a0-857d2eec49c0",
   "metadata": {},
   "outputs": [
    {
     "data": {
      "text/html": [
       "<div>\n",
       "<style scoped>\n",
       "    .dataframe tbody tr th:only-of-type {\n",
       "        vertical-align: middle;\n",
       "    }\n",
       "\n",
       "    .dataframe tbody tr th {\n",
       "        vertical-align: top;\n",
       "    }\n",
       "\n",
       "    .dataframe thead th {\n",
       "        text-align: right;\n",
       "    }\n",
       "</style>\n",
       "<table border=\"1\" class=\"dataframe\">\n",
       "  <thead>\n",
       "    <tr style=\"text-align: right;\">\n",
       "      <th></th>\n",
       "      <th>Alcohol_Content</th>\n",
       "      <th>BrewerID</th>\n",
       "      <th>review/appearance</th>\n",
       "      <th>review/aroma</th>\n",
       "      <th>review/overall</th>\n",
       "      <th>review/palate</th>\n",
       "      <th>review/taste</th>\n",
       "      <th>bear_rating</th>\n",
       "      <th>Gender_Female</th>\n",
       "      <th>Gender_Male</th>\n",
       "    </tr>\n",
       "  </thead>\n",
       "  <tbody>\n",
       "    <tr>\n",
       "      <th>0</th>\n",
       "      <td>5.0</td>\n",
       "      <td>14338</td>\n",
       "      <td>4.0</td>\n",
       "      <td>4.0</td>\n",
       "      <td>4.0</td>\n",
       "      <td>4.0</td>\n",
       "      <td>4.0</td>\n",
       "      <td>3</td>\n",
       "      <td>0</td>\n",
       "      <td>1</td>\n",
       "    </tr>\n",
       "    <tr>\n",
       "      <th>1</th>\n",
       "      <td>11.0</td>\n",
       "      <td>395</td>\n",
       "      <td>4.0</td>\n",
       "      <td>3.5</td>\n",
       "      <td>3.5</td>\n",
       "      <td>3.5</td>\n",
       "      <td>3.0</td>\n",
       "      <td>5</td>\n",
       "      <td>0</td>\n",
       "      <td>1</td>\n",
       "    </tr>\n",
       "    <tr>\n",
       "      <th>2</th>\n",
       "      <td>4.7</td>\n",
       "      <td>365</td>\n",
       "      <td>3.5</td>\n",
       "      <td>4.0</td>\n",
       "      <td>3.5</td>\n",
       "      <td>3.5</td>\n",
       "      <td>3.5</td>\n",
       "      <td>5</td>\n",
       "      <td>0</td>\n",
       "      <td>1</td>\n",
       "    </tr>\n",
       "    <tr>\n",
       "      <th>3</th>\n",
       "      <td>4.4</td>\n",
       "      <td>1</td>\n",
       "      <td>3.0</td>\n",
       "      <td>3.0</td>\n",
       "      <td>2.5</td>\n",
       "      <td>3.0</td>\n",
       "      <td>3.0</td>\n",
       "      <td>5</td>\n",
       "      <td>0</td>\n",
       "      <td>1</td>\n",
       "    </tr>\n",
       "    <tr>\n",
       "      <th>4</th>\n",
       "      <td>4.4</td>\n",
       "      <td>1417</td>\n",
       "      <td>4.0</td>\n",
       "      <td>3.0</td>\n",
       "      <td>3.0</td>\n",
       "      <td>3.5</td>\n",
       "      <td>2.5</td>\n",
       "      <td>5</td>\n",
       "      <td>0</td>\n",
       "      <td>1</td>\n",
       "    </tr>\n",
       "  </tbody>\n",
       "</table>\n",
       "</div>"
      ],
      "text/plain": [
       "   Alcohol_Content  BrewerID  review/appearance  review/aroma  review/overall  \\\n",
       "0              5.0     14338                4.0           4.0             4.0   \n",
       "1             11.0       395                4.0           3.5             3.5   \n",
       "2              4.7       365                3.5           4.0             3.5   \n",
       "3              4.4         1                3.0           3.0             2.5   \n",
       "4              4.4      1417                4.0           3.0             3.0   \n",
       "\n",
       "   review/palate  review/taste  bear_rating  Gender_Female  Gender_Male  \n",
       "0            4.0           4.0            3              0            1  \n",
       "1            3.5           3.0            5              0            1  \n",
       "2            3.5           3.5            5              0            1  \n",
       "3            3.0           3.0            5              0            1  \n",
       "4            3.5           2.5            5              0            1  "
      ]
     },
     "execution_count": 63,
     "metadata": {},
     "output_type": "execute_result"
    }
   ],
   "source": [
    "Beer_Data.head()"
   ]
  },
  {
   "cell_type": "code",
   "execution_count": 64,
   "id": "55658945-4cc0-4294-b4c9-74c8519edf85",
   "metadata": {},
   "outputs": [
    {
     "name": "stdout",
     "output_type": "stream",
     "text": [
      "<class 'pandas.core.frame.DataFrame'>\n",
      "Index: 37490 entries, 0 to 37499\n",
      "Data columns (total 10 columns):\n",
      " #   Column             Non-Null Count  Dtype  \n",
      "---  ------             --------------  -----  \n",
      " 0   Alcohol_Content    37490 non-null  float64\n",
      " 1   BrewerID           37490 non-null  int64  \n",
      " 2   review/appearance  37490 non-null  float64\n",
      " 3   review/aroma       37490 non-null  float64\n",
      " 4   review/overall     37490 non-null  float64\n",
      " 5   review/palate      37490 non-null  float64\n",
      " 6   review/taste       37490 non-null  float64\n",
      " 7   bear_rating        37490 non-null  int64  \n",
      " 8   Gender_Female      37490 non-null  int32  \n",
      " 9   Gender_Male        37490 non-null  int32  \n",
      "dtypes: float64(6), int32(2), int64(2)\n",
      "memory usage: 2.9 MB\n"
     ]
    }
   ],
   "source": [
    "Beer_Data.info()"
   ]
  },
  {
   "cell_type": "markdown",
   "id": "1bcef903-bd1e-4c0f-ad3f-d29276047971",
   "metadata": {},
   "source": [
    "# Categorical Approach"
   ]
  },
  {
   "cell_type": "code",
   "execution_count": 65,
   "id": "88445979-d0eb-4b61-96ea-c0bc9e86c988",
   "metadata": {},
   "outputs": [],
   "source": [
    "def assign_rating(score):\n",
    "    if score == 1.0:\n",
    "        return 'One Star'\n",
    "    elif score == 2.0:\n",
    "        return 'Two Star'\n",
    "    elif score == 3.0:\n",
    "        return 'Three Star'\n",
    "    elif score == 4.0:\n",
    "        return 'Four Star'\n",
    "    else:\n",
    "        return 'Five Star'\n",
    "\n",
    "Beer_Data[\"Overall_rating\"] = Beer_Data[\"review/overall\"].apply(assign_rating)"
   ]
  },
  {
   "cell_type": "code",
   "execution_count": 66,
   "id": "b6f0befc-5586-4c3a-ae77-a38345d41d04",
   "metadata": {},
   "outputs": [],
   "source": [
    "X = Beer_Data.drop(['review/overall'], axis=1)"
   ]
  },
  {
   "cell_type": "code",
   "execution_count": 67,
   "id": "9c105678-5003-4bec-951f-44fedb5a5520",
   "metadata": {},
   "outputs": [],
   "source": [
    "from sklearn.model_selection import train_test_split\n",
    "from sklearn.metrics import accuracy_score, classification_report, confusion_matrix"
   ]
  },
  {
   "cell_type": "code",
   "execution_count": 68,
   "id": "08a1f23a-749e-4ea8-86c6-36ca54c1a2f0",
   "metadata": {},
   "outputs": [],
   "source": [
    "Y = Beer_Data['Overall_rating']"
   ]
  },
  {
   "cell_type": "code",
   "execution_count": 69,
   "id": "1a10b10a-f952-4e77-82ad-fd6e68831f93",
   "metadata": {},
   "outputs": [
    {
     "data": {
      "text/plain": [
       "0     Four Star\n",
       "1     Five Star\n",
       "2     Five Star\n",
       "3     Five Star\n",
       "4    Three Star\n",
       "Name: Overall_rating, dtype: object"
      ]
     },
     "execution_count": 69,
     "metadata": {},
     "output_type": "execute_result"
    }
   ],
   "source": [
    "Y.head()"
   ]
  },
  {
   "cell_type": "code",
   "execution_count": 70,
   "id": "1f31243e-7683-4115-834f-2b385bc16ce1",
   "metadata": {},
   "outputs": [],
   "source": [
    "X = X.drop(['Overall_rating'], axis=1)"
   ]
  },
  {
   "cell_type": "code",
   "execution_count": 71,
   "id": "8f273072-5d6e-409a-8f1a-0209e02e5cce",
   "metadata": {},
   "outputs": [],
   "source": [
    "X_train, X_test, y_train, y_test = train_test_split(X, Y, test_size=0.2, random_state=42)"
   ]
  },
  {
   "cell_type": "markdown",
   "id": "2397f463-23f6-4e12-aa2c-f674f34b10e8",
   "metadata": {},
   "source": [
    "# Train Using Random Forest"
   ]
  },
  {
   "cell_type": "code",
   "execution_count": 72,
   "id": "cfb0c770-5144-4a80-be9b-100126dbc4f1",
   "metadata": {},
   "outputs": [],
   "source": [
    "from sklearn.ensemble import RandomForestClassifier"
   ]
  },
  {
   "cell_type": "code",
   "execution_count": 73,
   "id": "63e2337b-871f-4138-9515-4238434d5c26",
   "metadata": {},
   "outputs": [],
   "source": [
    "rf_classifier = RandomForestClassifier(n_estimators=100, random_state=42)"
   ]
  },
  {
   "cell_type": "code",
   "execution_count": 74,
   "id": "ab3e690d-7de5-4878-b7a7-4f6ea5e3ad92",
   "metadata": {},
   "outputs": [
    {
     "data": {
      "text/html": [
       "<style>#sk-container-id-1 {color: black;background-color: white;}#sk-container-id-1 pre{padding: 0;}#sk-container-id-1 div.sk-toggleable {background-color: white;}#sk-container-id-1 label.sk-toggleable__label {cursor: pointer;display: block;width: 100%;margin-bottom: 0;padding: 0.3em;box-sizing: border-box;text-align: center;}#sk-container-id-1 label.sk-toggleable__label-arrow:before {content: \"▸\";float: left;margin-right: 0.25em;color: #696969;}#sk-container-id-1 label.sk-toggleable__label-arrow:hover:before {color: black;}#sk-container-id-1 div.sk-estimator:hover label.sk-toggleable__label-arrow:before {color: black;}#sk-container-id-1 div.sk-toggleable__content {max-height: 0;max-width: 0;overflow: hidden;text-align: left;background-color: #f0f8ff;}#sk-container-id-1 div.sk-toggleable__content pre {margin: 0.2em;color: black;border-radius: 0.25em;background-color: #f0f8ff;}#sk-container-id-1 input.sk-toggleable__control:checked~div.sk-toggleable__content {max-height: 200px;max-width: 100%;overflow: auto;}#sk-container-id-1 input.sk-toggleable__control:checked~label.sk-toggleable__label-arrow:before {content: \"▾\";}#sk-container-id-1 div.sk-estimator input.sk-toggleable__control:checked~label.sk-toggleable__label {background-color: #d4ebff;}#sk-container-id-1 div.sk-label input.sk-toggleable__control:checked~label.sk-toggleable__label {background-color: #d4ebff;}#sk-container-id-1 input.sk-hidden--visually {border: 0;clip: rect(1px 1px 1px 1px);clip: rect(1px, 1px, 1px, 1px);height: 1px;margin: -1px;overflow: hidden;padding: 0;position: absolute;width: 1px;}#sk-container-id-1 div.sk-estimator {font-family: monospace;background-color: #f0f8ff;border: 1px dotted black;border-radius: 0.25em;box-sizing: border-box;margin-bottom: 0.5em;}#sk-container-id-1 div.sk-estimator:hover {background-color: #d4ebff;}#sk-container-id-1 div.sk-parallel-item::after {content: \"\";width: 100%;border-bottom: 1px solid gray;flex-grow: 1;}#sk-container-id-1 div.sk-label:hover label.sk-toggleable__label {background-color: #d4ebff;}#sk-container-id-1 div.sk-serial::before {content: \"\";position: absolute;border-left: 1px solid gray;box-sizing: border-box;top: 0;bottom: 0;left: 50%;z-index: 0;}#sk-container-id-1 div.sk-serial {display: flex;flex-direction: column;align-items: center;background-color: white;padding-right: 0.2em;padding-left: 0.2em;position: relative;}#sk-container-id-1 div.sk-item {position: relative;z-index: 1;}#sk-container-id-1 div.sk-parallel {display: flex;align-items: stretch;justify-content: center;background-color: white;position: relative;}#sk-container-id-1 div.sk-item::before, #sk-container-id-1 div.sk-parallel-item::before {content: \"\";position: absolute;border-left: 1px solid gray;box-sizing: border-box;top: 0;bottom: 0;left: 50%;z-index: -1;}#sk-container-id-1 div.sk-parallel-item {display: flex;flex-direction: column;z-index: 1;position: relative;background-color: white;}#sk-container-id-1 div.sk-parallel-item:first-child::after {align-self: flex-end;width: 50%;}#sk-container-id-1 div.sk-parallel-item:last-child::after {align-self: flex-start;width: 50%;}#sk-container-id-1 div.sk-parallel-item:only-child::after {width: 0;}#sk-container-id-1 div.sk-dashed-wrapped {border: 1px dashed gray;margin: 0 0.4em 0.5em 0.4em;box-sizing: border-box;padding-bottom: 0.4em;background-color: white;}#sk-container-id-1 div.sk-label label {font-family: monospace;font-weight: bold;display: inline-block;line-height: 1.2em;}#sk-container-id-1 div.sk-label-container {text-align: center;}#sk-container-id-1 div.sk-container {/* jupyter's `normalize.less` sets `[hidden] { display: none; }` but bootstrap.min.css set `[hidden] { display: none !important; }` so we also need the `!important` here to be able to override the default hidden behavior on the sphinx rendered scikit-learn.org. See: https://github.com/scikit-learn/scikit-learn/issues/21755 */display: inline-block !important;position: relative;}#sk-container-id-1 div.sk-text-repr-fallback {display: none;}</style><div id=\"sk-container-id-1\" class=\"sk-top-container\"><div class=\"sk-text-repr-fallback\"><pre>RandomForestClassifier(random_state=42)</pre><b>In a Jupyter environment, please rerun this cell to show the HTML representation or trust the notebook. <br />On GitHub, the HTML representation is unable to render, please try loading this page with nbviewer.org.</b></div><div class=\"sk-container\" hidden><div class=\"sk-item\"><div class=\"sk-estimator sk-toggleable\"><input class=\"sk-toggleable__control sk-hidden--visually\" id=\"sk-estimator-id-1\" type=\"checkbox\" checked><label for=\"sk-estimator-id-1\" class=\"sk-toggleable__label sk-toggleable__label-arrow\">RandomForestClassifier</label><div class=\"sk-toggleable__content\"><pre>RandomForestClassifier(random_state=42)</pre></div></div></div></div></div>"
      ],
      "text/plain": [
       "RandomForestClassifier(random_state=42)"
      ]
     },
     "execution_count": 74,
     "metadata": {},
     "output_type": "execute_result"
    }
   ],
   "source": [
    "rf_classifier.fit(X_train, y_train)"
   ]
  },
  {
   "cell_type": "code",
   "execution_count": 75,
   "id": "712fbc50-b9c3-487b-8e3e-3b189cafe520",
   "metadata": {},
   "outputs": [],
   "source": [
    "y_pred = rf_classifier.predict(X_test)"
   ]
  },
  {
   "cell_type": "code",
   "execution_count": 76,
   "id": "407c558c-9d30-4976-996e-420816916b9e",
   "metadata": {},
   "outputs": [
    {
     "name": "stdout",
     "output_type": "stream",
     "text": [
      "Accuracy: 0.5506801813817018\n"
     ]
    }
   ],
   "source": [
    "accuracy = accuracy_score(y_test, y_pred)\n",
    "print(\"Accuracy:\", accuracy)"
   ]
  },
  {
   "cell_type": "code",
   "execution_count": 77,
   "id": "dc4b0967-6611-4d5d-82b2-3a474b350767",
   "metadata": {},
   "outputs": [
    {
     "name": "stdout",
     "output_type": "stream",
     "text": [
      "\n",
      "Classification Report:\n",
      "              precision    recall  f1-score   support\n",
      "\n",
      "   Five Star       0.59      0.62      0.61      3860\n",
      "   Four Star       0.53      0.52      0.52      2739\n",
      "    One Star       0.70      0.44      0.54        43\n",
      "  Three Star       0.41      0.32      0.36       698\n",
      "    Two Star       0.40      0.33      0.36       158\n",
      "\n",
      "    accuracy                           0.55      7498\n",
      "   macro avg       0.53      0.45      0.48      7498\n",
      "weighted avg       0.55      0.55      0.55      7498\n",
      "\n"
     ]
    }
   ],
   "source": [
    "print(\"\\nClassification Report:\")\n",
    "print(classification_report(y_test, y_pred))"
   ]
  },
  {
   "cell_type": "code",
   "execution_count": 78,
   "id": "11c1b825-ebd9-49ea-9b2e-76f4cf618a28",
   "metadata": {},
   "outputs": [
    {
     "name": "stdout",
     "output_type": "stream",
     "text": [
      "\n",
      "Confusion Matrix:\n",
      "[[2407 1169    6  230   48]\n",
      " [1243 1431    0   62    3]\n",
      " [  13    0   19    0   11]\n",
      " [ 345  117    0  220   16]\n",
      " [  77    4    2   23   52]]\n"
     ]
    }
   ],
   "source": [
    "print(\"\\nConfusion Matrix:\")\n",
    "print(confusion_matrix(y_test, y_pred))"
   ]
  }
 ],
 "metadata": {
  "kernelspec": {
   "display_name": "Python 3 (ipykernel)",
   "language": "python",
   "name": "python3"
  },
  "language_info": {
   "codemirror_mode": {
    "name": "ipython",
    "version": 3
   },
   "file_extension": ".py",
   "mimetype": "text/x-python",
   "name": "python",
   "nbconvert_exporter": "python",
   "pygments_lexer": "ipython3",
   "version": "3.11.7"
  }
 },
 "nbformat": 4,
 "nbformat_minor": 5
}
