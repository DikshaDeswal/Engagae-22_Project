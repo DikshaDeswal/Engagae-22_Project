{
 "cells": [
  {
   "cell_type": "code",
   "execution_count": 1,
   "id": "92d91d77",
   "metadata": {},
   "outputs": [],
   "source": [
    "import pandas as pd\n",
    "import numpy as np\n",
    "import seaborn as sns\n",
    "import matplotlib.pyplot as plt\n",
    "import pickle"
   ]
  },
  {
   "cell_type": "code",
   "execution_count": 2,
   "id": "c5396c97",
   "metadata": {},
   "outputs": [],
   "source": [
    "df=pd.read_csv('price_22.csv')"
   ]
  },
  {
   "cell_type": "code",
   "execution_count": 3,
   "id": "9ca84e90",
   "metadata": {},
   "outputs": [
    {
     "data": {
      "text/html": [
       "<div>\n",
       "<style scoped>\n",
       "    .dataframe tbody tr th:only-of-type {\n",
       "        vertical-align: middle;\n",
       "    }\n",
       "\n",
       "    .dataframe tbody tr th {\n",
       "        vertical-align: top;\n",
       "    }\n",
       "\n",
       "    .dataframe thead th {\n",
       "        text-align: right;\n",
       "    }\n",
       "</style>\n",
       "<table border=\"1\" class=\"dataframe\">\n",
       "  <thead>\n",
       "    <tr style=\"text-align: right;\">\n",
       "      <th></th>\n",
       "      <th>Torque</th>\n",
       "      <th>Power</th>\n",
       "      <th>ARAI_Certified_Mileage</th>\n",
       "      <th>Ex-Showroom_Price</th>\n",
       "    </tr>\n",
       "  </thead>\n",
       "  <tbody>\n",
       "    <tr>\n",
       "      <th>0</th>\n",
       "      <td>51Nm@4000rpm</td>\n",
       "      <td>38PS@5500rpm</td>\n",
       "      <td>23.6 km/litre</td>\n",
       "      <td>Rs. 2,92,667</td>\n",
       "    </tr>\n",
       "    <tr>\n",
       "      <th>1</th>\n",
       "      <td>51Nm@4000rpm</td>\n",
       "      <td>38PS@5500rpm</td>\n",
       "      <td>23.6 km/litre</td>\n",
       "      <td>Rs. 2,36,447</td>\n",
       "    </tr>\n",
       "    <tr>\n",
       "      <th>2</th>\n",
       "      <td>51Nm@4000rpm</td>\n",
       "      <td>38PS@5500rpm</td>\n",
       "      <td>NaN</td>\n",
       "      <td>Rs. 2,96,661</td>\n",
       "    </tr>\n",
       "    <tr>\n",
       "      <th>3</th>\n",
       "      <td>51Nm@4000rpm</td>\n",
       "      <td>38PS@5500rpm</td>\n",
       "      <td>21.9 km/litre</td>\n",
       "      <td>Rs. 3,34,768</td>\n",
       "    </tr>\n",
       "    <tr>\n",
       "      <th>4</th>\n",
       "      <td>51Nm@4000rpm</td>\n",
       "      <td>38PS@5500rpm</td>\n",
       "      <td>23.6 km/litre</td>\n",
       "      <td>Rs. 2,72,223</td>\n",
       "    </tr>\n",
       "  </tbody>\n",
       "</table>\n",
       "</div>"
      ],
      "text/plain": [
       "         Torque         Power ARAI_Certified_Mileage Ex-Showroom_Price\n",
       "0  51Nm@4000rpm  38PS@5500rpm          23.6 km/litre      Rs. 2,92,667\n",
       "1  51Nm@4000rpm  38PS@5500rpm          23.6 km/litre      Rs. 2,36,447\n",
       "2  51Nm@4000rpm  38PS@5500rpm                    NaN      Rs. 2,96,661\n",
       "3  51Nm@4000rpm  38PS@5500rpm          21.9 km/litre      Rs. 3,34,768\n",
       "4  51Nm@4000rpm  38PS@5500rpm          23.6 km/litre      Rs. 2,72,223"
      ]
     },
     "execution_count": 3,
     "metadata": {},
     "output_type": "execute_result"
    }
   ],
   "source": [
    "df.head()"
   ]
  },
  {
   "cell_type": "code",
   "execution_count": 4,
   "id": "5391a0e3",
   "metadata": {},
   "outputs": [],
   "source": [
    "df['Torque']=df['Torque'].fillna('90Nm@3500rpm')\n",
    "df['Ex-Showroom_Price'] = df['Ex-Showroom_Price'].str.replace('Rs. ','',regex=False)\n",
    "df['Ex-Showroom_Price'] = df['Ex-Showroom_Price'].str.replace(',','',regex=False)\n",
    "df['Ex-Showroom_Price'] = df['Ex-Showroom_Price'].astype(int)\n",
    "df.loc[df.ARAI_Certified_Mileage == '9.8-10.0 km/litre','ARAI_Certified_Mileage'] = '10'\n",
    "df.loc[df.ARAI_Certified_Mileage == '22.4-21.9 km/litre','ARAI_Certified_Mileage'] = '20'\n",
    "df.loc[df.ARAI_Certified_Mileage == '10kmpl km/litre','ARAI_Certified_Mileage'] = '10'\n",
    "df['ARAI_Certified_Mileage'] = df['ARAI_Certified_Mileage'].str.replace(' km/litre','',regex=False).astype(float)\n",
    "df['ARAI_Certified_Mileage']=df['ARAI_Certified_Mileage'].fillna(23.00)\n",
    "HP = df.Power.str.extract(r'(\\d{1,4}).*').astype(int) * 0.98632\n",
    "HP = HP.apply(lambda x: round(x,2))\n",
    "TQ = df.Torque.str.extract(r'(\\d{1,4}).*').astype(int)\n",
    "TQ = TQ.apply(lambda x: round(x,2))\n",
    "df.Torque = TQ\n",
    "df.Power = HP"
   ]
  },
  {
   "cell_type": "code",
   "execution_count": 5,
   "id": "28efde5a",
   "metadata": {},
   "outputs": [
    {
     "data": {
      "text/html": [
       "<div>\n",
       "<style scoped>\n",
       "    .dataframe tbody tr th:only-of-type {\n",
       "        vertical-align: middle;\n",
       "    }\n",
       "\n",
       "    .dataframe tbody tr th {\n",
       "        vertical-align: top;\n",
       "    }\n",
       "\n",
       "    .dataframe thead th {\n",
       "        text-align: right;\n",
       "    }\n",
       "</style>\n",
       "<table border=\"1\" class=\"dataframe\">\n",
       "  <thead>\n",
       "    <tr style=\"text-align: right;\">\n",
       "      <th></th>\n",
       "      <th>Torque</th>\n",
       "      <th>Power</th>\n",
       "      <th>ARAI_Certified_Mileage</th>\n",
       "      <th>Ex-Showroom_Price</th>\n",
       "    </tr>\n",
       "  </thead>\n",
       "  <tbody>\n",
       "    <tr>\n",
       "      <th>0</th>\n",
       "      <td>51</td>\n",
       "      <td>37.48</td>\n",
       "      <td>23.6</td>\n",
       "      <td>292667</td>\n",
       "    </tr>\n",
       "    <tr>\n",
       "      <th>1</th>\n",
       "      <td>51</td>\n",
       "      <td>37.48</td>\n",
       "      <td>23.6</td>\n",
       "      <td>236447</td>\n",
       "    </tr>\n",
       "    <tr>\n",
       "      <th>2</th>\n",
       "      <td>51</td>\n",
       "      <td>37.48</td>\n",
       "      <td>23.0</td>\n",
       "      <td>296661</td>\n",
       "    </tr>\n",
       "    <tr>\n",
       "      <th>3</th>\n",
       "      <td>51</td>\n",
       "      <td>37.48</td>\n",
       "      <td>21.9</td>\n",
       "      <td>334768</td>\n",
       "    </tr>\n",
       "    <tr>\n",
       "      <th>4</th>\n",
       "      <td>51</td>\n",
       "      <td>37.48</td>\n",
       "      <td>23.6</td>\n",
       "      <td>272223</td>\n",
       "    </tr>\n",
       "  </tbody>\n",
       "</table>\n",
       "</div>"
      ],
      "text/plain": [
       "   Torque  Power  ARAI_Certified_Mileage  Ex-Showroom_Price\n",
       "0      51  37.48                    23.6             292667\n",
       "1      51  37.48                    23.6             236447\n",
       "2      51  37.48                    23.0             296661\n",
       "3      51  37.48                    21.9             334768\n",
       "4      51  37.48                    23.6             272223"
      ]
     },
     "execution_count": 5,
     "metadata": {},
     "output_type": "execute_result"
    }
   ],
   "source": [
    "df.head()"
   ]
  },
  {
   "cell_type": "code",
   "execution_count": 6,
   "id": "d9fd43cc",
   "metadata": {},
   "outputs": [
    {
     "data": {
      "text/plain": [
       "Torque                    0\n",
       "Power                     0\n",
       "ARAI_Certified_Mileage    0\n",
       "Ex-Showroom_Price         0\n",
       "dtype: int64"
      ]
     },
     "execution_count": 6,
     "metadata": {},
     "output_type": "execute_result"
    }
   ],
   "source": [
    "df.isnull().sum()"
   ]
  },
  {
   "cell_type": "code",
   "execution_count": 7,
   "id": "b267bd93",
   "metadata": {},
   "outputs": [],
   "source": [
    "from sklearn.linear_model import LogisticRegression  # for Logistic Regression algorithm\n",
    "from sklearn.model_selection import train_test_split #to split the dataset for training and testing\n",
    "from sklearn.neighbors import KNeighborsClassifier  # for K nearest neighbours\n",
    "from sklearn import svm  #for Support Vector Machine (SVM) Algorithm\n",
    "from sklearn import metrics #for checking the model accuracy\n",
    "from sklearn.tree import DecisionTreeClassifier #for using Decision Tree Algoithm"
   ]
  },
  {
   "cell_type": "code",
   "execution_count": 8,
   "id": "270246ce",
   "metadata": {},
   "outputs": [
    {
     "name": "stdout",
     "output_type": "stream",
     "text": [
      "(893, 4)\n",
      "(383, 4)\n"
     ]
    }
   ],
   "source": [
    "train, test = train_test_split(df, test_size = 0.3)\n",
    "print(train.shape)\n",
    "print(test.shape)"
   ]
  },
  {
   "cell_type": "code",
   "execution_count": 9,
   "id": "8242bcd3",
   "metadata": {},
   "outputs": [],
   "source": [
    "train_X = train[['Torque', 'Power', 'ARAI_Certified_Mileage']]\n",
    "train_y=train['Ex-Showroom_Price']\n",
    "test_X= test[['Torque', 'Power', 'ARAI_Certified_Mileage']]\n",
    "test_y =test['Ex-Showroom_Price']"
   ]
  },
  {
   "cell_type": "code",
   "execution_count": 10,
   "id": "e8c456d4",
   "metadata": {},
   "outputs": [],
   "source": [
    "model = svm.SVC() \n",
    "model.fit(train_X,train_y) \n",
    "prediction=model.predict(test_X)"
   ]
  },
  {
   "cell_type": "code",
   "execution_count": 11,
   "id": "ecf9ed5b",
   "metadata": {},
   "outputs": [
    {
     "name": "stdout",
     "output_type": "stream",
     "text": [
      "The accuracy of the SVM is: 0.0026109660574412533\n"
     ]
    }
   ],
   "source": [
    "print('The accuracy of the SVM is:',metrics.accuracy_score(prediction,test_y))"
   ]
  },
  {
   "cell_type": "code",
   "execution_count": 12,
   "id": "964a7ffe",
   "metadata": {},
   "outputs": [
    {
     "name": "stdout",
     "output_type": "stream",
     "text": [
      "[999900]\n"
     ]
    }
   ],
   "source": [
    "print(model.predict([[0,1,4]]))"
   ]
  },
  {
   "cell_type": "code",
   "execution_count": 13,
   "id": "e5eaccbc",
   "metadata": {},
   "outputs": [],
   "source": [
    "pickle.dump(model, open('Price_22_Pred_Model.pkl','wb'))"
   ]
  }
 ],
 "metadata": {
  "kernelspec": {
   "display_name": "Python 3",
   "language": "python",
   "name": "python3"
  },
  "language_info": {
   "codemirror_mode": {
    "name": "ipython",
    "version": 3
   },
   "file_extension": ".py",
   "mimetype": "text/x-python",
   "name": "python",
   "nbconvert_exporter": "python",
   "pygments_lexer": "ipython3",
   "version": "3.8.8"
  }
 },
 "nbformat": 4,
 "nbformat_minor": 5
}
