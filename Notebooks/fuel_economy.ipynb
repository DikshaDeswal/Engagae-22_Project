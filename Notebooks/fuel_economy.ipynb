{
 "cells": [
  {
   "cell_type": "markdown",
   "id": "e654d82b",
   "metadata": {},
   "source": [
    "# Factors Affecting Cars Mileage"
   ]
  },
  {
   "cell_type": "code",
   "execution_count": 1,
   "id": "2929e24d",
   "metadata": {},
   "outputs": [],
   "source": [
    "#Importing dependencies\n",
    "import pandas as pd\n",
    "import numpy as np\n",
    "import matplotlib.pyplot as plt\n",
    "import seaborn as sns"
   ]
  },
  {
   "cell_type": "code",
   "execution_count": 2,
   "id": "8c893a3b",
   "metadata": {},
   "outputs": [],
   "source": [
    "#loading dataset\n",
    "df = pd.read_csv('fuel_economy.csv')"
   ]
  },
  {
   "cell_type": "code",
   "execution_count": 3,
   "id": "fe3c364d",
   "metadata": {},
   "outputs": [
    {
     "data": {
      "text/plain": [
       "(1276, 11)"
      ]
     },
     "execution_count": 3,
     "metadata": {},
     "output_type": "execute_result"
    }
   ],
   "source": [
    "df.shape"
   ]
  },
  {
   "cell_type": "code",
   "execution_count": 4,
   "id": "009bfed5",
   "metadata": {},
   "outputs": [
    {
     "data": {
      "text/html": [
       "<div>\n",
       "<style scoped>\n",
       "    .dataframe tbody tr th:only-of-type {\n",
       "        vertical-align: middle;\n",
       "    }\n",
       "\n",
       "    .dataframe tbody tr th {\n",
       "        vertical-align: top;\n",
       "    }\n",
       "\n",
       "    .dataframe thead th {\n",
       "        text-align: right;\n",
       "    }\n",
       "</style>\n",
       "<table border=\"1\" class=\"dataframe\">\n",
       "  <thead>\n",
       "    <tr style=\"text-align: right;\">\n",
       "      <th></th>\n",
       "      <th>Cylinders</th>\n",
       "      <th>Valves_Per_Cylinder</th>\n",
       "    </tr>\n",
       "  </thead>\n",
       "  <tbody>\n",
       "    <tr>\n",
       "      <th>count</th>\n",
       "      <td>1210.000000</td>\n",
       "      <td>1174.000000</td>\n",
       "    </tr>\n",
       "    <tr>\n",
       "      <th>mean</th>\n",
       "      <td>4.380992</td>\n",
       "      <td>3.977853</td>\n",
       "    </tr>\n",
       "    <tr>\n",
       "      <th>std</th>\n",
       "      <td>1.660957</td>\n",
       "      <td>0.833763</td>\n",
       "    </tr>\n",
       "    <tr>\n",
       "      <th>min</th>\n",
       "      <td>2.000000</td>\n",
       "      <td>1.000000</td>\n",
       "    </tr>\n",
       "    <tr>\n",
       "      <th>25%</th>\n",
       "      <td>4.000000</td>\n",
       "      <td>4.000000</td>\n",
       "    </tr>\n",
       "    <tr>\n",
       "      <th>50%</th>\n",
       "      <td>4.000000</td>\n",
       "      <td>4.000000</td>\n",
       "    </tr>\n",
       "    <tr>\n",
       "      <th>75%</th>\n",
       "      <td>4.000000</td>\n",
       "      <td>4.000000</td>\n",
       "    </tr>\n",
       "    <tr>\n",
       "      <th>max</th>\n",
       "      <td>16.000000</td>\n",
       "      <td>16.000000</td>\n",
       "    </tr>\n",
       "  </tbody>\n",
       "</table>\n",
       "</div>"
      ],
      "text/plain": [
       "         Cylinders  Valves_Per_Cylinder\n",
       "count  1210.000000          1174.000000\n",
       "mean      4.380992             3.977853\n",
       "std       1.660957             0.833763\n",
       "min       2.000000             1.000000\n",
       "25%       4.000000             4.000000\n",
       "50%       4.000000             4.000000\n",
       "75%       4.000000             4.000000\n",
       "max      16.000000            16.000000"
      ]
     },
     "execution_count": 4,
     "metadata": {},
     "output_type": "execute_result"
    }
   ],
   "source": [
    "df.describe()"
   ]
  },
  {
   "cell_type": "code",
   "execution_count": 5,
   "id": "b291f46d",
   "metadata": {},
   "outputs": [
    {
     "name": "stdout",
     "output_type": "stream",
     "text": [
      "<class 'pandas.core.frame.DataFrame'>\n",
      "RangeIndex: 1276 entries, 0 to 1275\n",
      "Data columns (total 11 columns):\n",
      " #   Column                  Non-Null Count  Dtype  \n",
      "---  ------                  --------------  -----  \n",
      " 0   Displacement            1264 non-null   object \n",
      " 1   Cylinders               1210 non-null   float64\n",
      " 2   Valves_Per_Cylinder     1174 non-null   float64\n",
      " 3   Cylinder_Configuration  1263 non-null   object \n",
      " 4   Fuel_System             1268 non-null   object \n",
      " 5   Fuel_Tank_Capacity      1207 non-null   object \n",
      " 6   Fuel_Type               1276 non-null   object \n",
      " 7   Emission_Norm           1265 non-null   object \n",
      " 8   Start_/_Stop_Button     598 non-null    object \n",
      " 9   ARAI_Certified_Mileage  1162 non-null   object \n",
      " 10  Ex-Showroom_Price       1276 non-null   object \n",
      "dtypes: float64(2), object(9)\n",
      "memory usage: 109.8+ KB\n"
     ]
    }
   ],
   "source": [
    "df.info()"
   ]
  },
  {
   "cell_type": "code",
   "execution_count": 6,
   "id": "d4d2e814",
   "metadata": {},
   "outputs": [
    {
     "data": {
      "text/html": [
       "<div>\n",
       "<style scoped>\n",
       "    .dataframe tbody tr th:only-of-type {\n",
       "        vertical-align: middle;\n",
       "    }\n",
       "\n",
       "    .dataframe tbody tr th {\n",
       "        vertical-align: top;\n",
       "    }\n",
       "\n",
       "    .dataframe thead th {\n",
       "        text-align: right;\n",
       "    }\n",
       "</style>\n",
       "<table border=\"1\" class=\"dataframe\">\n",
       "  <thead>\n",
       "    <tr style=\"text-align: right;\">\n",
       "      <th></th>\n",
       "      <th>Displacement</th>\n",
       "      <th>Cylinders</th>\n",
       "      <th>Valves_Per_Cylinder</th>\n",
       "      <th>Cylinder_Configuration</th>\n",
       "      <th>Fuel_System</th>\n",
       "      <th>Fuel_Tank_Capacity</th>\n",
       "      <th>Fuel_Type</th>\n",
       "      <th>Emission_Norm</th>\n",
       "      <th>Start_/_Stop_Button</th>\n",
       "      <th>ARAI_Certified_Mileage</th>\n",
       "      <th>Ex-Showroom_Price</th>\n",
       "    </tr>\n",
       "  </thead>\n",
       "  <tbody>\n",
       "    <tr>\n",
       "      <th>0</th>\n",
       "      <td>624 cc</td>\n",
       "      <td>2.0</td>\n",
       "      <td>2.0</td>\n",
       "      <td>In-line</td>\n",
       "      <td>Injection</td>\n",
       "      <td>24 litres</td>\n",
       "      <td>Petrol</td>\n",
       "      <td>BS IV</td>\n",
       "      <td>Yes</td>\n",
       "      <td>23.6 km/litre</td>\n",
       "      <td>Rs. 2,92,667</td>\n",
       "    </tr>\n",
       "    <tr>\n",
       "      <th>1</th>\n",
       "      <td>624 cc</td>\n",
       "      <td>2.0</td>\n",
       "      <td>2.0</td>\n",
       "      <td>In-line</td>\n",
       "      <td>Injection</td>\n",
       "      <td>24 litres</td>\n",
       "      <td>Petrol</td>\n",
       "      <td>BS IV</td>\n",
       "      <td>NaN</td>\n",
       "      <td>23.6 km/litre</td>\n",
       "      <td>Rs. 2,36,447</td>\n",
       "    </tr>\n",
       "    <tr>\n",
       "      <th>2</th>\n",
       "      <td>624 cc</td>\n",
       "      <td>2.0</td>\n",
       "      <td>2.0</td>\n",
       "      <td>In-line</td>\n",
       "      <td>Injection</td>\n",
       "      <td>15 litres</td>\n",
       "      <td>CNG</td>\n",
       "      <td>BS IV</td>\n",
       "      <td>NaN</td>\n",
       "      <td>NaN</td>\n",
       "      <td>Rs. 2,96,661</td>\n",
       "    </tr>\n",
       "  </tbody>\n",
       "</table>\n",
       "</div>"
      ],
      "text/plain": [
       "  Displacement  Cylinders  Valves_Per_Cylinder Cylinder_Configuration  \\\n",
       "0       624 cc        2.0                  2.0                In-line   \n",
       "1       624 cc        2.0                  2.0                In-line   \n",
       "2       624 cc        2.0                  2.0                In-line   \n",
       "\n",
       "  Fuel_System Fuel_Tank_Capacity Fuel_Type Emission_Norm Start_/_Stop_Button  \\\n",
       "0   Injection          24 litres    Petrol         BS IV                 Yes   \n",
       "1   Injection          24 litres    Petrol         BS IV                 NaN   \n",
       "2   Injection          15 litres       CNG         BS IV                 NaN   \n",
       "\n",
       "  ARAI_Certified_Mileage Ex-Showroom_Price  \n",
       "0          23.6 km/litre      Rs. 2,92,667  \n",
       "1          23.6 km/litre      Rs. 2,36,447  \n",
       "2                    NaN      Rs. 2,96,661  "
      ]
     },
     "execution_count": 6,
     "metadata": {},
     "output_type": "execute_result"
    }
   ],
   "source": [
    "df.head(3)"
   ]
  },
  {
   "cell_type": "markdown",
   "id": "0bf47ea9",
   "metadata": {},
   "source": [
    "# Data Wrangling "
   ]
  },
  {
   "cell_type": "code",
   "execution_count": 7,
   "id": "ba891402",
   "metadata": {},
   "outputs": [
    {
     "data": {
      "text/plain": [
       "Displacement               12\n",
       "Cylinders                  66\n",
       "Valves_Per_Cylinder       102\n",
       "Cylinder_Configuration     13\n",
       "Fuel_System                 8\n",
       "Fuel_Tank_Capacity         69\n",
       "Fuel_Type                   0\n",
       "Emission_Norm              11\n",
       "Start_/_Stop_Button       678\n",
       "ARAI_Certified_Mileage    114\n",
       "Ex-Showroom_Price           0\n",
       "dtype: int64"
      ]
     },
     "execution_count": 7,
     "metadata": {},
     "output_type": "execute_result"
    }
   ],
   "source": [
    "df.isnull().sum()"
   ]
  },
  {
   "cell_type": "code",
   "execution_count": 8,
   "id": "9c56c215",
   "metadata": {},
   "outputs": [
    {
     "data": {
      "text/plain": [
       "1197 cc    108\n",
       "1498 cc     87\n",
       "1248 cc     62\n",
       "1198 cc     58\n",
       "1497 cc     56\n",
       "          ... \n",
       "5935 cc      1\n",
       "2400 cc      1\n",
       "3855 cc      1\n",
       "2982 cc      1\n",
       "2360 cc      1\n",
       "Name: Displacement, Length: 129, dtype: int64"
      ]
     },
     "execution_count": 8,
     "metadata": {},
     "output_type": "execute_result"
    }
   ],
   "source": [
    "df['Displacement'].value_counts()"
   ]
  },
  {
   "cell_type": "code",
   "execution_count": 9,
   "id": "1f689c76",
   "metadata": {},
   "outputs": [
    {
     "name": "stdout",
     "output_type": "stream",
     "text": [
      "Percentage of null variables in column Displacement is  0.949367088607595\n"
     ]
    }
   ],
   "source": [
    "a = ((df['Displacement'].isnull().sum())/df['Displacement'].value_counts().sum())*100\n",
    "print(\"Percentage of null variables in column Displacement is \", a)"
   ]
  },
  {
   "cell_type": "markdown",
   "id": "458a706e",
   "metadata": {},
   "source": [
    "The number of null values in the 'Displacement' feature is very small thus rather than deleting the rows it is more preferable to fill the variables with the mode of 'Displacement'."
   ]
  },
  {
   "cell_type": "code",
   "execution_count": 10,
   "id": "7c9c5fa6",
   "metadata": {},
   "outputs": [],
   "source": [
    "df['Displacement'] = df['Displacement'].fillna('1197 cc')"
   ]
  },
  {
   "cell_type": "code",
   "execution_count": 11,
   "id": "8deca57a",
   "metadata": {},
   "outputs": [],
   "source": [
    "df['Displacement'] = df['Displacement'].str.replace(' cc','',regex=False)\n",
    "df.Displacement = df.Displacement.astype(int)"
   ]
  },
  {
   "cell_type": "code",
   "execution_count": 12,
   "id": "abfcddc7",
   "metadata": {},
   "outputs": [
    {
     "data": {
      "text/plain": [
       "4.0     789\n",
       "3.0     213\n",
       "6.0     106\n",
       "8.0      53\n",
       "12.0     21\n",
       "10.0     10\n",
       "5.0      10\n",
       "2.0       6\n",
       "16.0      2\n",
       "Name: Cylinders, dtype: int64"
      ]
     },
     "execution_count": 12,
     "metadata": {},
     "output_type": "execute_result"
    }
   ],
   "source": [
    "df['Cylinders'].value_counts()"
   ]
  },
  {
   "cell_type": "code",
   "execution_count": 13,
   "id": "912725ce",
   "metadata": {},
   "outputs": [
    {
     "name": "stdout",
     "output_type": "stream",
     "text": [
      "Percentage of null variables in column Cylinders is  5.454545454545454\n"
     ]
    }
   ],
   "source": [
    "b = ((df['Cylinders'].isnull().sum())/df['Cylinders'].value_counts().sum())*100\n",
    "print(\"Percentage of null variables in column Cylinders is \", b)"
   ]
  },
  {
   "cell_type": "code",
   "execution_count": 14,
   "id": "06892a53",
   "metadata": {},
   "outputs": [],
   "source": [
    "df['Cylinders'] = df['Cylinders'].fillna(4.0)"
   ]
  },
  {
   "cell_type": "code",
   "execution_count": 15,
   "id": "4095d50f",
   "metadata": {},
   "outputs": [
    {
     "data": {
      "text/plain": [
       "4.0     1113\n",
       "2.0       46\n",
       "12.0       4\n",
       "8.0        4\n",
       "16.0       2\n",
       "3.0        2\n",
       "1.0        2\n",
       "6.0        1\n",
       "Name: Valves_Per_Cylinder, dtype: int64"
      ]
     },
     "execution_count": 15,
     "metadata": {},
     "output_type": "execute_result"
    }
   ],
   "source": [
    "df['Valves_Per_Cylinder'].value_counts()"
   ]
  },
  {
   "cell_type": "code",
   "execution_count": 16,
   "id": "93de7c56",
   "metadata": {},
   "outputs": [
    {
     "name": "stdout",
     "output_type": "stream",
     "text": [
      "Percentage of null variables in column Valves_Per_Cylinder is  8.68824531516184\n"
     ]
    }
   ],
   "source": [
    "c = ((df['Valves_Per_Cylinder'].isnull().sum())/df['Valves_Per_Cylinder'].value_counts().sum())*100\n",
    "print(\"Percentage of null variables in column Valves_Per_Cylinder is \", c)"
   ]
  },
  {
   "cell_type": "code",
   "execution_count": 17,
   "id": "2263169a",
   "metadata": {},
   "outputs": [],
   "source": [
    "df['Valves_Per_Cylinder'] = df['Valves_Per_Cylinder'].fillna(1113)"
   ]
  },
  {
   "cell_type": "code",
   "execution_count": 18,
   "id": "620cc1b5",
   "metadata": {},
   "outputs": [
    {
     "data": {
      "text/plain": [
       "In-line    1077\n",
       "V           176\n",
       "W             6\n",
       "Flat          4\n",
       "Name: Cylinder_Configuration, dtype: int64"
      ]
     },
     "execution_count": 18,
     "metadata": {},
     "output_type": "execute_result"
    }
   ],
   "source": [
    "df['Cylinder_Configuration'].value_counts()"
   ]
  },
  {
   "cell_type": "code",
   "execution_count": 19,
   "id": "57d8a3c8",
   "metadata": {},
   "outputs": [
    {
     "name": "stdout",
     "output_type": "stream",
     "text": [
      "Percentage of null variables in column Cylinder_Configuration is  1.0292953285827395\n"
     ]
    }
   ],
   "source": [
    "d = ((df['Cylinder_Configuration'].isnull().sum())/df['Cylinder_Configuration'].value_counts().sum())*100\n",
    "print(\"Percentage of null variables in column Cylinder_Configuration is \", d)"
   ]
  },
  {
   "cell_type": "code",
   "execution_count": 20,
   "id": "9c3b648f",
   "metadata": {},
   "outputs": [],
   "source": [
    "df['Cylinder_Configuration']=df['Cylinder_Configuration'].fillna('In-line')"
   ]
  },
  {
   "cell_type": "code",
   "execution_count": 21,
   "id": "77bc2cbe",
   "metadata": {},
   "outputs": [],
   "source": [
    "df[\"Cylinder_Configuration\"]=np.where(df[\"Cylinder_Configuration\"]==('In-line'),1,df[\"Cylinder_Configuration\"])\n",
    "df[\"Cylinder_Configuration\"]=np.where(df[\"Cylinder_Configuration\"]==('V'),2,df[\"Cylinder_Configuration\"])\n",
    "df[\"Cylinder_Configuration\"]=np.where(df[\"Cylinder_Configuration\"]==('W'),3,df[\"Cylinder_Configuration\"])\n",
    "df[\"Cylinder_Configuration\"]=np.where(df[\"Cylinder_Configuration\"]==('Flat'),4,df[\"Cylinder_Configuration\"])"
   ]
  },
  {
   "cell_type": "code",
   "execution_count": 22,
   "id": "cfc66d59",
   "metadata": {},
   "outputs": [
    {
     "data": {
      "text/plain": [
       "Injection    1264\n",
       "PGM - Fi        4\n",
       "Name: Fuel_System, dtype: int64"
      ]
     },
     "execution_count": 22,
     "metadata": {},
     "output_type": "execute_result"
    }
   ],
   "source": [
    "df['Fuel_System'].value_counts()"
   ]
  },
  {
   "cell_type": "code",
   "execution_count": 23,
   "id": "6f1f01e1",
   "metadata": {},
   "outputs": [
    {
     "name": "stdout",
     "output_type": "stream",
     "text": [
      "Percentage of null variables in column Fuel_System is  1.0292953285827395\n"
     ]
    }
   ],
   "source": [
    "e = ((df['Fuel_System'].isnull().sum())/df['Fuel_System'].value_counts().sum())*100\n",
    "print(\"Percentage of null variables in column Fuel_System is \", d)"
   ]
  },
  {
   "cell_type": "code",
   "execution_count": 24,
   "id": "5ad9cd19",
   "metadata": {},
   "outputs": [],
   "source": [
    "df['Fuel_System']=df['Fuel_System'].fillna('Injection')"
   ]
  },
  {
   "cell_type": "code",
   "execution_count": 25,
   "id": "f35757af",
   "metadata": {},
   "outputs": [],
   "source": [
    "df[\"Fuel_System\"]=np.where(df[\"Fuel_System\"]==('Injection'),1,df[\"Fuel_System\"])\n",
    "df[\"Fuel_System\"]=np.where(df[\"Fuel_System\"]==('PGM - Fi'),2,df[\"Fuel_System\"])"
   ]
  },
  {
   "cell_type": "code",
   "execution_count": 26,
   "id": "faba45d9",
   "metadata": {},
   "outputs": [
    {
     "data": {
      "text/plain": [
       "45 litres      125\n",
       "35 litres      124\n",
       "50 litres       94\n",
       "60 litres       91\n",
       "37 litres       79\n",
       "              ... \n",
       "36 litres        1\n",
       "60.9 litres      1\n",
       "87 litres        1\n",
       "67.5 litres      1\n",
       "72 litres        1\n",
       "Name: Fuel_Tank_Capacity, Length: 63, dtype: int64"
      ]
     },
     "execution_count": 26,
     "metadata": {},
     "output_type": "execute_result"
    }
   ],
   "source": [
    "df['Fuel_Tank_Capacity'].value_counts()"
   ]
  },
  {
   "cell_type": "code",
   "execution_count": 27,
   "id": "28a7deb8",
   "metadata": {},
   "outputs": [
    {
     "name": "stdout",
     "output_type": "stream",
     "text": [
      "Percentage of null variables in column Fuel_Tank_Capacity is  5.716652858326429\n"
     ]
    }
   ],
   "source": [
    "e = ((df['Fuel_Tank_Capacity'].isnull().sum())/df['Fuel_Tank_Capacity'].value_counts().sum())*100\n",
    "print(\"Percentage of null variables in column Fuel_Tank_Capacity is \", e)"
   ]
  },
  {
   "cell_type": "code",
   "execution_count": 28,
   "id": "1aabb64d",
   "metadata": {},
   "outputs": [],
   "source": [
    "df['Fuel_Tank_Capacity']=df['Fuel_Tank_Capacity'].fillna('45 litres')"
   ]
  },
  {
   "cell_type": "code",
   "execution_count": 29,
   "id": "9e13e7ac",
   "metadata": {},
   "outputs": [],
   "source": [
    "df['Fuel_Tank_Capacity'] = df['Fuel_Tank_Capacity'].str.replace(' litres','',regex=False).astype(float)"
   ]
  },
  {
   "cell_type": "code",
   "execution_count": 30,
   "id": "47e18973",
   "metadata": {},
   "outputs": [
    {
     "data": {
      "text/plain": [
       "BS IV     879\n",
       "BS 6      358\n",
       "BS VI      19\n",
       "BS III      9\n",
       "Name: Emission_Norm, dtype: int64"
      ]
     },
     "execution_count": 30,
     "metadata": {},
     "output_type": "execute_result"
    }
   ],
   "source": [
    "df['Emission_Norm'].value_counts()"
   ]
  },
  {
   "cell_type": "code",
   "execution_count": 31,
   "id": "1f8e5084",
   "metadata": {},
   "outputs": [
    {
     "name": "stdout",
     "output_type": "stream",
     "text": [
      "Percentage of null variables in column Emission_Norm is  0.8695652173913043\n"
     ]
    }
   ],
   "source": [
    "f = ((df['Emission_Norm'].isnull().sum())/df['Emission_Norm'].value_counts().sum())*100\n",
    "print(\"Percentage of null variables in column Emission_Norm is \", f)"
   ]
  },
  {
   "cell_type": "code",
   "execution_count": 32,
   "id": "4178f970",
   "metadata": {},
   "outputs": [],
   "source": [
    "df['Emission_Norm']=df['Emission_Norm'].fillna('BS IV')"
   ]
  },
  {
   "cell_type": "code",
   "execution_count": 33,
   "id": "6ca21924",
   "metadata": {},
   "outputs": [],
   "source": [
    "df[\"Emission_Norm\"]=np.where(df[\"Emission_Norm\"]==('BS IV'),1,df[\"Emission_Norm\"])\n",
    "df[\"Emission_Norm\"]=np.where(df[\"Emission_Norm\"]==('BS 6'),2,df[\"Emission_Norm\"])\n",
    "df[\"Emission_Norm\"]=np.where(df[\"Emission_Norm\"]==('BS VI'),3,df[\"Emission_Norm\"])\n",
    "df[\"Emission_Norm\"]=np.where(df[\"Emission_Norm\"]==('BS III'),4,df[\"Emission_Norm\"])"
   ]
  },
  {
   "cell_type": "code",
   "execution_count": 34,
   "id": "911feb3a",
   "metadata": {},
   "outputs": [
    {
     "data": {
      "text/plain": [
       "23 km/litre       27\n",
       "17.1 km/litre     24\n",
       "16 km/litre       24\n",
       "17.6 km/litre     23\n",
       "23.1 km/litre     20\n",
       "                  ..\n",
       "21.2 km/litre      1\n",
       "3.4 km/litre       1\n",
       "21.19 km/litre     1\n",
       "18.8 km/litre      1\n",
       "8.9 km/litre       1\n",
       "Name: ARAI_Certified_Mileage, Length: 281, dtype: int64"
      ]
     },
     "execution_count": 34,
     "metadata": {},
     "output_type": "execute_result"
    }
   ],
   "source": [
    "df['ARAI_Certified_Mileage'].value_counts()"
   ]
  },
  {
   "cell_type": "code",
   "execution_count": 35,
   "id": "113bbcd0",
   "metadata": {},
   "outputs": [],
   "source": [
    "df['ARAI_Certified_Mileage']=df['ARAI_Certified_Mileage'].fillna('10')"
   ]
  },
  {
   "cell_type": "code",
   "execution_count": 36,
   "id": "259e2110",
   "metadata": {},
   "outputs": [],
   "source": [
    "df.loc[df.ARAI_Certified_Mileage == '9.8-10.0 km/litre','ARAI_Certified_Mileage'] = '10'\n",
    "df.loc[df.ARAI_Certified_Mileage == '22.4-21.9 km/litre','ARAI_Certified_Mileage'] = '20'\n",
    "df.loc[df.ARAI_Certified_Mileage == '10kmpl km/litre','ARAI_Certified_Mileage'] = '10'\n",
    "df['ARAI_Certified_Mileage'] = df['ARAI_Certified_Mileage'].str.replace(' km/litre','',regex=False).astype(float)"
   ]
  },
  {
   "cell_type": "code",
   "execution_count": 37,
   "id": "23ec4646",
   "metadata": {},
   "outputs": [
    {
     "data": {
      "text/plain": [
       "<AxesSubplot:xlabel='ARAI_Certified_Mileage'>"
      ]
     },
     "execution_count": 37,
     "metadata": {},
     "output_type": "execute_result"
    },
    {
     "data": {
      "image/png": "[encoded data removed]",
      "text/plain": [
       "<Figure size 432x288 with 1 Axes>"
      ]
     },
     "metadata": {
      "needs_background": "light"
     },
     "output_type": "display_data"
    }
   ],
   "source": [
    "sns.boxplot(x='ARAI_Certified_Mileage', data=df)"
   ]
  },
  {
   "cell_type": "markdown",
   "id": "18995e2d",
   "metadata": {},
   "source": [
    "'ARAI_Certified-Mileage' column has some outliers and to understand the right value to replace null values, it is important to understand the skewness of variable thus it s important to remove outliers."
   ]
  },
  {
   "cell_type": "code",
   "execution_count": 38,
   "id": "da306512",
   "metadata": {},
   "outputs": [],
   "source": [
    "#Removing outliers from 'ARAI_Certified_Mileage' column\n",
    "for x in ['ARAI_Certified_Mileage']:\n",
    "    q75,q25 = np.percentile(df.loc[:,x],[75,5])\n",
    "    intr_qr = q75-q25\n",
    " \n",
    "    max = q75+(1.5*intr_qr)\n",
    "    min = q25-(1.5*intr_qr)\n",
    " \n",
    "    df.loc[df[x] < min,x] = np.nan\n",
    "    df.loc[df[x] > max,x] = np.nan"
   ]
  },
  {
   "cell_type": "code",
   "execution_count": 39,
   "id": "b2e2e744",
   "metadata": {},
   "outputs": [
    {
     "data": {
      "text/plain": [
       "<AxesSubplot:xlabel='ARAI_Certified_Mileage'>"
      ]
     },
     "execution_count": 39,
     "metadata": {},
     "output_type": "execute_result"
    },
    {
     "data": {
      "image/png": "[encoded data removed]",
      "text/plain": [
       "<Figure size 432x288 with 1 Axes>"
      ]
     },
     "metadata": {
      "needs_background": "light"
     },
     "output_type": "display_data"
    }
   ],
   "source": [
    "sns.boxplot(x='ARAI_Certified_Mileage', data=df)"
   ]
  },
  {
   "cell_type": "code",
   "execution_count": 40,
   "id": "494fb233",
   "metadata": {},
   "outputs": [
    {
     "data": {
      "text/plain": [
       "<AxesSubplot:xlabel='ARAI_Certified_Mileage', ylabel='Density'>"
      ]
     },
     "execution_count": 40,
     "metadata": {},
     "output_type": "execute_result"
    },
    {
     "data": {
      "image/png": "[encoded data removed]",
      "text/plain": [
       "<Figure size 432x288 with 1 Axes>"
      ]
     },
     "metadata": {
      "needs_background": "light"
     },
     "output_type": "display_data"
    }
   ],
   "source": [
    "sns.kdeplot(x='ARAI_Certified_Mileage', data=df, color='red')\n",
    "#plt.savefig('kdeplot.png')"
   ]
  },
  {
   "cell_type": "code",
   "execution_count": 41,
   "id": "11d4f4d3",
   "metadata": {},
   "outputs": [
    {
     "data": {
      "text/plain": [
       "17.50370574350903"
      ]
     },
     "execution_count": 41,
     "metadata": {},
     "output_type": "execute_result"
    }
   ],
   "source": [
    "df['ARAI_Certified_Mileage'].mean()"
   ]
  },
  {
   "cell_type": "code",
   "execution_count": 42,
   "id": "0360dad6",
   "metadata": {},
   "outputs": [
    {
     "data": {
      "text/plain": [
       "5"
      ]
     },
     "execution_count": 42,
     "metadata": {},
     "output_type": "execute_result"
    }
   ],
   "source": [
    "df['ARAI_Certified_Mileage'].isnull().sum()"
   ]
  },
  {
   "cell_type": "code",
   "execution_count": 43,
   "id": "3acc3b21",
   "metadata": {},
   "outputs": [],
   "source": [
    "df['ARAI_Certified_Mileage']=df['ARAI_Certified_Mileage'].fillna(17.50)"
   ]
  },
  {
   "cell_type": "code",
   "execution_count": 44,
   "id": "11b699c8",
   "metadata": {},
   "outputs": [
    {
     "data": {
      "text/plain": [
       "Petrol          643\n",
       "Diesel          582\n",
       "CNG              16\n",
       "Hybrid           15\n",
       "Electric         14\n",
       "CNG + Petrol      6\n",
       "Name: Fuel_Type, dtype: int64"
      ]
     },
     "execution_count": 44,
     "metadata": {},
     "output_type": "execute_result"
    }
   ],
   "source": [
    "df['Fuel_Type'].value_counts()"
   ]
  },
  {
   "cell_type": "code",
   "execution_count": 45,
   "id": "84a880f3",
   "metadata": {},
   "outputs": [],
   "source": [
    "df[\"Fuel_Type\"]=np.where(df[\"Fuel_Type\"]==('Petrol'),1,df[\"Fuel_Type\"])\n",
    "df[\"Fuel_Type\"]=np.where(df[\"Fuel_Type\"]==('Diesel'),2,df[\"Fuel_Type\"])\n",
    "df[\"Fuel_Type\"]=np.where(df[\"Fuel_Type\"]==('CNG'),3,df[\"Fuel_Type\"])\n",
    "df[\"Fuel_Type\"]=np.where(df[\"Fuel_Type\"]==('Hybrid'),4,df[\"Fuel_Type\"])\n",
    "df[\"Fuel_Type\"]=np.where(df[\"Fuel_Type\"]==('Electric'),5,df[\"Fuel_Type\"])\n",
    "df[\"Fuel_Type\"]=np.where(df[\"Fuel_Type\"]==('CNG + Petrol'),6,df[\"Fuel_Type\"])"
   ]
  },
  {
   "cell_type": "code",
   "execution_count": 46,
   "id": "02731fdc",
   "metadata": {},
   "outputs": [
    {
     "data": {
      "text/plain": [
       "Yes    598\n",
       "Name: Start_/_Stop_Button, dtype: int64"
      ]
     },
     "execution_count": 46,
     "metadata": {},
     "output_type": "execute_result"
    }
   ],
   "source": [
    "df['Start_/_Stop_Button'].value_counts()"
   ]
  },
  {
   "cell_type": "code",
   "execution_count": 47,
   "id": "50045efe",
   "metadata": {},
   "outputs": [],
   "source": [
    "df['Start_/_Stop_Button']=np.where(df['Start_/_Stop_Button']==('Yes'),1,df['Start_/_Stop_Button'])\n",
    "df['Start_/_Stop_Button']=df['Start_/_Stop_Button'].fillna(0)"
   ]
  },
  {
   "cell_type": "code",
   "execution_count": 48,
   "id": "9ffc48f6",
   "metadata": {},
   "outputs": [],
   "source": [
    "df.Cylinder_Configuration = df.Cylinder_Configuration.astype(int)\n",
    "df.Fuel_System = df.Fuel_System.astype(int)\n",
    "df.Fuel_Type = df.Fuel_Type.astype(int)\n",
    "df.Emission_Norm = df.Emission_Norm.astype(int)"
   ]
  },
  {
   "cell_type": "code",
   "execution_count": 49,
   "id": "f09bca70",
   "metadata": {},
   "outputs": [
    {
     "data": {
      "text/html": [
       "<div>\n",
       "<style scoped>\n",
       "    .dataframe tbody tr th:only-of-type {\n",
       "        vertical-align: middle;\n",
       "    }\n",
       "\n",
       "    .dataframe tbody tr th {\n",
       "        vertical-align: top;\n",
       "    }\n",
       "\n",
       "    .dataframe thead th {\n",
       "        text-align: right;\n",
       "    }\n",
       "</style>\n",
       "<table border=\"1\" class=\"dataframe\">\n",
       "  <thead>\n",
       "    <tr style=\"text-align: right;\">\n",
       "      <th></th>\n",
       "      <th>Displacement</th>\n",
       "      <th>Cylinders</th>\n",
       "      <th>Valves_Per_Cylinder</th>\n",
       "      <th>Cylinder_Configuration</th>\n",
       "      <th>Fuel_System</th>\n",
       "      <th>Fuel_Tank_Capacity</th>\n",
       "      <th>Fuel_Type</th>\n",
       "      <th>Emission_Norm</th>\n",
       "      <th>Start_/_Stop_Button</th>\n",
       "      <th>ARAI_Certified_Mileage</th>\n",
       "      <th>Ex-Showroom_Price</th>\n",
       "    </tr>\n",
       "  </thead>\n",
       "  <tbody>\n",
       "    <tr>\n",
       "      <th>0</th>\n",
       "      <td>624</td>\n",
       "      <td>2.0</td>\n",
       "      <td>2.0</td>\n",
       "      <td>1</td>\n",
       "      <td>1</td>\n",
       "      <td>24.0</td>\n",
       "      <td>1</td>\n",
       "      <td>1</td>\n",
       "      <td>1</td>\n",
       "      <td>23.6</td>\n",
       "      <td>Rs. 2,92,667</td>\n",
       "    </tr>\n",
       "    <tr>\n",
       "      <th>1</th>\n",
       "      <td>624</td>\n",
       "      <td>2.0</td>\n",
       "      <td>2.0</td>\n",
       "      <td>1</td>\n",
       "      <td>1</td>\n",
       "      <td>24.0</td>\n",
       "      <td>1</td>\n",
       "      <td>1</td>\n",
       "      <td>0</td>\n",
       "      <td>23.6</td>\n",
       "      <td>Rs. 2,36,447</td>\n",
       "    </tr>\n",
       "    <tr>\n",
       "      <th>2</th>\n",
       "      <td>624</td>\n",
       "      <td>2.0</td>\n",
       "      <td>2.0</td>\n",
       "      <td>1</td>\n",
       "      <td>1</td>\n",
       "      <td>15.0</td>\n",
       "      <td>3</td>\n",
       "      <td>1</td>\n",
       "      <td>0</td>\n",
       "      <td>10.0</td>\n",
       "      <td>Rs. 2,96,661</td>\n",
       "    </tr>\n",
       "    <tr>\n",
       "      <th>3</th>\n",
       "      <td>624</td>\n",
       "      <td>2.0</td>\n",
       "      <td>2.0</td>\n",
       "      <td>1</td>\n",
       "      <td>1</td>\n",
       "      <td>24.0</td>\n",
       "      <td>1</td>\n",
       "      <td>1</td>\n",
       "      <td>1</td>\n",
       "      <td>21.9</td>\n",
       "      <td>Rs. 3,34,768</td>\n",
       "    </tr>\n",
       "    <tr>\n",
       "      <th>4</th>\n",
       "      <td>624</td>\n",
       "      <td>2.0</td>\n",
       "      <td>2.0</td>\n",
       "      <td>1</td>\n",
       "      <td>1</td>\n",
       "      <td>24.0</td>\n",
       "      <td>1</td>\n",
       "      <td>1</td>\n",
       "      <td>0</td>\n",
       "      <td>23.6</td>\n",
       "      <td>Rs. 2,72,223</td>\n",
       "    </tr>\n",
       "  </tbody>\n",
       "</table>\n",
       "</div>"
      ],
      "text/plain": [
       "   Displacement  Cylinders  Valves_Per_Cylinder  Cylinder_Configuration  \\\n",
       "0           624        2.0                  2.0                       1   \n",
       "1           624        2.0                  2.0                       1   \n",
       "2           624        2.0                  2.0                       1   \n",
       "3           624        2.0                  2.0                       1   \n",
       "4           624        2.0                  2.0                       1   \n",
       "\n",
       "   Fuel_System  Fuel_Tank_Capacity  Fuel_Type  Emission_Norm  \\\n",
       "0            1                24.0          1              1   \n",
       "1            1                24.0          1              1   \n",
       "2            1                15.0          3              1   \n",
       "3            1                24.0          1              1   \n",
       "4            1                24.0          1              1   \n",
       "\n",
       "   Start_/_Stop_Button  ARAI_Certified_Mileage Ex-Showroom_Price  \n",
       "0                    1                    23.6      Rs. 2,92,667  \n",
       "1                    0                    23.6      Rs. 2,36,447  \n",
       "2                    0                    10.0      Rs. 2,96,661  \n",
       "3                    1                    21.9      Rs. 3,34,768  \n",
       "4                    0                    23.6      Rs. 2,72,223  "
      ]
     },
     "execution_count": 49,
     "metadata": {},
     "output_type": "execute_result"
    }
   ],
   "source": [
    "df.head()"
   ]
  },
  {
   "cell_type": "code",
   "execution_count": 50,
   "id": "128452d2",
   "metadata": {},
   "outputs": [],
   "source": [
    "df['Ex-Showroom_Price'] = df['Ex-Showroom_Price'].str.replace('Rs. ','',regex=False)\n",
    "df['Ex-Showroom_Price'] = df['Ex-Showroom_Price'].str.replace(',','',regex=False)\n",
    "df['Ex-Showroom_Price'] = df['Ex-Showroom_Price'].astype(int)\n",
    "df['price'] = df['Ex-Showroom_Price'] * 0.014\n",
    "df.drop(columns='Ex-Showroom_Price', inplace= True)"
   ]
  },
  {
   "cell_type": "code",
   "execution_count": 51,
   "id": "a17ff3f4",
   "metadata": {},
   "outputs": [],
   "source": [
    "ds=df"
   ]
  },
  {
   "cell_type": "code",
   "execution_count": 52,
   "id": "81cf4c79",
   "metadata": {},
   "outputs": [],
   "source": [
    "df=df.drop(columns='price')"
   ]
  },
  {
   "cell_type": "markdown",
   "id": "b7d7a200",
   "metadata": {},
   "source": [
    "# Bivariant Analysis"
   ]
  },
  {
   "cell_type": "code",
   "execution_count": 53,
   "id": "fabd2f30",
   "metadata": {},
   "outputs": [
    {
     "data": {
      "text/html": [
       "<div>\n",
       "<style scoped>\n",
       "    .dataframe tbody tr th:only-of-type {\n",
       "        vertical-align: middle;\n",
       "    }\n",
       "\n",
       "    .dataframe tbody tr th {\n",
       "        vertical-align: top;\n",
       "    }\n",
       "\n",
       "    .dataframe thead th {\n",
       "        text-align: right;\n",
       "    }\n",
       "</style>\n",
       "<table border=\"1\" class=\"dataframe\">\n",
       "  <thead>\n",
       "    <tr style=\"text-align: right;\">\n",
       "      <th></th>\n",
       "      <th>Displacement</th>\n",
       "      <th>Cylinders</th>\n",
       "      <th>Valves_Per_Cylinder</th>\n",
       "      <th>Cylinder_Configuration</th>\n",
       "      <th>Fuel_System</th>\n",
       "      <th>Fuel_Tank_Capacity</th>\n",
       "      <th>Fuel_Type</th>\n",
       "      <th>Emission_Norm</th>\n",
       "      <th>Start_/_Stop_Button</th>\n",
       "      <th>ARAI_Certified_Mileage</th>\n",
       "    </tr>\n",
       "  </thead>\n",
       "  <tbody>\n",
       "    <tr>\n",
       "      <th>Displacement</th>\n",
       "      <td>1.000000</td>\n",
       "      <td>0.877429</td>\n",
       "      <td>-0.081985</td>\n",
       "      <td>0.667071</td>\n",
       "      <td>0.245044</td>\n",
       "      <td>0.729850</td>\n",
       "      <td>-0.075529</td>\n",
       "      <td>-0.101201</td>\n",
       "      <td>0.324507</td>\n",
       "      <td>-0.538997</td>\n",
       "    </tr>\n",
       "    <tr>\n",
       "      <th>Cylinders</th>\n",
       "      <td>0.877429</td>\n",
       "      <td>1.000000</td>\n",
       "      <td>-0.022942</td>\n",
       "      <td>0.720093</td>\n",
       "      <td>0.333863</td>\n",
       "      <td>0.635350</td>\n",
       "      <td>-0.106429</td>\n",
       "      <td>-0.089163</td>\n",
       "      <td>0.306491</td>\n",
       "      <td>-0.466392</td>\n",
       "    </tr>\n",
       "    <tr>\n",
       "      <th>Valves_Per_Cylinder</th>\n",
       "      <td>-0.081985</td>\n",
       "      <td>-0.022942</td>\n",
       "      <td>1.000000</td>\n",
       "      <td>-0.043138</td>\n",
       "      <td>-0.016525</td>\n",
       "      <td>-0.019801</td>\n",
       "      <td>0.193871</td>\n",
       "      <td>0.182452</td>\n",
       "      <td>0.018757</td>\n",
       "      <td>-0.052099</td>\n",
       "    </tr>\n",
       "    <tr>\n",
       "      <th>Cylinder_Configuration</th>\n",
       "      <td>0.667071</td>\n",
       "      <td>0.720093</td>\n",
       "      <td>-0.043138</td>\n",
       "      <td>1.000000</td>\n",
       "      <td>0.258101</td>\n",
       "      <td>0.593391</td>\n",
       "      <td>-0.090581</td>\n",
       "      <td>-0.022752</td>\n",
       "      <td>0.287326</td>\n",
       "      <td>-0.441780</td>\n",
       "    </tr>\n",
       "    <tr>\n",
       "      <th>Fuel_System</th>\n",
       "      <td>0.245044</td>\n",
       "      <td>0.333863</td>\n",
       "      <td>-0.016525</td>\n",
       "      <td>0.258101</td>\n",
       "      <td>1.000000</td>\n",
       "      <td>0.046257</td>\n",
       "      <td>-0.043586</td>\n",
       "      <td>0.017435</td>\n",
       "      <td>0.059710</td>\n",
       "      <td>-0.084190</td>\n",
       "    </tr>\n",
       "    <tr>\n",
       "      <th>Fuel_Tank_Capacity</th>\n",
       "      <td>0.729850</td>\n",
       "      <td>0.635350</td>\n",
       "      <td>-0.019801</td>\n",
       "      <td>0.593391</td>\n",
       "      <td>0.046257</td>\n",
       "      <td>1.000000</td>\n",
       "      <td>0.037787</td>\n",
       "      <td>-0.175125</td>\n",
       "      <td>0.374784</td>\n",
       "      <td>-0.584432</td>\n",
       "    </tr>\n",
       "    <tr>\n",
       "      <th>Fuel_Type</th>\n",
       "      <td>-0.075529</td>\n",
       "      <td>-0.106429</td>\n",
       "      <td>0.193871</td>\n",
       "      <td>-0.090581</td>\n",
       "      <td>-0.043586</td>\n",
       "      <td>0.037787</td>\n",
       "      <td>1.000000</td>\n",
       "      <td>-0.013419</td>\n",
       "      <td>-0.031665</td>\n",
       "      <td>-0.014287</td>\n",
       "    </tr>\n",
       "    <tr>\n",
       "      <th>Emission_Norm</th>\n",
       "      <td>-0.101201</td>\n",
       "      <td>-0.089163</td>\n",
       "      <td>0.182452</td>\n",
       "      <td>-0.022752</td>\n",
       "      <td>0.017435</td>\n",
       "      <td>-0.175125</td>\n",
       "      <td>-0.013419</td>\n",
       "      <td>1.000000</td>\n",
       "      <td>0.060160</td>\n",
       "      <td>-0.019970</td>\n",
       "    </tr>\n",
       "    <tr>\n",
       "      <th>Start_/_Stop_Button</th>\n",
       "      <td>0.324507</td>\n",
       "      <td>0.306491</td>\n",
       "      <td>0.018757</td>\n",
       "      <td>0.287326</td>\n",
       "      <td>0.059710</td>\n",
       "      <td>0.374784</td>\n",
       "      <td>-0.031665</td>\n",
       "      <td>0.060160</td>\n",
       "      <td>1.000000</td>\n",
       "      <td>-0.249514</td>\n",
       "    </tr>\n",
       "    <tr>\n",
       "      <th>ARAI_Certified_Mileage</th>\n",
       "      <td>-0.538997</td>\n",
       "      <td>-0.466392</td>\n",
       "      <td>-0.052099</td>\n",
       "      <td>-0.441780</td>\n",
       "      <td>-0.084190</td>\n",
       "      <td>-0.584432</td>\n",
       "      <td>-0.014287</td>\n",
       "      <td>-0.019970</td>\n",
       "      <td>-0.249514</td>\n",
       "      <td>1.000000</td>\n",
       "    </tr>\n",
       "  </tbody>\n",
       "</table>\n",
       "</div>"
      ],
      "text/plain": [
       "                        Displacement  Cylinders  Valves_Per_Cylinder  \\\n",
       "Displacement                1.000000   0.877429            -0.081985   \n",
       "Cylinders                   0.877429   1.000000            -0.022942   \n",
       "Valves_Per_Cylinder        -0.081985  -0.022942             1.000000   \n",
       "Cylinder_Configuration      0.667071   0.720093            -0.043138   \n",
       "Fuel_System                 0.245044   0.333863            -0.016525   \n",
       "Fuel_Tank_Capacity          0.729850   0.635350            -0.019801   \n",
       "Fuel_Type                  -0.075529  -0.106429             0.193871   \n",
       "Emission_Norm              -0.101201  -0.089163             0.182452   \n",
       "Start_/_Stop_Button         0.324507   0.306491             0.018757   \n",
       "ARAI_Certified_Mileage     -0.538997  -0.466392            -0.052099   \n",
       "\n",
       "                        Cylinder_Configuration  Fuel_System  \\\n",
       "Displacement                          0.667071     0.245044   \n",
       "Cylinders                             0.720093     0.333863   \n",
       "Valves_Per_Cylinder                  -0.043138    -0.016525   \n",
       "Cylinder_Configuration                1.000000     0.258101   \n",
       "Fuel_System                           0.258101     1.000000   \n",
       "Fuel_Tank_Capacity                    0.593391     0.046257   \n",
       "Fuel_Type                            -0.090581    -0.043586   \n",
       "Emission_Norm                        -0.022752     0.017435   \n",
       "Start_/_Stop_Button                   0.287326     0.059710   \n",
       "ARAI_Certified_Mileage               -0.441780    -0.084190   \n",
       "\n",
       "                        Fuel_Tank_Capacity  Fuel_Type  Emission_Norm  \\\n",
       "Displacement                      0.729850  -0.075529      -0.101201   \n",
       "Cylinders                         0.635350  -0.106429      -0.089163   \n",
       "Valves_Per_Cylinder              -0.019801   0.193871       0.182452   \n",
       "Cylinder_Configuration            0.593391  -0.090581      -0.022752   \n",
       "Fuel_System                       0.046257  -0.043586       0.017435   \n",
       "Fuel_Tank_Capacity                1.000000   0.037787      -0.175125   \n",
       "Fuel_Type                         0.037787   1.000000      -0.013419   \n",
       "Emission_Norm                    -0.175125  -0.013419       1.000000   \n",
       "Start_/_Stop_Button               0.374784  -0.031665       0.060160   \n",
       "ARAI_Certified_Mileage           -0.584432  -0.014287      -0.019970   \n",
       "\n",
       "                        Start_/_Stop_Button  ARAI_Certified_Mileage  \n",
       "Displacement                       0.324507               -0.538997  \n",
       "Cylinders                          0.306491               -0.466392  \n",
       "Valves_Per_Cylinder                0.018757               -0.052099  \n",
       "Cylinder_Configuration             0.287326               -0.441780  \n",
       "Fuel_System                        0.059710               -0.084190  \n",
       "Fuel_Tank_Capacity                 0.374784               -0.584432  \n",
       "Fuel_Type                         -0.031665               -0.014287  \n",
       "Emission_Norm                      0.060160               -0.019970  \n",
       "Start_/_Stop_Button                1.000000               -0.249514  \n",
       "ARAI_Certified_Mileage            -0.249514                1.000000  "
      ]
     },
     "execution_count": 53,
     "metadata": {},
     "output_type": "execute_result"
    }
   ],
   "source": [
    "corr=df.corr()\n",
    "corr"
   ]
  },
  {
   "cell_type": "code",
   "execution_count": 54,
   "id": "018bb8e6",
   "metadata": {},
   "outputs": [
    {
     "data": {
      "text/plain": [
       "<AxesSubplot:>"
      ]
     },
     "execution_count": 54,
     "metadata": {},
     "output_type": "execute_result"
    },
    {
     "data": {
      "image/png": "[encoded data removed]",
      "text/plain": [
       "<Figure size 432x288 with 2 Axes>"
      ]
     },
     "metadata": {
      "needs_background": "light"
     },
     "output_type": "display_data"
    }
   ],
   "source": [
    "sns.heatmap(corr, cmap=['red','green','blue'], vmin=-0.5, vmax=0.6, annot=True)"
   ]
  },
  {
   "cell_type": "markdown",
   "id": "d72940a3",
   "metadata": {},
   "source": [
    "Through the above correlation plot, 'Displacement', 'Cylinders', 'Fuel_Tank_Capacity' and 'Start_/_Stop_Button' are the feature that has better correlation as compared to the other independent specification variables under consideration."
   ]
  },
  {
   "cell_type": "markdown",
   "id": "b09a26fe",
   "metadata": {},
   "source": [
    "# Model Training "
   ]
  },
  {
   "cell_type": "code",
   "execution_count": 55,
   "id": "df2f17c8",
   "metadata": {},
   "outputs": [],
   "source": [
    "from sklearn.linear_model import LogisticRegression  \n",
    "from sklearn.model_selection import train_test_split \n",
    "from sklearn.neighbors import KNeighborsClassifier  \n",
    "from sklearn import svm  \n",
    "from sklearn import metrics \n",
    "from sklearn.tree import DecisionTreeClassifier \n",
    "from sklearn.linear_model import LinearRegression"
   ]
  },
  {
   "cell_type": "code",
   "execution_count": 56,
   "id": "efaef94c",
   "metadata": {},
   "outputs": [
    {
     "name": "stdout",
     "output_type": "stream",
     "text": [
      "(893, 10)\n",
      "(383, 10)\n"
     ]
    }
   ],
   "source": [
    "train, test = train_test_split(df, test_size = 0.3)\n",
    "print(train.shape)\n",
    "print(test.shape)"
   ]
  },
  {
   "cell_type": "code",
   "execution_count": 57,
   "id": "f4fd8ac0",
   "metadata": {},
   "outputs": [],
   "source": [
    "df['Cylinders']=df['Cylinders'].astype(int)"
   ]
  },
  {
   "cell_type": "code",
   "execution_count": 58,
   "id": "3070bb0a",
   "metadata": {},
   "outputs": [],
   "source": [
    "train_X = train[['Displacement', 'Cylinders', 'Fuel_Tank_Capacity', 'Cylinder_Configuration']]\n",
    "train_y=train.ARAI_Certified_Mileage\n",
    "test_X= test[['Displacement', 'Cylinders', 'Fuel_Tank_Capacity','Cylinder_Configuration']]\n",
    "test_y =test.ARAI_Certified_Mileage"
   ]
  },
  {
   "cell_type": "code",
   "execution_count": 59,
   "id": "fb4da698",
   "metadata": {},
   "outputs": [
    {
     "data": {
      "text/html": [
       "<div>\n",
       "<style scoped>\n",
       "    .dataframe tbody tr th:only-of-type {\n",
       "        vertical-align: middle;\n",
       "    }\n",
       "\n",
       "    .dataframe tbody tr th {\n",
       "        vertical-align: top;\n",
       "    }\n",
       "\n",
       "    .dataframe thead th {\n",
       "        text-align: right;\n",
       "    }\n",
       "</style>\n",
       "<table border=\"1\" class=\"dataframe\">\n",
       "  <thead>\n",
       "    <tr style=\"text-align: right;\">\n",
       "      <th></th>\n",
       "      <th>Displacement</th>\n",
       "      <th>Cylinders</th>\n",
       "      <th>Fuel_Tank_Capacity</th>\n",
       "      <th>Cylinder_Configuration</th>\n",
       "    </tr>\n",
       "  </thead>\n",
       "  <tbody>\n",
       "    <tr>\n",
       "      <th>955</th>\n",
       "      <td>1493</td>\n",
       "      <td>3.0</td>\n",
       "      <td>60.0</td>\n",
       "      <td>1</td>\n",
       "    </tr>\n",
       "    <tr>\n",
       "      <th>1224</th>\n",
       "      <td>1248</td>\n",
       "      <td>4.0</td>\n",
       "      <td>45.0</td>\n",
       "      <td>1</td>\n",
       "    </tr>\n",
       "    <tr>\n",
       "      <th>304</th>\n",
       "      <td>2979</td>\n",
       "      <td>6.0</td>\n",
       "      <td>52.0</td>\n",
       "      <td>1</td>\n",
       "    </tr>\n",
       "    <tr>\n",
       "      <th>1008</th>\n",
       "      <td>1197</td>\n",
       "      <td>4.0</td>\n",
       "      <td>45.0</td>\n",
       "      <td>1</td>\n",
       "    </tr>\n",
       "    <tr>\n",
       "      <th>1103</th>\n",
       "      <td>1598</td>\n",
       "      <td>4.0</td>\n",
       "      <td>55.0</td>\n",
       "      <td>1</td>\n",
       "    </tr>\n",
       "    <tr>\n",
       "      <th>98</th>\n",
       "      <td>1364</td>\n",
       "      <td>4.0</td>\n",
       "      <td>45.0</td>\n",
       "      <td>1</td>\n",
       "    </tr>\n",
       "    <tr>\n",
       "      <th>850</th>\n",
       "      <td>2995</td>\n",
       "      <td>6.0</td>\n",
       "      <td>85.0</td>\n",
       "      <td>2</td>\n",
       "    </tr>\n",
       "    <tr>\n",
       "      <th>101</th>\n",
       "      <td>1198</td>\n",
       "      <td>3.0</td>\n",
       "      <td>41.0</td>\n",
       "      <td>1</td>\n",
       "    </tr>\n",
       "    <tr>\n",
       "      <th>1194</th>\n",
       "      <td>1493</td>\n",
       "      <td>3.0</td>\n",
       "      <td>60.0</td>\n",
       "      <td>1</td>\n",
       "    </tr>\n",
       "    <tr>\n",
       "      <th>961</th>\n",
       "      <td>1461</td>\n",
       "      <td>4.0</td>\n",
       "      <td>50.0</td>\n",
       "      <td>1</td>\n",
       "    </tr>\n",
       "  </tbody>\n",
       "</table>\n",
       "</div>"
      ],
      "text/plain": [
       "      Displacement  Cylinders  Fuel_Tank_Capacity  Cylinder_Configuration\n",
       "955           1493        3.0                60.0                       1\n",
       "1224          1248        4.0                45.0                       1\n",
       "304           2979        6.0                52.0                       1\n",
       "1008          1197        4.0                45.0                       1\n",
       "1103          1598        4.0                55.0                       1\n",
       "98            1364        4.0                45.0                       1\n",
       "850           2995        6.0                85.0                       2\n",
       "101           1198        3.0                41.0                       1\n",
       "1194          1493        3.0                60.0                       1\n",
       "961           1461        4.0                50.0                       1"
      ]
     },
     "execution_count": 59,
     "metadata": {},
     "output_type": "execute_result"
    }
   ],
   "source": [
    "train_X.head(10)"
   ]
  },
  {
   "cell_type": "code",
   "execution_count": 60,
   "id": "9401b642",
   "metadata": {},
   "outputs": [
    {
     "data": {
      "text/plain": [
       "955     18.49\n",
       "1224    21.20\n",
       "Name: ARAI_Certified_Mileage, dtype: float64"
      ]
     },
     "execution_count": 60,
     "metadata": {},
     "output_type": "execute_result"
    }
   ],
   "source": [
    "train_y.head(2)"
   ]
  },
  {
   "cell_type": "code",
   "execution_count": 61,
   "id": "83163220",
   "metadata": {},
   "outputs": [
    {
     "data": {
      "text/plain": [
       "LinearRegression()"
      ]
     },
     "execution_count": 61,
     "metadata": {},
     "output_type": "execute_result"
    }
   ],
   "source": [
    "model = LinearRegression()\n",
    "model.fit(train_X,train_y)"
   ]
  },
  {
   "cell_type": "code",
   "execution_count": 62,
   "id": "26f5e3f0",
   "metadata": {},
   "outputs": [
    {
     "data": {
      "text/plain": [
       "array([19.26110154])"
      ]
     },
     "execution_count": 62,
     "metadata": {},
     "output_type": "execute_result"
    }
   ],
   "source": [
    "model.predict([[1200, 3.0, 44.0, 1]])"
   ]
  },
  {
   "cell_type": "code",
   "execution_count": 63,
   "id": "f4999682",
   "metadata": {},
   "outputs": [
    {
     "name": "stdout",
     "output_type": "stream",
     "text": [
      "Accuracy of model is  37.68868428409099\n"
     ]
    }
   ],
   "source": [
    "test_acc = model.score(train_X,train_y)\n",
    "test_acc*100\n",
    "print(\"Accuracy of model is \",test_acc*100)"
   ]
  },
  {
   "cell_type": "code",
   "execution_count": 64,
   "id": "c029176d",
   "metadata": {
    "scrolled": true
   },
   "outputs": [
    {
     "name": "stdout",
     "output_type": "stream",
     "text": [
      "836     11.50\n",
      "164     28.40\n",
      "249     20.38\n",
      "672     16.00\n",
      "671     16.00\n",
      "        ...  \n",
      "754     13.70\n",
      "806     10.00\n",
      "559     23.00\n",
      "753     14.67\n",
      "1102    26.32\n",
      "Name: ARAI_Certified_Mileage, Length: 383, dtype: float64\n"
     ]
    }
   ],
   "source": [
    "print(test_y)"
   ]
  },
  {
   "cell_type": "markdown",
   "id": "ff8fe706",
   "metadata": {},
   "source": [
    "# Saving Model"
   ]
  },
  {
   "cell_type": "code",
   "execution_count": 65,
   "id": "8e1b9368",
   "metadata": {},
   "outputs": [],
   "source": [
    "import pickle"
   ]
  },
  {
   "cell_type": "code",
   "execution_count": 66,
   "id": "7f81ba3c",
   "metadata": {},
   "outputs": [],
   "source": [
    "pickle.dump(model, open('Mileage_Pred_Model.pkl','wb'))"
   ]
  },
  {
   "cell_type": "markdown",
   "id": "8ef37cf1",
   "metadata": {},
   "source": [
    "# Saving Dataset"
   ]
  },
  {
   "cell_type": "code",
   "execution_count": 67,
   "id": "e4db6b65",
   "metadata": {},
   "outputs": [],
   "source": [
    "ds.to_csv('out2.csv')"
   ]
  },
  {
   "cell_type": "code",
   "execution_count": 68,
   "id": "33b26ce8",
   "metadata": {},
   "outputs": [
    {
     "data": {
      "text/html": [
       "<div>\n",
       "<style scoped>\n",
       "    .dataframe tbody tr th:only-of-type {\n",
       "        vertical-align: middle;\n",
       "    }\n",
       "\n",
       "    .dataframe tbody tr th {\n",
       "        vertical-align: top;\n",
       "    }\n",
       "\n",
       "    .dataframe thead th {\n",
       "        text-align: right;\n",
       "    }\n",
       "</style>\n",
       "<table border=\"1\" class=\"dataframe\">\n",
       "  <thead>\n",
       "    <tr style=\"text-align: right;\">\n",
       "      <th></th>\n",
       "      <th>Displacement</th>\n",
       "      <th>Cylinders</th>\n",
       "      <th>Valves_Per_Cylinder</th>\n",
       "      <th>Cylinder_Configuration</th>\n",
       "      <th>Fuel_System</th>\n",
       "      <th>Fuel_Tank_Capacity</th>\n",
       "      <th>Fuel_Type</th>\n",
       "      <th>Emission_Norm</th>\n",
       "      <th>Start_/_Stop_Button</th>\n",
       "      <th>ARAI_Certified_Mileage</th>\n",
       "      <th>price</th>\n",
       "    </tr>\n",
       "  </thead>\n",
       "  <tbody>\n",
       "    <tr>\n",
       "      <th>0</th>\n",
       "      <td>624</td>\n",
       "      <td>2.0</td>\n",
       "      <td>2.0</td>\n",
       "      <td>1</td>\n",
       "      <td>1</td>\n",
       "      <td>24.0</td>\n",
       "      <td>1</td>\n",
       "      <td>1</td>\n",
       "      <td>1</td>\n",
       "      <td>23.6</td>\n",
       "      <td>4097.338</td>\n",
       "    </tr>\n",
       "  </tbody>\n",
       "</table>\n",
       "</div>"
      ],
      "text/plain": [
       "   Displacement  Cylinders  Valves_Per_Cylinder  Cylinder_Configuration  \\\n",
       "0           624        2.0                  2.0                       1   \n",
       "\n",
       "   Fuel_System  Fuel_Tank_Capacity  Fuel_Type  Emission_Norm  \\\n",
       "0            1                24.0          1              1   \n",
       "\n",
       "   Start_/_Stop_Button  ARAI_Certified_Mileage     price  \n",
       "0                    1                    23.6  4097.338  "
      ]
     },
     "execution_count": 68,
     "metadata": {},
     "output_type": "execute_result"
    }
   ],
   "source": [
    "ds.head(1)"
   ]
  },
  {
   "cell_type": "code",
   "execution_count": 69,
   "id": "15ffa915",
   "metadata": {},
   "outputs": [
    {
     "ename": "KeyError",
     "evalue": "\"['Price', 'Torque', 'Power'] not in index\"",
     "output_type": "error",
     "traceback": [
      "\u001b[1;31m---------------------------------------------------------------------------\u001b[0m",
      "\u001b[1;31mKeyError\u001b[0m                                  Traceback (most recent call last)",
      "\u001b[1;32m<ipython-input-69-04f3b8a93ff4>\u001b[0m in \u001b[0;36m<module>\u001b[1;34m\u001b[0m\n\u001b[1;32m----> 1\u001b[1;33m \u001b[0mdp\u001b[0m\u001b[1;33m=\u001b[0m\u001b[0mds\u001b[0m\u001b[1;33m[\u001b[0m\u001b[1;33m[\u001b[0m\u001b[1;34m'Torque'\u001b[0m\u001b[1;33m,\u001b[0m \u001b[1;34m'Power'\u001b[0m\u001b[1;33m,\u001b[0m \u001b[1;34m'ARAI_Certified_Mileage'\u001b[0m\u001b[1;33m,\u001b[0m \u001b[1;34m'Price'\u001b[0m\u001b[1;33m]\u001b[0m\u001b[1;33m]\u001b[0m\u001b[1;33m\u001b[0m\u001b[1;33m\u001b[0m\u001b[0m\n\u001b[0m",
      "\u001b[1;32mC:\\ProgramData\\Anaconda3\\lib\\site-packages\\pandas\\core\\frame.py\u001b[0m in \u001b[0;36m__getitem__\u001b[1;34m(self, key)\u001b[0m\n\u001b[0;32m   3028\u001b[0m             \u001b[1;32mif\u001b[0m \u001b[0mis_iterator\u001b[0m\u001b[1;33m(\u001b[0m\u001b[0mkey\u001b[0m\u001b[1;33m)\u001b[0m\u001b[1;33m:\u001b[0m\u001b[1;33m\u001b[0m\u001b[1;33m\u001b[0m\u001b[0m\n\u001b[0;32m   3029\u001b[0m                 \u001b[0mkey\u001b[0m \u001b[1;33m=\u001b[0m \u001b[0mlist\u001b[0m\u001b[1;33m(\u001b[0m\u001b[0mkey\u001b[0m\u001b[1;33m)\u001b[0m\u001b[1;33m\u001b[0m\u001b[1;33m\u001b[0m\u001b[0m\n\u001b[1;32m-> 3030\u001b[1;33m             \u001b[0mindexer\u001b[0m \u001b[1;33m=\u001b[0m \u001b[0mself\u001b[0m\u001b[1;33m.\u001b[0m\u001b[0mloc\u001b[0m\u001b[1;33m.\u001b[0m\u001b[0m_get_listlike_indexer\u001b[0m\u001b[1;33m(\u001b[0m\u001b[0mkey\u001b[0m\u001b[1;33m,\u001b[0m \u001b[0maxis\u001b[0m\u001b[1;33m=\u001b[0m\u001b[1;36m1\u001b[0m\u001b[1;33m,\u001b[0m \u001b[0mraise_missing\u001b[0m\u001b[1;33m=\u001b[0m\u001b[1;32mTrue\u001b[0m\u001b[1;33m)\u001b[0m\u001b[1;33m[\u001b[0m\u001b[1;36m1\u001b[0m\u001b[1;33m]\u001b[0m\u001b[1;33m\u001b[0m\u001b[1;33m\u001b[0m\u001b[0m\n\u001b[0m\u001b[0;32m   3031\u001b[0m \u001b[1;33m\u001b[0m\u001b[0m\n\u001b[0;32m   3032\u001b[0m         \u001b[1;31m# take() does not accept boolean indexers\u001b[0m\u001b[1;33m\u001b[0m\u001b[1;33m\u001b[0m\u001b[1;33m\u001b[0m\u001b[0m\n",
      "\u001b[1;32mC:\\ProgramData\\Anaconda3\\lib\\site-packages\\pandas\\core\\indexing.py\u001b[0m in \u001b[0;36m_get_listlike_indexer\u001b[1;34m(self, key, axis, raise_missing)\u001b[0m\n\u001b[0;32m   1264\u001b[0m             \u001b[0mkeyarr\u001b[0m\u001b[1;33m,\u001b[0m \u001b[0mindexer\u001b[0m\u001b[1;33m,\u001b[0m \u001b[0mnew_indexer\u001b[0m \u001b[1;33m=\u001b[0m \u001b[0max\u001b[0m\u001b[1;33m.\u001b[0m\u001b[0m_reindex_non_unique\u001b[0m\u001b[1;33m(\u001b[0m\u001b[0mkeyarr\u001b[0m\u001b[1;33m)\u001b[0m\u001b[1;33m\u001b[0m\u001b[1;33m\u001b[0m\u001b[0m\n\u001b[0;32m   1265\u001b[0m \u001b[1;33m\u001b[0m\u001b[0m\n\u001b[1;32m-> 1266\u001b[1;33m         \u001b[0mself\u001b[0m\u001b[1;33m.\u001b[0m\u001b[0m_validate_read_indexer\u001b[0m\u001b[1;33m(\u001b[0m\u001b[0mkeyarr\u001b[0m\u001b[1;33m,\u001b[0m \u001b[0mindexer\u001b[0m\u001b[1;33m,\u001b[0m \u001b[0maxis\u001b[0m\u001b[1;33m,\u001b[0m \u001b[0mraise_missing\u001b[0m\u001b[1;33m=\u001b[0m\u001b[0mraise_missing\u001b[0m\u001b[1;33m)\u001b[0m\u001b[1;33m\u001b[0m\u001b[1;33m\u001b[0m\u001b[0m\n\u001b[0m\u001b[0;32m   1267\u001b[0m         \u001b[1;32mreturn\u001b[0m \u001b[0mkeyarr\u001b[0m\u001b[1;33m,\u001b[0m \u001b[0mindexer\u001b[0m\u001b[1;33m\u001b[0m\u001b[1;33m\u001b[0m\u001b[0m\n\u001b[0;32m   1268\u001b[0m \u001b[1;33m\u001b[0m\u001b[0m\n",
      "\u001b[1;32mC:\\ProgramData\\Anaconda3\\lib\\site-packages\\pandas\\core\\indexing.py\u001b[0m in \u001b[0;36m_validate_read_indexer\u001b[1;34m(self, key, indexer, axis, raise_missing)\u001b[0m\n\u001b[0;32m   1314\u001b[0m             \u001b[1;32mif\u001b[0m \u001b[0mraise_missing\u001b[0m\u001b[1;33m:\u001b[0m\u001b[1;33m\u001b[0m\u001b[1;33m\u001b[0m\u001b[0m\n\u001b[0;32m   1315\u001b[0m                 \u001b[0mnot_found\u001b[0m \u001b[1;33m=\u001b[0m \u001b[0mlist\u001b[0m\u001b[1;33m(\u001b[0m\u001b[0mset\u001b[0m\u001b[1;33m(\u001b[0m\u001b[0mkey\u001b[0m\u001b[1;33m)\u001b[0m \u001b[1;33m-\u001b[0m \u001b[0mset\u001b[0m\u001b[1;33m(\u001b[0m\u001b[0max\u001b[0m\u001b[1;33m)\u001b[0m\u001b[1;33m)\u001b[0m\u001b[1;33m\u001b[0m\u001b[1;33m\u001b[0m\u001b[0m\n\u001b[1;32m-> 1316\u001b[1;33m                 \u001b[1;32mraise\u001b[0m \u001b[0mKeyError\u001b[0m\u001b[1;33m(\u001b[0m\u001b[1;34mf\"{not_found} not in index\"\u001b[0m\u001b[1;33m)\u001b[0m\u001b[1;33m\u001b[0m\u001b[1;33m\u001b[0m\u001b[0m\n\u001b[0m\u001b[0;32m   1317\u001b[0m \u001b[1;33m\u001b[0m\u001b[0m\n\u001b[0;32m   1318\u001b[0m             \u001b[0mnot_found\u001b[0m \u001b[1;33m=\u001b[0m \u001b[0mkey\u001b[0m\u001b[1;33m[\u001b[0m\u001b[0mmissing_mask\u001b[0m\u001b[1;33m]\u001b[0m\u001b[1;33m\u001b[0m\u001b[1;33m\u001b[0m\u001b[0m\n",
      "\u001b[1;31mKeyError\u001b[0m: \"['Price', 'Torque', 'Power'] not in index\""
     ]
    }
   ],
   "source": [
    "dp=ds[['Torque', 'Power', 'ARAI_Certified_Mileage', 'Price']]"
   ]
  },
  {
   "cell_type": "markdown",
   "id": "385863e5",
   "metadata": {},
   "source": [
    "# Plotting Graphs"
   ]
  },
  {
   "cell_type": "code",
   "execution_count": null,
   "id": "45d6245a",
   "metadata": {},
   "outputs": [],
   "source": [
    "f, ax = plt.subplots(figsize=(7, 5))\n",
    "sns.despine(f)\n",
    "sns.kdeplot(df['ARAI_Certified_Mileage'], color='green', shade=True)\n",
    "plt.title(\"KDE plot of ARAI Certified Mileage\")\n",
    "plt.savefig('displacement.jpg')"
   ]
  },
  {
   "cell_type": "code",
   "execution_count": null,
   "id": "37c05ce9",
   "metadata": {},
   "outputs": [],
   "source": [
    "sns.set_style(\"dark\")\n",
    "sns.kdeplot(df['Displacement'], df['ARAI_Certified_Mileage'], cmap=\"Reds\", shade=True, bw=.15)\n",
    "plt.title(\"ARAI Certified Mileage v/s Displacement\")\n",
    "plt.savefig('disVSmil.jpg')"
   ]
  },
  {
   "cell_type": "code",
   "execution_count": null,
   "id": "ee24564f",
   "metadata": {},
   "outputs": [],
   "source": [
    "sns.set_style(\"dark\")\n",
    "sns.kdeplot(df['Fuel_Tank_Capacity'], df['ARAI_Certified_Mileage'], cmap=\"Blues\", shade=True, bw=.15)\n",
    "plt.title(\"ARAI Certified Mileage v/s Fuel_Tank_Capacity\")\n",
    "plt.savefig('fuelVSmil.jpg')"
   ]
  },
  {
   "cell_type": "code",
   "execution_count": null,
   "id": "e12438b6",
   "metadata": {},
   "outputs": [],
   "source": [
    "f, ax = plt.subplots(figsize=(7, 5))\n",
    "sns.despine(f)\n",
    "sns.barplot(x='Cylinders', y='ARAI_Certified_Mileage', data=df, palette='magma')\n",
    "plt.title(\"ARAI Certified Mileage v/s Cylinders Count\")\n",
    "plt.savefig('CylVSmil.jpg')"
   ]
  },
  {
   "cell_type": "code",
   "execution_count": null,
   "id": "cdd09457",
   "metadata": {},
   "outputs": [],
   "source": [
    "sns.lineplot(x='Cylinder_Configuration', y='ARAI_Certified_Mileage',color='yellow', data=df)\n",
    "plt.title(\"ARAI Certified Mileage v/s Cylinder Configuration\")\n",
    "plt.savefig('Cyl_ConVSmil.jpg')"
   ]
  }
 ],
 "metadata": {
  "kernelspec": {
   "display_name": "Python 3",
   "language": "python",
   "name": "python3"
  },
  "language_info": {
   "codemirror_mode": {
    "name": "ipython",
    "version": 3
   },
   "file_extension": ".py",
   "mimetype": "text/x-python",
   "name": "python",
   "nbconvert_exporter": "python",
   "pygments_lexer": "ipython3",
   "version": "3.8.8"
  }
 },
 "nbformat": 4,
 "nbformat_minor": 5
}
