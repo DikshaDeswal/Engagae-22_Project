{
 "cells": [
  {
   "cell_type": "code",
   "execution_count": 1,
   "id": "38a6fe15",
   "metadata": {},
   "outputs": [],
   "source": [
    "import pandas as pd\n",
    "import numpy as np\n",
    "import seaborn as sns\n",
    "import seaborn as sns"
   ]
  },
  {
   "cell_type": "code",
   "execution_count": 2,
   "id": "7e4db17c",
   "metadata": {},
   "outputs": [],
   "source": [
    "df=pd.read_csv('buy2.csv')"
   ]
  },
  {
   "cell_type": "code",
   "execution_count": 3,
   "id": "39a28aed",
   "metadata": {},
   "outputs": [
    {
     "data": {
      "text/html": [
       "<div>\n",
       "<style scoped>\n",
       "    .dataframe tbody tr th:only-of-type {\n",
       "        vertical-align: middle;\n",
       "    }\n",
       "\n",
       "    .dataframe tbody tr th {\n",
       "        vertical-align: top;\n",
       "    }\n",
       "\n",
       "    .dataframe thead th {\n",
       "        text-align: right;\n",
       "    }\n",
       "</style>\n",
       "<table border=\"1\" class=\"dataframe\">\n",
       "  <thead>\n",
       "    <tr style=\"text-align: right;\">\n",
       "      <th></th>\n",
       "      <th>Emission_Norm</th>\n",
       "      <th>Engine_Malfunction_Light</th>\n",
       "      <th>Number_of_Airbags</th>\n",
       "      <th>Low_Fuel_Warning</th>\n",
       "      <th>Ex-Showroom_Price</th>\n",
       "      <th>Model</th>\n",
       "    </tr>\n",
       "  </thead>\n",
       "  <tbody>\n",
       "    <tr>\n",
       "      <th>0</th>\n",
       "      <td>BS IV</td>\n",
       "      <td>Yes</td>\n",
       "      <td>NaN</td>\n",
       "      <td>Yes</td>\n",
       "      <td>Rs. 2,92,667</td>\n",
       "      <td>Nano Genx</td>\n",
       "    </tr>\n",
       "    <tr>\n",
       "      <th>1</th>\n",
       "      <td>BS IV</td>\n",
       "      <td>Yes</td>\n",
       "      <td>NaN</td>\n",
       "      <td>Yes</td>\n",
       "      <td>Rs. 2,36,447</td>\n",
       "      <td>Nano Genx</td>\n",
       "    </tr>\n",
       "    <tr>\n",
       "      <th>2</th>\n",
       "      <td>BS IV</td>\n",
       "      <td>Yes</td>\n",
       "      <td>NaN</td>\n",
       "      <td>Yes</td>\n",
       "      <td>Rs. 2,96,661</td>\n",
       "      <td>Nano Genx</td>\n",
       "    </tr>\n",
       "    <tr>\n",
       "      <th>3</th>\n",
       "      <td>BS IV</td>\n",
       "      <td>Yes</td>\n",
       "      <td>NaN</td>\n",
       "      <td>Yes</td>\n",
       "      <td>Rs. 3,34,768</td>\n",
       "      <td>Nano Genx</td>\n",
       "    </tr>\n",
       "    <tr>\n",
       "      <th>4</th>\n",
       "      <td>BS IV</td>\n",
       "      <td>Yes</td>\n",
       "      <td>NaN</td>\n",
       "      <td>Yes</td>\n",
       "      <td>Rs. 2,72,223</td>\n",
       "      <td>Nano Genx</td>\n",
       "    </tr>\n",
       "  </tbody>\n",
       "</table>\n",
       "</div>"
      ],
      "text/plain": [
       "  Emission_Norm Engine_Malfunction_Light  Number_of_Airbags Low_Fuel_Warning  \\\n",
       "0         BS IV                      Yes                NaN              Yes   \n",
       "1         BS IV                      Yes                NaN              Yes   \n",
       "2         BS IV                      Yes                NaN              Yes   \n",
       "3         BS IV                      Yes                NaN              Yes   \n",
       "4         BS IV                      Yes                NaN              Yes   \n",
       "\n",
       "  Ex-Showroom_Price      Model  \n",
       "0      Rs. 2,92,667  Nano Genx  \n",
       "1      Rs. 2,36,447  Nano Genx  \n",
       "2      Rs. 2,96,661  Nano Genx  \n",
       "3      Rs. 3,34,768  Nano Genx  \n",
       "4      Rs. 2,72,223  Nano Genx  "
      ]
     },
     "execution_count": 3,
     "metadata": {},
     "output_type": "execute_result"
    }
   ],
   "source": [
    "df.head()"
   ]
  },
  {
   "cell_type": "code",
   "execution_count": 4,
   "id": "68697cf9",
   "metadata": {},
   "outputs": [
    {
     "data": {
      "text/plain": [
       "Emission_Norm                11\n",
       "Engine_Malfunction_Light    117\n",
       "Number_of_Airbags           135\n",
       "Low_Fuel_Warning             36\n",
       "Ex-Showroom_Price             0\n",
       "Model                         0\n",
       "dtype: int64"
      ]
     },
     "execution_count": 4,
     "metadata": {},
     "output_type": "execute_result"
    }
   ],
   "source": [
    "df.isnull().sum()"
   ]
  },
  {
   "cell_type": "code",
   "execution_count": 5,
   "id": "48802635",
   "metadata": {},
   "outputs": [
    {
     "data": {
      "text/plain": [
       "BS IV     879\n",
       "BS 6      358\n",
       "BS VI      19\n",
       "BS III      9\n",
       "Name: Emission_Norm, dtype: int64"
      ]
     },
     "execution_count": 5,
     "metadata": {},
     "output_type": "execute_result"
    }
   ],
   "source": [
    "df['Emission_Norm'].value_counts()"
   ]
  },
  {
   "cell_type": "code",
   "execution_count": 6,
   "id": "ff953fff",
   "metadata": {},
   "outputs": [],
   "source": [
    "df['Emission_Norm']=df['Emission_Norm'].fillna('BS IV')\n",
    "df[\"Emission_Norm\"]=np.where(df[\"Emission_Norm\"]==('BS IV'),1,df[\"Emission_Norm\"])\n",
    "df[\"Emission_Norm\"]=np.where(df[\"Emission_Norm\"]==('BS 6'),2,df[\"Emission_Norm\"])\n",
    "df[\"Emission_Norm\"]=np.where(df[\"Emission_Norm\"]==('BS VI'),3,df[\"Emission_Norm\"])\n",
    "df[\"Emission_Norm\"]=np.where(df[\"Emission_Norm\"]==('BS III'),4,df[\"Emission_Norm\"])"
   ]
  },
  {
   "cell_type": "code",
   "execution_count": 7,
   "id": "0ff1ae27",
   "metadata": {},
   "outputs": [],
   "source": [
    "df['Engine_Malfunction_Light']=np.where(df[\"Engine_Malfunction_Light\"]==('yes'),1,0)"
   ]
  },
  {
   "cell_type": "code",
   "execution_count": 8,
   "id": "1a63cf0f",
   "metadata": {},
   "outputs": [
    {
     "data": {
      "text/plain": [
       "2.0     627\n",
       "6.0     202\n",
       "8.0      92\n",
       "7.0      65\n",
       "1.0      57\n",
       "4.0      40\n",
       "9.0      21\n",
       "3.0      17\n",
       "10.0     16\n",
       "14.0      3\n",
       "5.0       1\n",
       "Name: Number_of_Airbags, dtype: int64"
      ]
     },
     "execution_count": 8,
     "metadata": {},
     "output_type": "execute_result"
    }
   ],
   "source": [
    "df['Number_of_Airbags'].value_counts()"
   ]
  },
  {
   "cell_type": "code",
   "execution_count": 9,
   "id": "cc9f982c",
   "metadata": {},
   "outputs": [],
   "source": [
    "df['Number_of_Airbags']=df['Number_of_Airbags'].fillna(2.0)"
   ]
  },
  {
   "cell_type": "code",
   "execution_count": 10,
   "id": "7ed39c8d",
   "metadata": {},
   "outputs": [],
   "source": [
    "df['Low_Fuel_Warning']=df['Low_Fuel_Warning'].fillna(0)\n",
    "df['Low_Fuel_Warning']=np.where(df[\"Low_Fuel_Warning\"]==('yes'),1,0)"
   ]
  },
  {
   "cell_type": "code",
   "execution_count": 11,
   "id": "7a9a1f3d",
   "metadata": {},
   "outputs": [],
   "source": [
    "df['Ex-Showroom_Price'] = df['Ex-Showroom_Price'].str.replace('Rs. ','',regex=False)\n",
    "df['Ex-Showroom_Price'] = df['Ex-Showroom_Price'].str.replace(',','',regex=False)\n",
    "df['Ex-Showroom_Price'] = df['Ex-Showroom_Price'].astype(int)\n",
    "df['price'] = df['Ex-Showroom_Price'] * 0.014\n",
    "df.drop(columns='Ex-Showroom_Price', inplace= True)"
   ]
  },
  {
   "cell_type": "code",
   "execution_count": 12,
   "id": "9ad7730e",
   "metadata": {},
   "outputs": [
    {
     "data": {
      "text/html": [
       "<div>\n",
       "<style scoped>\n",
       "    .dataframe tbody tr th:only-of-type {\n",
       "        vertical-align: middle;\n",
       "    }\n",
       "\n",
       "    .dataframe tbody tr th {\n",
       "        vertical-align: top;\n",
       "    }\n",
       "\n",
       "    .dataframe thead th {\n",
       "        text-align: right;\n",
       "    }\n",
       "</style>\n",
       "<table border=\"1\" class=\"dataframe\">\n",
       "  <thead>\n",
       "    <tr style=\"text-align: right;\">\n",
       "      <th></th>\n",
       "      <th>Emission_Norm</th>\n",
       "      <th>Engine_Malfunction_Light</th>\n",
       "      <th>Number_of_Airbags</th>\n",
       "      <th>Low_Fuel_Warning</th>\n",
       "      <th>Model</th>\n",
       "      <th>price</th>\n",
       "    </tr>\n",
       "  </thead>\n",
       "  <tbody>\n",
       "    <tr>\n",
       "      <th>0</th>\n",
       "      <td>1</td>\n",
       "      <td>0</td>\n",
       "      <td>2.0</td>\n",
       "      <td>0</td>\n",
       "      <td>Nano Genx</td>\n",
       "      <td>4097.338</td>\n",
       "    </tr>\n",
       "    <tr>\n",
       "      <th>1</th>\n",
       "      <td>1</td>\n",
       "      <td>0</td>\n",
       "      <td>2.0</td>\n",
       "      <td>0</td>\n",
       "      <td>Nano Genx</td>\n",
       "      <td>3310.258</td>\n",
       "    </tr>\n",
       "    <tr>\n",
       "      <th>2</th>\n",
       "      <td>1</td>\n",
       "      <td>0</td>\n",
       "      <td>2.0</td>\n",
       "      <td>0</td>\n",
       "      <td>Nano Genx</td>\n",
       "      <td>4153.254</td>\n",
       "    </tr>\n",
       "    <tr>\n",
       "      <th>3</th>\n",
       "      <td>1</td>\n",
       "      <td>0</td>\n",
       "      <td>2.0</td>\n",
       "      <td>0</td>\n",
       "      <td>Nano Genx</td>\n",
       "      <td>4686.752</td>\n",
       "    </tr>\n",
       "    <tr>\n",
       "      <th>4</th>\n",
       "      <td>1</td>\n",
       "      <td>0</td>\n",
       "      <td>2.0</td>\n",
       "      <td>0</td>\n",
       "      <td>Nano Genx</td>\n",
       "      <td>3811.122</td>\n",
       "    </tr>\n",
       "  </tbody>\n",
       "</table>\n",
       "</div>"
      ],
      "text/plain": [
       "  Emission_Norm  Engine_Malfunction_Light  Number_of_Airbags  \\\n",
       "0             1                         0                2.0   \n",
       "1             1                         0                2.0   \n",
       "2             1                         0                2.0   \n",
       "3             1                         0                2.0   \n",
       "4             1                         0                2.0   \n",
       "\n",
       "   Low_Fuel_Warning      Model     price  \n",
       "0                 0  Nano Genx  4097.338  \n",
       "1                 0  Nano Genx  3310.258  \n",
       "2                 0  Nano Genx  4153.254  \n",
       "3                 0  Nano Genx  4686.752  \n",
       "4                 0  Nano Genx  3811.122  "
      ]
     },
     "execution_count": 12,
     "metadata": {},
     "output_type": "execute_result"
    }
   ],
   "source": [
    "df.head()"
   ]
  },
  {
   "cell_type": "code",
   "execution_count": 13,
   "id": "da610938",
   "metadata": {},
   "outputs": [
    {
     "data": {
      "text/plain": [
       "Emission_Norm               0\n",
       "Engine_Malfunction_Light    0\n",
       "Number_of_Airbags           0\n",
       "Low_Fuel_Warning            0\n",
       "Model                       0\n",
       "price                       0\n",
       "dtype: int64"
      ]
     },
     "execution_count": 13,
     "metadata": {},
     "output_type": "execute_result"
    }
   ],
   "source": [
    "df.isnull().sum()"
   ]
  },
  {
   "cell_type": "code",
   "execution_count": 14,
   "id": "dfdf173c",
   "metadata": {},
   "outputs": [
    {
     "data": {
      "text/html": [
       "<div>\n",
       "<style scoped>\n",
       "    .dataframe tbody tr th:only-of-type {\n",
       "        vertical-align: middle;\n",
       "    }\n",
       "\n",
       "    .dataframe tbody tr th {\n",
       "        vertical-align: top;\n",
       "    }\n",
       "\n",
       "    .dataframe thead th {\n",
       "        text-align: right;\n",
       "    }\n",
       "</style>\n",
       "<table border=\"1\" class=\"dataframe\">\n",
       "  <thead>\n",
       "    <tr style=\"text-align: right;\">\n",
       "      <th></th>\n",
       "      <th>Engine_Malfunction_Light</th>\n",
       "      <th>Number_of_Airbags</th>\n",
       "      <th>Low_Fuel_Warning</th>\n",
       "      <th>price</th>\n",
       "    </tr>\n",
       "  </thead>\n",
       "  <tbody>\n",
       "    <tr>\n",
       "      <th>count</th>\n",
       "      <td>1276.0</td>\n",
       "      <td>1276.000000</td>\n",
       "      <td>1276.0</td>\n",
       "      <td>1.276000e+03</td>\n",
       "    </tr>\n",
       "    <tr>\n",
       "      <th>mean</th>\n",
       "      <td>0.0</td>\n",
       "      <td>3.597962</td>\n",
       "      <td>0.0</td>\n",
       "      <td>6.435153e+04</td>\n",
       "    </tr>\n",
       "    <tr>\n",
       "      <th>std</th>\n",
       "      <td>0.0</td>\n",
       "      <td>2.447689</td>\n",
       "      <td>0.0</td>\n",
       "      <td>1.700629e+05</td>\n",
       "    </tr>\n",
       "    <tr>\n",
       "      <th>min</th>\n",
       "      <td>0.0</td>\n",
       "      <td>1.000000</td>\n",
       "      <td>0.0</td>\n",
       "      <td>3.310258e+03</td>\n",
       "    </tr>\n",
       "    <tr>\n",
       "      <th>25%</th>\n",
       "      <td>0.0</td>\n",
       "      <td>2.000000</td>\n",
       "      <td>0.0</td>\n",
       "      <td>1.041426e+04</td>\n",
       "    </tr>\n",
       "    <tr>\n",
       "      <th>50%</th>\n",
       "      <td>0.0</td>\n",
       "      <td>2.000000</td>\n",
       "      <td>0.0</td>\n",
       "      <td>1.484090e+04</td>\n",
       "    </tr>\n",
       "    <tr>\n",
       "      <th>75%</th>\n",
       "      <td>0.0</td>\n",
       "      <td>6.000000</td>\n",
       "      <td>0.0</td>\n",
       "      <td>4.171759e+04</td>\n",
       "    </tr>\n",
       "    <tr>\n",
       "      <th>max</th>\n",
       "      <td>0.0</td>\n",
       "      <td>14.000000</td>\n",
       "      <td>0.0</td>\n",
       "      <td>2.970176e+06</td>\n",
       "    </tr>\n",
       "  </tbody>\n",
       "</table>\n",
       "</div>"
      ],
      "text/plain": [
       "       Engine_Malfunction_Light  Number_of_Airbags  Low_Fuel_Warning  \\\n",
       "count                    1276.0        1276.000000            1276.0   \n",
       "mean                        0.0           3.597962               0.0   \n",
       "std                         0.0           2.447689               0.0   \n",
       "min                         0.0           1.000000               0.0   \n",
       "25%                         0.0           2.000000               0.0   \n",
       "50%                         0.0           2.000000               0.0   \n",
       "75%                         0.0           6.000000               0.0   \n",
       "max                         0.0          14.000000               0.0   \n",
       "\n",
       "              price  \n",
       "count  1.276000e+03  \n",
       "mean   6.435153e+04  \n",
       "std    1.700629e+05  \n",
       "min    3.310258e+03  \n",
       "25%    1.041426e+04  \n",
       "50%    1.484090e+04  \n",
       "75%    4.171759e+04  \n",
       "max    2.970176e+06  "
      ]
     },
     "execution_count": 14,
     "metadata": {},
     "output_type": "execute_result"
    }
   ],
   "source": [
    "df.describe()"
   ]
  },
  {
   "cell_type": "code",
   "execution_count": 15,
   "id": "311d53b8",
   "metadata": {},
   "outputs": [],
   "source": [
    "from sklearn.linear_model import LogisticRegression  \n",
    "from sklearn.model_selection import train_test_split \n",
    "from sklearn.neighbors import KNeighborsClassifier  \n",
    "from sklearn import svm  \n",
    "from sklearn import metrics \n",
    "from sklearn.tree import DecisionTreeClassifier \n",
    "from sklearn.linear_model import LinearRegression"
   ]
  },
  {
   "cell_type": "code",
   "execution_count": 16,
   "id": "335e3ba0",
   "metadata": {},
   "outputs": [
    {
     "name": "stdout",
     "output_type": "stream",
     "text": [
      "(893, 6)\n",
      "(383, 6)\n"
     ]
    }
   ],
   "source": [
    "train, test = train_test_split(df, test_size = 0.3)\n",
    "print(train.shape)\n",
    "print(test.shape)"
   ]
  },
  {
   "cell_type": "code",
   "execution_count": 18,
   "id": "30b364fb",
   "metadata": {},
   "outputs": [],
   "source": [
    "train_X = train[['price','Number_of_Airbags','Engine_Malfunction_Light','Low_Fuel_Warning','Emission_Norm']]\n",
    "train_y=train.Model\n",
    "test_X= test[['price','Number_of_Airbags','Engine_Malfunction_Light','Low_Fuel_Warning','Emission_Norm']]\n",
    "test_y =test.Model"
   ]
  },
  {
   "cell_type": "code",
   "execution_count": 19,
   "id": "35f9b665",
   "metadata": {},
   "outputs": [],
   "source": [
    "model = svm.SVC() \n",
    "model.fit(train_X,train_y) \n",
    "prediction=model.predict(test_X)"
   ]
  },
  {
   "cell_type": "code",
   "execution_count": 20,
   "id": "47c3abb0",
   "metadata": {},
   "outputs": [
    {
     "name": "stdout",
     "output_type": "stream",
     "text": [
      "The accuracy of the SVM is: 0.033942558746736295\n"
     ]
    }
   ],
   "source": [
    "print('The accuracy of the SVM is:',metrics.accuracy_score(prediction,test_y))"
   ]
  },
  {
   "cell_type": "code",
   "execution_count": 21,
   "id": "d974d72f",
   "metadata": {},
   "outputs": [],
   "source": [
    "import pickle\n",
    "pickle.dump(model, open('buy2.pkl','wb'))"
   ]
  }
 ],
 "metadata": {
  "kernelspec": {
   "display_name": "Python 3",
   "language": "python",
   "name": "python3"
  },
  "language_info": {
   "codemirror_mode": {
    "name": "ipython",
    "version": 3
   },
   "file_extension": ".py",
   "mimetype": "text/x-python",
   "name": "python",
   "nbconvert_exporter": "python",
   "pygments_lexer": "ipython3",
   "version": "3.8.8"
  }
 },
 "nbformat": 4,
 "nbformat_minor": 5
}
