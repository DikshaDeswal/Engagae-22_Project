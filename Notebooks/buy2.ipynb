{
 "cells": [
  {
   "cell_type": "code",
   "execution_count": 1,
   "id": "1e11bdfc",
   "metadata": {},
   "outputs": [],
   "source": [
    "import pandas as pd\n",
    "import numpy as np\n",
    "import seaborn as sns\n",
    "import seaborn as sns"
   ]
  },
  {
   "cell_type": "code",
   "execution_count": 2,
   "id": "c4086a0f",
   "metadata": {},
   "outputs": [],
   "source": [
    "df=pd.read_csv('buy1.csv')"
   ]
  },
  {
   "cell_type": "code",
   "execution_count": 3,
   "id": "76e155ab",
   "metadata": {},
   "outputs": [
    {
     "data": {
      "text/html": [
       "<div>\n",
       "<style scoped>\n",
       "    .dataframe tbody tr th:only-of-type {\n",
       "        vertical-align: middle;\n",
       "    }\n",
       "\n",
       "    .dataframe tbody tr th {\n",
       "        vertical-align: top;\n",
       "    }\n",
       "\n",
       "    .dataframe thead th {\n",
       "        text-align: right;\n",
       "    }\n",
       "</style>\n",
       "<table border=\"1\" class=\"dataframe\">\n",
       "  <thead>\n",
       "    <tr style=\"text-align: right;\">\n",
       "      <th></th>\n",
       "      <th>Seating_Capacity</th>\n",
       "    </tr>\n",
       "  </thead>\n",
       "  <tbody>\n",
       "    <tr>\n",
       "      <th>count</th>\n",
       "      <td>1270.000000</td>\n",
       "    </tr>\n",
       "    <tr>\n",
       "      <th>mean</th>\n",
       "      <td>5.270079</td>\n",
       "    </tr>\n",
       "    <tr>\n",
       "      <th>std</th>\n",
       "      <td>1.145231</td>\n",
       "    </tr>\n",
       "    <tr>\n",
       "      <th>min</th>\n",
       "      <td>2.000000</td>\n",
       "    </tr>\n",
       "    <tr>\n",
       "      <th>25%</th>\n",
       "      <td>5.000000</td>\n",
       "    </tr>\n",
       "    <tr>\n",
       "      <th>50%</th>\n",
       "      <td>5.000000</td>\n",
       "    </tr>\n",
       "    <tr>\n",
       "      <th>75%</th>\n",
       "      <td>5.000000</td>\n",
       "    </tr>\n",
       "    <tr>\n",
       "      <th>max</th>\n",
       "      <td>16.000000</td>\n",
       "    </tr>\n",
       "  </tbody>\n",
       "</table>\n",
       "</div>"
      ],
      "text/plain": [
       "       Seating_Capacity\n",
       "count       1270.000000\n",
       "mean           5.270079\n",
       "std            1.145231\n",
       "min            2.000000\n",
       "25%            5.000000\n",
       "50%            5.000000\n",
       "75%            5.000000\n",
       "max           16.000000"
      ]
     },
     "execution_count": 3,
     "metadata": {},
     "output_type": "execute_result"
    }
   ],
   "source": [
    "df.describe()"
   ]
  },
  {
   "cell_type": "code",
   "execution_count": 4,
   "id": "31295fe2",
   "metadata": {},
   "outputs": [
    {
     "data": {
      "text/html": [
       "<div>\n",
       "<style scoped>\n",
       "    .dataframe tbody tr th:only-of-type {\n",
       "        vertical-align: middle;\n",
       "    }\n",
       "\n",
       "    .dataframe tbody tr th {\n",
       "        vertical-align: top;\n",
       "    }\n",
       "\n",
       "    .dataframe thead th {\n",
       "        text-align: right;\n",
       "    }\n",
       "</style>\n",
       "<table border=\"1\" class=\"dataframe\">\n",
       "  <thead>\n",
       "    <tr style=\"text-align: right;\">\n",
       "      <th></th>\n",
       "      <th>Seating_Capacity</th>\n",
       "      <th>Width</th>\n",
       "      <th>Length</th>\n",
       "      <th>Body_Type</th>\n",
       "      <th>Ex-Showroom_Price</th>\n",
       "      <th>Model</th>\n",
       "    </tr>\n",
       "  </thead>\n",
       "  <tbody>\n",
       "    <tr>\n",
       "      <th>0</th>\n",
       "      <td>4.0</td>\n",
       "      <td>1750 mm</td>\n",
       "      <td>3164 mm</td>\n",
       "      <td>Hatchback</td>\n",
       "      <td>Rs. 2,92,667</td>\n",
       "      <td>Nano Genx</td>\n",
       "    </tr>\n",
       "    <tr>\n",
       "      <th>1</th>\n",
       "      <td>4.0</td>\n",
       "      <td>1750 mm</td>\n",
       "      <td>3164 mm</td>\n",
       "      <td>Hatchback</td>\n",
       "      <td>Rs. 2,36,447</td>\n",
       "      <td>Nano Genx</td>\n",
       "    </tr>\n",
       "    <tr>\n",
       "      <th>2</th>\n",
       "      <td>4.0</td>\n",
       "      <td>1750 mm</td>\n",
       "      <td>3164 mm</td>\n",
       "      <td>Hatchback</td>\n",
       "      <td>Rs. 2,96,661</td>\n",
       "      <td>Nano Genx</td>\n",
       "    </tr>\n",
       "    <tr>\n",
       "      <th>3</th>\n",
       "      <td>4.0</td>\n",
       "      <td>1750 mm</td>\n",
       "      <td>3164 mm</td>\n",
       "      <td>Hatchback</td>\n",
       "      <td>Rs. 3,34,768</td>\n",
       "      <td>Nano Genx</td>\n",
       "    </tr>\n",
       "    <tr>\n",
       "      <th>4</th>\n",
       "      <td>4.0</td>\n",
       "      <td>1750 mm</td>\n",
       "      <td>3164 mm</td>\n",
       "      <td>Hatchback</td>\n",
       "      <td>Rs. 2,72,223</td>\n",
       "      <td>Nano Genx</td>\n",
       "    </tr>\n",
       "  </tbody>\n",
       "</table>\n",
       "</div>"
      ],
      "text/plain": [
       "   Seating_Capacity    Width   Length  Body_Type Ex-Showroom_Price      Model\n",
       "0               4.0  1750 mm  3164 mm  Hatchback      Rs. 2,92,667  Nano Genx\n",
       "1               4.0  1750 mm  3164 mm  Hatchback      Rs. 2,36,447  Nano Genx\n",
       "2               4.0  1750 mm  3164 mm  Hatchback      Rs. 2,96,661  Nano Genx\n",
       "3               4.0  1750 mm  3164 mm  Hatchback      Rs. 3,34,768  Nano Genx\n",
       "4               4.0  1750 mm  3164 mm  Hatchback      Rs. 2,72,223  Nano Genx"
      ]
     },
     "execution_count": 4,
     "metadata": {},
     "output_type": "execute_result"
    }
   ],
   "source": [
    "df.head()"
   ]
  },
  {
   "cell_type": "code",
   "execution_count": 5,
   "id": "0128818a",
   "metadata": {},
   "outputs": [
    {
     "data": {
      "text/plain": [
       "Seating_Capacity      6\n",
       "Width                12\n",
       "Length                0\n",
       "Body_Type             6\n",
       "Ex-Showroom_Price     0\n",
       "Model                 0\n",
       "dtype: int64"
      ]
     },
     "execution_count": 5,
     "metadata": {},
     "output_type": "execute_result"
    }
   ],
   "source": [
    "df.isnull().sum()"
   ]
  },
  {
   "cell_type": "code",
   "execution_count": 6,
   "id": "2c4a3ab4",
   "metadata": {},
   "outputs": [
    {
     "data": {
      "text/plain": [
       "SUV                    447\n",
       "Sedan                  333\n",
       "Hatchback              316\n",
       "Coupe                   41\n",
       "MUV                     39\n",
       "MPV                     39\n",
       "Convertible             20\n",
       "Crossover               18\n",
       "Sports                   3\n",
       "Pick-up                  3\n",
       "Crossover, SUV           2\n",
       "Sports, Convertible      2\n",
       "SUV, Crossover           2\n",
       "Sedan, Coupe             2\n",
       "Sports, Hatchback        1\n",
       "Coupe, Convertible       1\n",
       "Sedan, Crossover         1\n",
       "Name: Body_Type, dtype: int64"
      ]
     },
     "execution_count": 6,
     "metadata": {},
     "output_type": "execute_result"
    }
   ],
   "source": [
    "df['Body_Type'].value_counts()"
   ]
  },
  {
   "cell_type": "code",
   "execution_count": 7,
   "id": "52dbcb60",
   "metadata": {},
   "outputs": [],
   "source": [
    "df[\"Body_Type\"]=np.where(df[\"Body_Type\"]==('SUV'),17,df[\"Body_Type\"])\n",
    "df[\"Body_Type\"]=np.where(df[\"Body_Type\"]==('Sedan'),16,df[\"Body_Type\"])\n",
    "df[\"Body_Type\"]=np.where(df[\"Body_Type\"]==('Hatchback'),15,df[\"Body_Type\"])\n",
    "df[\"Body_Type\"]=np.where(df[\"Body_Type\"]==('MUV'),14,df[\"Body_Type\"])\n",
    "df[\"Body_Type\"]=np.where(df[\"Body_Type\"]==('MPV'),13,df[\"Body_Type\"])\n",
    "df[\"Body_Type\"]=np.where(df[\"Body_Type\"]==('Convertible'),12,df[\"Body_Type\"])\n",
    "df[\"Body_Type\"]=np.where(df[\"Body_Type\"]==('Coupe'),11,df[\"Body_Type\"])\n",
    "df[\"Body_Type\"]=np.where(df[\"Body_Type\"]==('Crossover'),10,df[\"Body_Type\"])\n",
    "df[\"Body_Type\"]=np.where(df[\"Body_Type\"]==('Pick-up'),9,df[\"Body_Type\"])\n",
    "df[\"Body_Type\"]=np.where(df[\"Body_Type\"]==('Sports'),8,df[\"Body_Type\"])\n",
    "df[\"Body_Type\"]=np.where(df[\"Body_Type\"]==('Crossover, SUV'),7,df[\"Body_Type\"])\n",
    "df[\"Body_Type\"]=np.where(df[\"Body_Type\"]==('SUV, Crossover'),6,df[\"Body_Type\"])\n",
    "df[\"Body_Type\"]=np.where(df[\"Body_Type\"]==('Sedan, Coupe'),5,df[\"Body_Type\"])\n",
    "df[\"Body_Type\"]=np.where(df[\"Body_Type\"]==('Sports, Convertible'),4,df[\"Body_Type\"])\n",
    "df[\"Body_Type\"]=np.where(df[\"Body_Type\"]==('Sedan, Crossover'),3,df[\"Body_Type\"])\n",
    "df[\"Body_Type\"]=np.where(df[\"Body_Type\"]==('Coupe, Convertible'),2,df[\"Body_Type\"])\n",
    "df[\"Body_Type\"]=np.where(df[\"Body_Type\"]==('Sports, Hatchback'),1,df[\"Body_Type\"])\n",
    "df['Body_Type']=df['Body_Type'].fillna(17)"
   ]
  },
  {
   "cell_type": "code",
   "execution_count": 8,
   "id": "21e96f69",
   "metadata": {},
   "outputs": [
    {
     "data": {
      "text/plain": [
       "5.0     915\n",
       "7.0     183\n",
       "4.0      70\n",
       "2.0      39\n",
       "6.0      26\n",
       "9.0      19\n",
       "8.0      17\n",
       "16.0      1\n",
       "Name: Seating_Capacity, dtype: int64"
      ]
     },
     "execution_count": 8,
     "metadata": {},
     "output_type": "execute_result"
    }
   ],
   "source": [
    "df['Seating_Capacity'].value_counts()"
   ]
  },
  {
   "cell_type": "code",
   "execution_count": 9,
   "id": "09f2dfa3",
   "metadata": {},
   "outputs": [],
   "source": [
    "df['Seating_Capacity']=df['Seating_Capacity'].fillna(5.0)"
   ]
  },
  {
   "cell_type": "code",
   "execution_count": 10,
   "id": "2cf2f1b8",
   "metadata": {},
   "outputs": [
    {
     "data": {
      "text/plain": [
       "1695 mm    76\n",
       "1735 mm    70\n",
       "1730 mm    36\n",
       "1811 mm    30\n",
       "1745 mm    29\n",
       "           ..\n",
       "1953 mm     1\n",
       "1885 mm     1\n",
       "2052 mm     1\n",
       "1920 mm     1\n",
       "1945 mm     1\n",
       "Name: Width, Length: 182, dtype: int64"
      ]
     },
     "execution_count": 10,
     "metadata": {},
     "output_type": "execute_result"
    }
   ],
   "source": [
    "df['Width'].value_counts()"
   ]
  },
  {
   "cell_type": "code",
   "execution_count": 11,
   "id": "242ccbe3",
   "metadata": {},
   "outputs": [],
   "source": [
    "df['Width']=df['Width'].fillna('1695 mm')"
   ]
  },
  {
   "cell_type": "code",
   "execution_count": 12,
   "id": "1838b603",
   "metadata": {},
   "outputs": [
    {
     "data": {
      "text/plain": [
       "Seating_Capacity     0\n",
       "Width                0\n",
       "Length               0\n",
       "Body_Type            0\n",
       "Ex-Showroom_Price    0\n",
       "Model                0\n",
       "dtype: int64"
      ]
     },
     "execution_count": 12,
     "metadata": {},
     "output_type": "execute_result"
    }
   ],
   "source": [
    "df.isnull().sum()"
   ]
  },
  {
   "cell_type": "code",
   "execution_count": 13,
   "id": "5456973b",
   "metadata": {},
   "outputs": [],
   "source": [
    "df['Ex-Showroom_Price'] = df['Ex-Showroom_Price'].str.replace('Rs. ','',regex=False)\n",
    "df['Ex-Showroom_Price'] = df['Ex-Showroom_Price'].str.replace(',','',regex=False)\n",
    "df['Ex-Showroom_Price'] = df['Ex-Showroom_Price'].astype(int)\n",
    "df['price'] = df['Ex-Showroom_Price'] * 0.014\n",
    "df.drop(columns='Ex-Showroom_Price', inplace= True)\n",
    "df['Length'] = df['Length'].str.replace(' mm','',regex=False).astype(float)\n",
    "df['Width'] = df['Width'].str.replace(' mm','',regex=False).astype(float)"
   ]
  },
  {
   "cell_type": "code",
   "execution_count": 14,
   "id": "450d7d57",
   "metadata": {},
   "outputs": [
    {
     "data": {
      "text/html": [
       "<div>\n",
       "<style scoped>\n",
       "    .dataframe tbody tr th:only-of-type {\n",
       "        vertical-align: middle;\n",
       "    }\n",
       "\n",
       "    .dataframe tbody tr th {\n",
       "        vertical-align: top;\n",
       "    }\n",
       "\n",
       "    .dataframe thead th {\n",
       "        text-align: right;\n",
       "    }\n",
       "</style>\n",
       "<table border=\"1\" class=\"dataframe\">\n",
       "  <thead>\n",
       "    <tr style=\"text-align: right;\">\n",
       "      <th></th>\n",
       "      <th>Seating_Capacity</th>\n",
       "      <th>Width</th>\n",
       "      <th>Length</th>\n",
       "      <th>Body_Type</th>\n",
       "      <th>price</th>\n",
       "    </tr>\n",
       "  </thead>\n",
       "  <tbody>\n",
       "    <tr>\n",
       "      <th>Seating_Capacity</th>\n",
       "      <td>1.000000</td>\n",
       "      <td>0.014850</td>\n",
       "      <td>0.125886</td>\n",
       "      <td>0.352538</td>\n",
       "      <td>-0.307150</td>\n",
       "    </tr>\n",
       "    <tr>\n",
       "      <th>Width</th>\n",
       "      <td>0.014850</td>\n",
       "      <td>1.000000</td>\n",
       "      <td>0.793065</td>\n",
       "      <td>0.049171</td>\n",
       "      <td>0.420511</td>\n",
       "    </tr>\n",
       "    <tr>\n",
       "      <th>Length</th>\n",
       "      <td>0.125886</td>\n",
       "      <td>0.793065</td>\n",
       "      <td>1.000000</td>\n",
       "      <td>0.073005</td>\n",
       "      <td>0.401162</td>\n",
       "    </tr>\n",
       "    <tr>\n",
       "      <th>Body_Type</th>\n",
       "      <td>0.352538</td>\n",
       "      <td>0.049171</td>\n",
       "      <td>0.073005</td>\n",
       "      <td>1.000000</td>\n",
       "      <td>-0.280395</td>\n",
       "    </tr>\n",
       "    <tr>\n",
       "      <th>price</th>\n",
       "      <td>-0.307150</td>\n",
       "      <td>0.420511</td>\n",
       "      <td>0.401162</td>\n",
       "      <td>-0.280395</td>\n",
       "      <td>1.000000</td>\n",
       "    </tr>\n",
       "  </tbody>\n",
       "</table>\n",
       "</div>"
      ],
      "text/plain": [
       "                  Seating_Capacity     Width    Length  Body_Type     price\n",
       "Seating_Capacity          1.000000  0.014850  0.125886   0.352538 -0.307150\n",
       "Width                     0.014850  1.000000  0.793065   0.049171  0.420511\n",
       "Length                    0.125886  0.793065  1.000000   0.073005  0.401162\n",
       "Body_Type                 0.352538  0.049171  0.073005   1.000000 -0.280395\n",
       "price                    -0.307150  0.420511  0.401162  -0.280395  1.000000"
      ]
     },
     "execution_count": 14,
     "metadata": {},
     "output_type": "execute_result"
    }
   ],
   "source": [
    "corr=df.corr()\n",
    "corr"
   ]
  },
  {
   "cell_type": "code",
   "execution_count": 15,
   "id": "9567b0cc",
   "metadata": {},
   "outputs": [
    {
     "data": {
      "text/plain": [
       "<AxesSubplot:>"
      ]
     },
     "execution_count": 15,
     "metadata": {},
     "output_type": "execute_result"
    },
    {
     "data": {
      "image/png": "[encoded data removed]",
      "text/plain": [
       "<Figure size 432x288 with 2 Axes>"
      ]
     },
     "metadata": {
      "needs_background": "light"
     },
     "output_type": "display_data"
    }
   ],
   "source": [
    "sns.heatmap(corr, cmap=['red','green','blue'], vmin=-0.5, vmax=0.6, annot=True)"
   ]
  },
  {
   "cell_type": "code",
   "execution_count": 16,
   "id": "4915707e",
   "metadata": {},
   "outputs": [
    {
     "data": {
      "text/html": [
       "<div>\n",
       "<style scoped>\n",
       "    .dataframe tbody tr th:only-of-type {\n",
       "        vertical-align: middle;\n",
       "    }\n",
       "\n",
       "    .dataframe tbody tr th {\n",
       "        vertical-align: top;\n",
       "    }\n",
       "\n",
       "    .dataframe thead th {\n",
       "        text-align: right;\n",
       "    }\n",
       "</style>\n",
       "<table border=\"1\" class=\"dataframe\">\n",
       "  <thead>\n",
       "    <tr style=\"text-align: right;\">\n",
       "      <th></th>\n",
       "      <th>Seating_Capacity</th>\n",
       "      <th>Width</th>\n",
       "      <th>Length</th>\n",
       "      <th>Body_Type</th>\n",
       "      <th>Model</th>\n",
       "      <th>price</th>\n",
       "    </tr>\n",
       "  </thead>\n",
       "  <tbody>\n",
       "    <tr>\n",
       "      <th>0</th>\n",
       "      <td>4.0</td>\n",
       "      <td>1750.0</td>\n",
       "      <td>3164.0</td>\n",
       "      <td>15</td>\n",
       "      <td>Nano Genx</td>\n",
       "      <td>4097.338</td>\n",
       "    </tr>\n",
       "    <tr>\n",
       "      <th>1</th>\n",
       "      <td>4.0</td>\n",
       "      <td>1750.0</td>\n",
       "      <td>3164.0</td>\n",
       "      <td>15</td>\n",
       "      <td>Nano Genx</td>\n",
       "      <td>3310.258</td>\n",
       "    </tr>\n",
       "    <tr>\n",
       "      <th>2</th>\n",
       "      <td>4.0</td>\n",
       "      <td>1750.0</td>\n",
       "      <td>3164.0</td>\n",
       "      <td>15</td>\n",
       "      <td>Nano Genx</td>\n",
       "      <td>4153.254</td>\n",
       "    </tr>\n",
       "    <tr>\n",
       "      <th>3</th>\n",
       "      <td>4.0</td>\n",
       "      <td>1750.0</td>\n",
       "      <td>3164.0</td>\n",
       "      <td>15</td>\n",
       "      <td>Nano Genx</td>\n",
       "      <td>4686.752</td>\n",
       "    </tr>\n",
       "    <tr>\n",
       "      <th>4</th>\n",
       "      <td>4.0</td>\n",
       "      <td>1750.0</td>\n",
       "      <td>3164.0</td>\n",
       "      <td>15</td>\n",
       "      <td>Nano Genx</td>\n",
       "      <td>3811.122</td>\n",
       "    </tr>\n",
       "  </tbody>\n",
       "</table>\n",
       "</div>"
      ],
      "text/plain": [
       "   Seating_Capacity   Width  Length  Body_Type      Model     price\n",
       "0               4.0  1750.0  3164.0         15  Nano Genx  4097.338\n",
       "1               4.0  1750.0  3164.0         15  Nano Genx  3310.258\n",
       "2               4.0  1750.0  3164.0         15  Nano Genx  4153.254\n",
       "3               4.0  1750.0  3164.0         15  Nano Genx  4686.752\n",
       "4               4.0  1750.0  3164.0         15  Nano Genx  3811.122"
      ]
     },
     "execution_count": 16,
     "metadata": {},
     "output_type": "execute_result"
    }
   ],
   "source": [
    "df.head()"
   ]
  },
  {
   "cell_type": "code",
   "execution_count": 17,
   "id": "734f6828",
   "metadata": {},
   "outputs": [],
   "source": [
    "from sklearn.linear_model import LogisticRegression  \n",
    "from sklearn.model_selection import train_test_split \n",
    "from sklearn.neighbors import KNeighborsClassifier  \n",
    "from sklearn import svm  \n",
    "from sklearn import metrics \n",
    "from sklearn.tree import DecisionTreeClassifier \n",
    "from sklearn.linear_model import LinearRegression"
   ]
  },
  {
   "cell_type": "code",
   "execution_count": 18,
   "id": "506ae873",
   "metadata": {},
   "outputs": [
    {
     "name": "stdout",
     "output_type": "stream",
     "text": [
      "(893, 6)\n",
      "(383, 6)\n"
     ]
    }
   ],
   "source": [
    "train, test = train_test_split(df, test_size = 0.3)\n",
    "print(train.shape)\n",
    "print(test.shape)"
   ]
  },
  {
   "cell_type": "code",
   "execution_count": 19,
   "id": "60920076",
   "metadata": {},
   "outputs": [],
   "source": [
    "train_X = train[['price','Body_Type','Seating_Capacity','Length', 'Width']]\n",
    "train_y=train.Model\n",
    "test_X= test[['price','Body_Type','Seating_Capacity','Length', 'Width']]\n",
    "test_y =test.Model"
   ]
  },
  {
   "cell_type": "code",
   "execution_count": 20,
   "id": "133da04e",
   "metadata": {},
   "outputs": [],
   "source": [
    "model = svm.SVC() \n",
    "model.fit(train_X,train_y) \n",
    "prediction=model.predict(test_X)"
   ]
  },
  {
   "cell_type": "code",
   "execution_count": 21,
   "id": "600d96dd",
   "metadata": {},
   "outputs": [
    {
     "name": "stdout",
     "output_type": "stream",
     "text": [
      "The accuracy of the SVM is: 0.0391644908616188\n"
     ]
    }
   ],
   "source": [
    "print('The accuracy of the SVM is:',metrics.accuracy_score(prediction,test_y))"
   ]
  },
  {
   "cell_type": "code",
   "execution_count": 22,
   "id": "e712837f",
   "metadata": {},
   "outputs": [],
   "source": [
    "import pickle\n",
    "pickle.dump(model, open('buy01.pkl','wb'))"
   ]
  }
 ],
 "metadata": {
  "kernelspec": {
   "display_name": "Python 3",
   "language": "python",
   "name": "python3"
  },
  "language_info": {
   "codemirror_mode": {
    "name": "ipython",
    "version": 3
   },
   "file_extension": ".py",
   "mimetype": "text/x-python",
   "name": "python",
   "nbconvert_exporter": "python",
   "pygments_lexer": "ipython3",
   "version": "3.8.8"
  }
 },
 "nbformat": 4,
 "nbformat_minor": 5
}
